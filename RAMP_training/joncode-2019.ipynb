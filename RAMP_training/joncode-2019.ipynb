{
 "cells": [
  {
   "cell_type": "code",
   "execution_count": 12,
   "metadata": {
    "execution": {
     "iopub.execute_input": "2021-08-19T03:23:00.411954Z",
     "iopub.status.busy": "2021-08-19T03:23:00.411954Z",
     "iopub.status.idle": "2021-08-19T03:23:00.427578Z",
     "shell.execute_reply": "2021-08-19T03:23:00.427578Z",
     "shell.execute_reply.started": "2021-08-19T03:23:00.411954Z"
    }
   },
   "outputs": [
    {
     "data": {
      "text/plain": [
       "'D:\\\\Documents\\\\PycharmProjects\\\\LEADING-RAMP'"
      ]
     },
     "execution_count": 12,
     "metadata": {},
     "output_type": "execute_result"
    }
   ],
   "source": [
    "import os\n",
    "os.getcwd()"
   ]
  },
  {
   "cell_type": "markdown",
   "metadata": {},
   "source": [
    "Script from Jon (modify file path to datasets) "
   ]
  },
  {
   "cell_type": "code",
   "execution_count": 13,
   "metadata": {
    "execution": {
     "iopub.execute_input": "2021-08-19T03:23:00.427578Z",
     "iopub.status.busy": "2021-08-19T03:23:00.427578Z",
     "iopub.status.idle": "2021-08-19T03:23:00.443200Z",
     "shell.execute_reply": "2021-08-19T03:23:00.443200Z",
     "shell.execute_reply.started": "2021-08-19T03:23:00.427578Z"
    }
   },
   "outputs": [],
   "source": [
    "import pandas as pd\n",
    "from zipfile import ZipFile\n",
    "import glob"
   ]
  },
  {
   "cell_type": "code",
   "execution_count": 14,
   "metadata": {
    "execution": {
     "iopub.execute_input": "2021-08-19T03:23:00.443200Z",
     "iopub.status.busy": "2021-08-19T03:23:00.443200Z",
     "iopub.status.idle": "2021-08-19T03:23:00.458821Z",
     "shell.execute_reply": "2021-08-19T03:23:00.458821Z",
     "shell.execute_reply.started": "2021-08-19T03:23:00.443200Z"
    }
   },
   "outputs": [],
   "source": [
    "def extract_subset_ramp_data(zip_file, ir_repo_id):\n",
    "    \"\"\"This function tries to conserve memory by opening zipped RAMP monthly\n",
    "       data files one at a time and subsetting the data to a single repository's\n",
    "       data for that month, prior to further processing or aggregation.\n",
    "\n",
    "    Parameters\n",
    "    ----------\n",
    "\n",
    "    zip_file:\n",
    "        String. A file path pointing to a zip file.\n",
    "\n",
    "    ir_repo_id:\n",
    "        String. A locally unique repository identifier which will be used to\n",
    "        subset the unzipped data.\n",
    "\n",
    "    Returns\n",
    "    -------\n",
    "\n",
    "    ir_data:\n",
    "        A Pandas dataframe. The subset of RAMP data for the specified\n",
    "        repository and month.\n",
    "\n",
    "    \"\"\"\n",
    "    with ZipFile(zip_file) as rampzip:\n",
    "        with rampzip.open(rampzip.namelist()[0]) as rampfile:\n",
    "            ramp_df = pd.read_csv(rampfile)\n",
    "    ir_data = ramp_df[ramp_df[\"repository_id\"] == ir_repo_id].copy()\n",
    "    return ir_data\n"
   ]
  },
  {
   "cell_type": "code",
   "execution_count": 15,
   "metadata": {
    "execution": {
     "iopub.execute_input": "2021-08-19T03:23:00.458821Z",
     "iopub.status.busy": "2021-08-19T03:23:00.458821Z",
     "iopub.status.idle": "2021-08-19T03:23:00.474442Z",
     "shell.execute_reply": "2021-08-19T03:23:00.474442Z",
     "shell.execute_reply.started": "2021-08-19T03:23:00.458821Z"
    }
   },
   "outputs": [],
   "source": [
    "def get_ir_data(ir_repo_id, cols, file_list):\n",
    "    \"\"\"This function iterates through a list of zipped RAMP data files to\n",
    "       aggregate a subset of complete RAMP data for a single IR. Creates\n",
    "       an empty Pandas dataframe and then appends monthly data to it.\n",
    "\n",
    "    Parameters\n",
    "    ----------\n",
    "\n",
    "    ir_repo_id:\n",
    "        String. A locally unique repository identifier, designating the\n",
    "        repository whose data will be aggregated.\n",
    "\n",
    "    cols:\n",
    "        List. Column names to be used in the empty dataframe. Appended data will\n",
    "        have the same columns by default.\n",
    "\n",
    "    file_list:\n",
    "        List. File paths to monthly RAMP data in zipped format.\n",
    "\n",
    "    Returns\n",
    "    -------\n",
    "\n",
    "    ir_data:\n",
    "        A Pandas dataframe. The aggregated RAMP data for the specified IR\n",
    "        across all months included in the file_list.\n",
    "\n",
    "    \"\"\"\n",
    "    ir_data = pd.DataFrame(columns=cols)\n",
    "    # append data from each month\n",
    "    for mo_data in file_list:\n",
    "        print(mo_data)\n",
    "        ir_data = ir_data.append(extract_subset_ramp_data(mo_data, ir_repo_id))\n",
    "    return ir_data"
   ]
  },
  {
   "cell_type": "code",
   "execution_count": 16,
   "metadata": {
    "execution": {
     "iopub.execute_input": "2021-08-19T03:23:00.474442Z",
     "iopub.status.busy": "2021-08-19T03:23:00.474442Z",
     "iopub.status.idle": "2021-08-19T03:23:00.490067Z",
     "shell.execute_reply": "2021-08-19T03:23:00.490067Z",
     "shell.execute_reply.started": "2021-08-19T03:23:00.474442Z"
    }
   },
   "outputs": [],
   "source": [
    "def get_v1_data(ir_repo_id):\n",
    "    \"\"\"This function aggregates all RAMP data that was harvested for a single IR\n",
    "       between January 1, 2017 and August 18, 2018 (\"v1\" data). Column names\n",
    "       for those data are hard coded. A list of data files is also generated.\n",
    "\n",
    "       TODO: It may be useful to remove this function and subset the v1\n",
    "       data for each month as part of the v2 aggregations. Leaving it for\n",
    "       now in case we want the option to store/save v1 data by itself.\n",
    "\n",
    "    Parameters\n",
    "    ----------\n",
    "\n",
    "    ir_repo_id:\n",
    "        String. A locally unique repository identifier, designating the\n",
    "        repository whose data will be aggregated.\n",
    "\n",
    "    Returns\n",
    "    -------\n",
    "\n",
    "    ir_v1_data:\n",
    "        A Pandas dataframe. The aggregated RAMP \"v1\" data for the specified IR\n",
    "        across all months included in the all_data_file_list.\n",
    "    \"\"\"\n",
    "    all_cols = ['citableContent', 'clickThrough', 'clicks', 'country', 'date',\n",
    "                'device', 'impressions', 'index', 'position', 'url',\n",
    "                'repository_id']    \n",
    "    \n",
    "    all_data_file_list = glob.glob(\"D:/Documents/PycharmProjects/LEADING-RAMP/ir_data/Ramp2019/*all.zip\")\n",
    "    ir_v1_data = get_ir_data(ir_repo_id, all_cols, all_data_file_list)\n",
    "    return ir_v1_data\n"
   ]
  },
  {
   "cell_type": "code",
   "execution_count": 17,
   "metadata": {
    "execution": {
     "iopub.execute_input": "2021-08-19T03:23:00.490067Z",
     "iopub.status.busy": "2021-08-19T03:23:00.490067Z",
     "iopub.status.idle": "2021-08-19T03:23:00.505688Z",
     "shell.execute_reply": "2021-08-19T03:23:00.505688Z",
     "shell.execute_reply.started": "2021-08-19T03:23:00.490067Z"
    }
   },
   "outputs": [],
   "source": [
    "def get_v2_pc_data(ir_repo_id):\n",
    "    \"\"\"This function aggregates all RAMP page click data harvested for a single\n",
    "       IR since August 19, 2018 (\"v2\" data). Column names for those data are\n",
    "       hard coded. A list of data files is also generated.\n",
    "\n",
    "    Parameters\n",
    "    ----------\n",
    "\n",
    "    ir_repo_id:\n",
    "        String. A locally unique repository identifier, designating the\n",
    "        repository whose data will be aggregated.\n",
    "\n",
    "    Returns\n",
    "    -------\n",
    "\n",
    "    ir_v2_pc_data:\n",
    "        A Pandas dataframe. The aggregated RAMP page clicks data for the\n",
    "        specified IR across all months included in the pageclick_data_file_list.\n",
    "    \"\"\"\n",
    "    pageclick_cols = ['citableContent', 'clickThrough', 'clicks', 'date',\n",
    "                      'impressions', 'index', 'position', 'url',\n",
    "                      'repository_id']\n",
    "    pageclick_data_file_list = glob.glob(\"D:/Documents/PycharmProjects/LEADING-RAMP/ir_data/Ramp2019/*all_page-clicks.zip\")\n",
    "    ir_v2_pc_data = get_ir_data(ir_repo_id, pageclick_cols,\n",
    "                                pageclick_data_file_list)\n",
    "    return ir_v2_pc_data"
   ]
  },
  {
   "cell_type": "code",
   "execution_count": 18,
   "metadata": {
    "execution": {
     "iopub.execute_input": "2021-08-19T03:23:00.505688Z",
     "iopub.status.busy": "2021-08-19T03:23:00.505688Z",
     "iopub.status.idle": "2021-08-19T03:23:00.527830Z",
     "shell.execute_reply": "2021-08-19T03:23:00.527830Z",
     "shell.execute_reply.started": "2021-08-19T03:23:00.505688Z"
    }
   },
   "outputs": [],
   "source": [
    "def concat_ramp_versions(v1_data, v2_data):\n",
    "    subset_cols = list(v2_data.columns.values)\n",
    "    v1_subset = v1_data[subset_cols].copy()\n",
    "    v1_v2_concatenated = pd.concat([v1_subset, v2_data], ignore_index=True)\n",
    "    return v1_v2_concatenated"
   ]
  },
  {
   "cell_type": "code",
   "execution_count": 19,
   "metadata": {
    "execution": {
     "iopub.execute_input": "2021-08-19T03:23:00.527830Z",
     "iopub.status.busy": "2021-08-19T03:23:00.527830Z",
     "iopub.status.idle": "2021-08-19T03:23:00.543450Z",
     "shell.execute_reply": "2021-08-19T03:23:00.543450Z",
     "shell.execute_reply.started": "2021-08-19T03:23:00.527830Z"
    }
   },
   "outputs": [],
   "source": [
    "def process_repo(ir_repo_id):\n",
    "    \"\"\"This is basically a workflow function that calls all the other functions.\n",
    "\n",
    "    Parameters\n",
    "    ----------\n",
    "\n",
    "    ir_repo_id:\n",
    "       String. A locally unique identifier for the repository whose data will\n",
    "       be aggregated.\n",
    "\n",
    "    Returns\n",
    "    -------\n",
    "\n",
    "    ir_complete_pc_data:\n",
    "       A Pandas dataframe. The aggregated page click data across all the\n",
    "       years/months specified for the specified repository.\n",
    "\n",
    "    ir_complete_ai_data:\n",
    "       A Pandas dataframe. The aggreated country/device data across all the\n",
    "       years/months specified for the specified repository.\n",
    "\n",
    "    \"\"\"\n",
    "    ir_v1_data = get_v1_data(ir_repo_id)\n",
    "    ir_v2_pc_data = get_v2_pc_data(ir_repo_id)\n",
    "    #ir_v2_ai_data = get_v2_ai_data(ir_repo_id)\n",
    "    ir_complete_pc_data = concat_ramp_versions(ir_v1_data, ir_v2_pc_data)\n",
    "    #ir_complete_ai_data = concat_ramp_versions(ir_v1_data, ir_v2_ai_data)\n",
    "    return ir_complete_pc_data #, ir_complete_ai_data"
   ]
  },
  {
   "cell_type": "code",
   "execution_count": 20,
   "metadata": {
    "execution": {
     "iopub.execute_input": "2021-08-19T03:23:00.543450Z",
     "iopub.status.busy": "2021-08-19T03:23:00.543450Z",
     "iopub.status.idle": "2021-08-19T03:26:12.621539Z",
     "shell.execute_reply": "2021-08-19T03:26:12.621539Z",
     "shell.execute_reply.started": "2021-08-19T03:23:00.543450Z"
    }
   },
   "outputs": [
    {
     "name": "stdout",
     "output_type": "stream",
     "text": [
      "D:/Documents/PycharmProjects/LEADING-RAMP/ir_data/Ramp2019\\2019-01_RAMP_all_page-clicks.zip\n",
      "D:/Documents/PycharmProjects/LEADING-RAMP/ir_data/Ramp2019\\2019-02_RAMP_all_page-clicks.zip\n",
      "D:/Documents/PycharmProjects/LEADING-RAMP/ir_data/Ramp2019\\2019-03_RAMP_all_page-clicks.zip\n",
      "D:/Documents/PycharmProjects/LEADING-RAMP/ir_data/Ramp2019\\2019-04_RAMP_all_page-clicks.zip\n",
      "D:/Documents/PycharmProjects/LEADING-RAMP/ir_data/Ramp2019\\2019-05_RAMP_all_page-clicks.zip\n",
      "D:/Documents/PycharmProjects/LEADING-RAMP/ir_data/Ramp2019\\2019-06_RAMP_all_page-clicks.zip\n",
      "D:/Documents/PycharmProjects/LEADING-RAMP/ir_data/Ramp2019\\2019-07_RAMP_all_page-clicks.zip\n",
      "D:/Documents/PycharmProjects/LEADING-RAMP/ir_data/Ramp2019\\2019-08_RAMP_all_page-clicks.zip\n",
      "D:/Documents/PycharmProjects/LEADING-RAMP/ir_data/Ramp2019\\2019-09_RAMP_all_page-clicks.zip\n",
      "D:/Documents/PycharmProjects/LEADING-RAMP/ir_data/Ramp2019\\2019-10_RAMP_all_page-clicks.zip\n",
      "D:/Documents/PycharmProjects/LEADING-RAMP/ir_data/Ramp2019\\2019-11_RAMP_all_page-clicks.zip\n",
      "D:/Documents/PycharmProjects/LEADING-RAMP/ir_data/Ramp2019\\2019-12_RAMP_all_page-clicks.zip\n"
     ]
    }
   ],
   "source": [
    "msu_pc_2019 = process_repo(\"montana_state_university\")"
   ]
  },
  {
   "cell_type": "code",
   "execution_count": 21,
   "metadata": {
    "execution": {
     "iopub.execute_input": "2021-08-19T03:26:12.621539Z",
     "iopub.status.busy": "2021-08-19T03:26:12.621539Z",
     "iopub.status.idle": "2021-08-19T03:26:12.652792Z",
     "shell.execute_reply": "2021-08-19T03:26:12.652792Z",
     "shell.execute_reply.started": "2021-08-19T03:26:12.621539Z"
    }
   },
   "outputs": [
    {
     "data": {
      "text/html": [
       "<div>\n",
       "<style scoped>\n",
       "    .dataframe tbody tr th:only-of-type {\n",
       "        vertical-align: middle;\n",
       "    }\n",
       "\n",
       "    .dataframe tbody tr th {\n",
       "        vertical-align: top;\n",
       "    }\n",
       "\n",
       "    .dataframe thead th {\n",
       "        text-align: right;\n",
       "    }\n",
       "</style>\n",
       "<table border=\"1\" class=\"dataframe\">\n",
       "  <thead>\n",
       "    <tr style=\"text-align: right;\">\n",
       "      <th></th>\n",
       "      <th>citableContent</th>\n",
       "      <th>clickThrough</th>\n",
       "      <th>clicks</th>\n",
       "      <th>date</th>\n",
       "      <th>impressions</th>\n",
       "      <th>index</th>\n",
       "      <th>position</th>\n",
       "      <th>url</th>\n",
       "      <th>repository_id</th>\n",
       "    </tr>\n",
       "  </thead>\n",
       "  <tbody>\n",
       "    <tr>\n",
       "      <th>0</th>\n",
       "      <td>No</td>\n",
       "      <td>0.000000</td>\n",
       "      <td>0.0</td>\n",
       "      <td>2019-01-04</td>\n",
       "      <td>1.0</td>\n",
       "      <td>montana_page_clicks</td>\n",
       "      <td>51.000000</td>\n",
       "      <td>https://scholarworks.montana.edu/xmlui/handle/...</td>\n",
       "      <td>montana_state_university</td>\n",
       "    </tr>\n",
       "    <tr>\n",
       "      <th>1</th>\n",
       "      <td>Yes</td>\n",
       "      <td>0.000000</td>\n",
       "      <td>0.0</td>\n",
       "      <td>2019-01-06</td>\n",
       "      <td>4.0</td>\n",
       "      <td>montana_page_clicks</td>\n",
       "      <td>63.000000</td>\n",
       "      <td>https://scholarworks.montana.edu/xmlui/bitstre...</td>\n",
       "      <td>montana_state_university</td>\n",
       "    </tr>\n",
       "    <tr>\n",
       "      <th>2</th>\n",
       "      <td>Yes</td>\n",
       "      <td>0.000000</td>\n",
       "      <td>0.0</td>\n",
       "      <td>2019-01-08</td>\n",
       "      <td>36.0</td>\n",
       "      <td>montana_page_clicks</td>\n",
       "      <td>87.777778</td>\n",
       "      <td>https://scholarworks.montana.edu/xmlui/bitstre...</td>\n",
       "      <td>montana_state_university</td>\n",
       "    </tr>\n",
       "    <tr>\n",
       "      <th>3</th>\n",
       "      <td>Yes</td>\n",
       "      <td>0.105263</td>\n",
       "      <td>2.0</td>\n",
       "      <td>2019-01-09</td>\n",
       "      <td>19.0</td>\n",
       "      <td>montana_page_clicks</td>\n",
       "      <td>10.894737</td>\n",
       "      <td>https://scholarworks.montana.edu/xmlui/bitstre...</td>\n",
       "      <td>montana_state_university</td>\n",
       "    </tr>\n",
       "    <tr>\n",
       "      <th>4</th>\n",
       "      <td>Yes</td>\n",
       "      <td>0.000000</td>\n",
       "      <td>0.0</td>\n",
       "      <td>2019-01-06</td>\n",
       "      <td>2.0</td>\n",
       "      <td>montana_page_clicks</td>\n",
       "      <td>24.000000</td>\n",
       "      <td>https://scholarworks.montana.edu/xmlui/bitstre...</td>\n",
       "      <td>montana_state_university</td>\n",
       "    </tr>\n",
       "    <tr>\n",
       "      <th>...</th>\n",
       "      <td>...</td>\n",
       "      <td>...</td>\n",
       "      <td>...</td>\n",
       "      <td>...</td>\n",
       "      <td>...</td>\n",
       "      <td>...</td>\n",
       "      <td>...</td>\n",
       "      <td>...</td>\n",
       "      <td>...</td>\n",
       "    </tr>\n",
       "    <tr>\n",
       "      <th>1707663</th>\n",
       "      <td>No</td>\n",
       "      <td>0.000000</td>\n",
       "      <td>0.0</td>\n",
       "      <td>2019-12-25</td>\n",
       "      <td>9.0</td>\n",
       "      <td>montana_page_clicks</td>\n",
       "      <td>61.111111</td>\n",
       "      <td>https://scholarworks.montana.edu/xmlui/handle/...</td>\n",
       "      <td>montana_state_university</td>\n",
       "    </tr>\n",
       "    <tr>\n",
       "      <th>1707664</th>\n",
       "      <td>No</td>\n",
       "      <td>0.000000</td>\n",
       "      <td>0.0</td>\n",
       "      <td>2019-12-25</td>\n",
       "      <td>1.0</td>\n",
       "      <td>montana_page_clicks</td>\n",
       "      <td>68.000000</td>\n",
       "      <td>https://scholarworks.montana.edu/xmlui/handle/...</td>\n",
       "      <td>montana_state_university</td>\n",
       "    </tr>\n",
       "    <tr>\n",
       "      <th>1707665</th>\n",
       "      <td>No</td>\n",
       "      <td>0.000000</td>\n",
       "      <td>0.0</td>\n",
       "      <td>2019-12-25</td>\n",
       "      <td>1.0</td>\n",
       "      <td>montana_page_clicks</td>\n",
       "      <td>93.000000</td>\n",
       "      <td>https://scholarworks.montana.edu/xmlui/handle/...</td>\n",
       "      <td>montana_state_university</td>\n",
       "    </tr>\n",
       "    <tr>\n",
       "      <th>1707666</th>\n",
       "      <td>No</td>\n",
       "      <td>0.000000</td>\n",
       "      <td>0.0</td>\n",
       "      <td>2019-12-25</td>\n",
       "      <td>1.0</td>\n",
       "      <td>montana_page_clicks</td>\n",
       "      <td>39.000000</td>\n",
       "      <td>https://scholarworks.montana.edu/xmlui/recent-...</td>\n",
       "      <td>montana_state_university</td>\n",
       "    </tr>\n",
       "    <tr>\n",
       "      <th>1707667</th>\n",
       "      <td>No</td>\n",
       "      <td>0.000000</td>\n",
       "      <td>0.0</td>\n",
       "      <td>2019-12-25</td>\n",
       "      <td>1.0</td>\n",
       "      <td>montana_page_clicks</td>\n",
       "      <td>69.000000</td>\n",
       "      <td>https://scholarworks.montana.edu/xmlui/recent-...</td>\n",
       "      <td>montana_state_university</td>\n",
       "    </tr>\n",
       "  </tbody>\n",
       "</table>\n",
       "<p>1707668 rows × 9 columns</p>\n",
       "</div>"
      ],
      "text/plain": [
       "        citableContent  clickThrough  clicks        date  impressions  \\\n",
       "0                   No      0.000000     0.0  2019-01-04          1.0   \n",
       "1                  Yes      0.000000     0.0  2019-01-06          4.0   \n",
       "2                  Yes      0.000000     0.0  2019-01-08         36.0   \n",
       "3                  Yes      0.105263     2.0  2019-01-09         19.0   \n",
       "4                  Yes      0.000000     0.0  2019-01-06          2.0   \n",
       "...                ...           ...     ...         ...          ...   \n",
       "1707663             No      0.000000     0.0  2019-12-25          9.0   \n",
       "1707664             No      0.000000     0.0  2019-12-25          1.0   \n",
       "1707665             No      0.000000     0.0  2019-12-25          1.0   \n",
       "1707666             No      0.000000     0.0  2019-12-25          1.0   \n",
       "1707667             No      0.000000     0.0  2019-12-25          1.0   \n",
       "\n",
       "                       index   position  \\\n",
       "0        montana_page_clicks  51.000000   \n",
       "1        montana_page_clicks  63.000000   \n",
       "2        montana_page_clicks  87.777778   \n",
       "3        montana_page_clicks  10.894737   \n",
       "4        montana_page_clicks  24.000000   \n",
       "...                      ...        ...   \n",
       "1707663  montana_page_clicks  61.111111   \n",
       "1707664  montana_page_clicks  68.000000   \n",
       "1707665  montana_page_clicks  93.000000   \n",
       "1707666  montana_page_clicks  39.000000   \n",
       "1707667  montana_page_clicks  69.000000   \n",
       "\n",
       "                                                       url  \\\n",
       "0        https://scholarworks.montana.edu/xmlui/handle/...   \n",
       "1        https://scholarworks.montana.edu/xmlui/bitstre...   \n",
       "2        https://scholarworks.montana.edu/xmlui/bitstre...   \n",
       "3        https://scholarworks.montana.edu/xmlui/bitstre...   \n",
       "4        https://scholarworks.montana.edu/xmlui/bitstre...   \n",
       "...                                                    ...   \n",
       "1707663  https://scholarworks.montana.edu/xmlui/handle/...   \n",
       "1707664  https://scholarworks.montana.edu/xmlui/handle/...   \n",
       "1707665  https://scholarworks.montana.edu/xmlui/handle/...   \n",
       "1707666  https://scholarworks.montana.edu/xmlui/recent-...   \n",
       "1707667  https://scholarworks.montana.edu/xmlui/recent-...   \n",
       "\n",
       "                    repository_id  \n",
       "0        montana_state_university  \n",
       "1        montana_state_university  \n",
       "2        montana_state_university  \n",
       "3        montana_state_university  \n",
       "4        montana_state_university  \n",
       "...                           ...  \n",
       "1707663  montana_state_university  \n",
       "1707664  montana_state_university  \n",
       "1707665  montana_state_university  \n",
       "1707666  montana_state_university  \n",
       "1707667  montana_state_university  \n",
       "\n",
       "[1707668 rows x 9 columns]"
      ]
     },
     "execution_count": 21,
     "metadata": {},
     "output_type": "execute_result"
    }
   ],
   "source": [
    "msu_pc_2019 "
   ]
  },
  {
   "cell_type": "code",
   "execution_count": 22,
   "metadata": {
    "execution": {
     "iopub.execute_input": "2021-08-19T03:26:12.652792Z",
     "iopub.status.busy": "2021-08-19T03:26:12.652792Z",
     "iopub.status.idle": "2021-08-19T03:26:21.552315Z",
     "shell.execute_reply": "2021-08-19T03:26:21.552315Z",
     "shell.execute_reply.started": "2021-08-19T03:26:12.652792Z"
    }
   },
   "outputs": [],
   "source": [
    "msu_pc_2019.to_csv(\"D://Documents//PycharmProjects//LEADING-RAMP//ir_data//Ramp2019//Export/msu_pc_2019.csv\", header = True)"
   ]
  },
  {
   "cell_type": "code",
   "execution_count": 23,
   "metadata": {
    "execution": {
     "iopub.execute_input": "2021-08-19T03:42:07.200483Z",
     "iopub.status.busy": "2021-08-19T03:42:07.200483Z",
     "iopub.status.idle": "2021-08-19T03:45:19.501113Z",
     "shell.execute_reply": "2021-08-19T03:45:19.501113Z",
     "shell.execute_reply.started": "2021-08-19T03:42:07.200483Z"
    }
   },
   "outputs": [
    {
     "name": "stdout",
     "output_type": "stream",
     "text": [
      "D:/Documents/PycharmProjects/LEADING-RAMP/ir_data/Ramp2019\\2019-01_RAMP_all_page-clicks.zip\n",
      "D:/Documents/PycharmProjects/LEADING-RAMP/ir_data/Ramp2019\\2019-02_RAMP_all_page-clicks.zip\n",
      "D:/Documents/PycharmProjects/LEADING-RAMP/ir_data/Ramp2019\\2019-03_RAMP_all_page-clicks.zip\n",
      "D:/Documents/PycharmProjects/LEADING-RAMP/ir_data/Ramp2019\\2019-04_RAMP_all_page-clicks.zip\n",
      "D:/Documents/PycharmProjects/LEADING-RAMP/ir_data/Ramp2019\\2019-05_RAMP_all_page-clicks.zip\n",
      "D:/Documents/PycharmProjects/LEADING-RAMP/ir_data/Ramp2019\\2019-06_RAMP_all_page-clicks.zip\n",
      "D:/Documents/PycharmProjects/LEADING-RAMP/ir_data/Ramp2019\\2019-07_RAMP_all_page-clicks.zip\n",
      "D:/Documents/PycharmProjects/LEADING-RAMP/ir_data/Ramp2019\\2019-08_RAMP_all_page-clicks.zip\n",
      "D:/Documents/PycharmProjects/LEADING-RAMP/ir_data/Ramp2019\\2019-09_RAMP_all_page-clicks.zip\n",
      "D:/Documents/PycharmProjects/LEADING-RAMP/ir_data/Ramp2019\\2019-10_RAMP_all_page-clicks.zip\n",
      "D:/Documents/PycharmProjects/LEADING-RAMP/ir_data/Ramp2019\\2019-11_RAMP_all_page-clicks.zip\n",
      "D:/Documents/PycharmProjects/LEADING-RAMP/ir_data/Ramp2019\\2019-12_RAMP_all_page-clicks.zip\n"
     ]
    }
   ],
   "source": [
    "boston_pc_2019 = process_repo(\"boston_university\")"
   ]
  },
  {
   "cell_type": "code",
   "execution_count": 24,
   "metadata": {
    "execution": {
     "iopub.execute_input": "2021-08-19T03:50:49.512299Z",
     "iopub.status.busy": "2021-08-19T03:50:49.512299Z",
     "iopub.status.idle": "2021-08-19T03:51:00.643080Z",
     "shell.execute_reply": "2021-08-19T03:51:00.643080Z",
     "shell.execute_reply.started": "2021-08-19T03:50:49.512299Z"
    }
   },
   "outputs": [],
   "source": [
    "boston_pc_2019.to_csv(\"D://Documents//PycharmProjects//LEADING-RAMP//ir_data//Ramp2019//Export/boston_pc_2019.csv\", header = True)"
   ]
  },
  {
   "cell_type": "code",
   "execution_count": 25,
   "metadata": {
    "execution": {
     "iopub.execute_input": "2021-08-19T03:51:00.643080Z",
     "iopub.status.busy": "2021-08-19T03:51:00.643080Z",
     "iopub.status.idle": "2021-08-19T03:57:33.394260Z",
     "shell.execute_reply": "2021-08-19T03:57:33.394260Z",
     "shell.execute_reply.started": "2021-08-19T03:51:00.643080Z"
    }
   },
   "outputs": [
    {
     "name": "stdout",
     "output_type": "stream",
     "text": [
      "D:/Documents/PycharmProjects/LEADING-RAMP/ir_data/Ramp2019\\2019-01_RAMP_all_page-clicks.zip\n",
      "D:/Documents/PycharmProjects/LEADING-RAMP/ir_data/Ramp2019\\2019-02_RAMP_all_page-clicks.zip\n",
      "D:/Documents/PycharmProjects/LEADING-RAMP/ir_data/Ramp2019\\2019-03_RAMP_all_page-clicks.zip\n",
      "D:/Documents/PycharmProjects/LEADING-RAMP/ir_data/Ramp2019\\2019-04_RAMP_all_page-clicks.zip\n",
      "D:/Documents/PycharmProjects/LEADING-RAMP/ir_data/Ramp2019\\2019-05_RAMP_all_page-clicks.zip\n",
      "D:/Documents/PycharmProjects/LEADING-RAMP/ir_data/Ramp2019\\2019-06_RAMP_all_page-clicks.zip\n",
      "D:/Documents/PycharmProjects/LEADING-RAMP/ir_data/Ramp2019\\2019-07_RAMP_all_page-clicks.zip\n",
      "D:/Documents/PycharmProjects/LEADING-RAMP/ir_data/Ramp2019\\2019-08_RAMP_all_page-clicks.zip\n",
      "D:/Documents/PycharmProjects/LEADING-RAMP/ir_data/Ramp2019\\2019-09_RAMP_all_page-clicks.zip\n",
      "D:/Documents/PycharmProjects/LEADING-RAMP/ir_data/Ramp2019\\2019-10_RAMP_all_page-clicks.zip\n",
      "D:/Documents/PycharmProjects/LEADING-RAMP/ir_data/Ramp2019\\2019-11_RAMP_all_page-clicks.zip\n",
      "D:/Documents/PycharmProjects/LEADING-RAMP/ir_data/Ramp2019\\2019-12_RAMP_all_page-clicks.zip\n",
      "D:/Documents/PycharmProjects/LEADING-RAMP/ir_data/Ramp2019\\2019-01_RAMP_all_page-clicks.zip\n",
      "D:/Documents/PycharmProjects/LEADING-RAMP/ir_data/Ramp2019\\2019-02_RAMP_all_page-clicks.zip\n",
      "D:/Documents/PycharmProjects/LEADING-RAMP/ir_data/Ramp2019\\2019-03_RAMP_all_page-clicks.zip\n",
      "D:/Documents/PycharmProjects/LEADING-RAMP/ir_data/Ramp2019\\2019-04_RAMP_all_page-clicks.zip\n",
      "D:/Documents/PycharmProjects/LEADING-RAMP/ir_data/Ramp2019\\2019-05_RAMP_all_page-clicks.zip\n",
      "D:/Documents/PycharmProjects/LEADING-RAMP/ir_data/Ramp2019\\2019-06_RAMP_all_page-clicks.zip\n",
      "D:/Documents/PycharmProjects/LEADING-RAMP/ir_data/Ramp2019\\2019-07_RAMP_all_page-clicks.zip\n",
      "D:/Documents/PycharmProjects/LEADING-RAMP/ir_data/Ramp2019\\2019-08_RAMP_all_page-clicks.zip\n",
      "D:/Documents/PycharmProjects/LEADING-RAMP/ir_data/Ramp2019\\2019-09_RAMP_all_page-clicks.zip\n",
      "D:/Documents/PycharmProjects/LEADING-RAMP/ir_data/Ramp2019\\2019-10_RAMP_all_page-clicks.zip\n",
      "D:/Documents/PycharmProjects/LEADING-RAMP/ir_data/Ramp2019\\2019-11_RAMP_all_page-clicks.zip\n",
      "D:/Documents/PycharmProjects/LEADING-RAMP/ir_data/Ramp2019\\2019-12_RAMP_all_page-clicks.zip\n"
     ]
    }
   ],
   "source": [
    "caltech_a_pc_2019 = process_repo(\"california_tech_authors\")\n",
    "caltech_t_pc_2019 = process_repo(\"california_tech_thesis\")"
   ]
  },
  {
   "cell_type": "code",
   "execution_count": 26,
   "metadata": {
    "execution": {
     "iopub.execute_input": "2021-08-19T03:59:17.732450Z",
     "iopub.status.busy": "2021-08-19T03:59:17.732450Z",
     "iopub.status.idle": "2021-08-19T03:59:49.520823Z",
     "shell.execute_reply": "2021-08-19T03:59:49.520823Z",
     "shell.execute_reply.started": "2021-08-19T03:59:17.732450Z"
    }
   },
   "outputs": [],
   "source": [
    "caltech_a_pc_2019.to_csv(\"D://Documents//PycharmProjects//LEADING-RAMP//ir_data//Ramp2019//Export/caltech_a_pc_2019.csv\", header = True)\n",
    "caltech_t_pc_2019.to_csv(\"D://Documents//PycharmProjects//LEADING-RAMP//ir_data//Ramp2019//Export/caltech_t_pc_2019.csv\", header = True)"
   ]
  },
  {
   "cell_type": "code",
   "execution_count": 27,
   "metadata": {
    "execution": {
     "iopub.execute_input": "2021-08-19T03:59:49.520823Z",
     "iopub.status.busy": "2021-08-19T03:59:49.520823Z",
     "iopub.status.idle": "2021-08-19T04:03:06.400915Z",
     "shell.execute_reply": "2021-08-19T04:03:06.400915Z",
     "shell.execute_reply.started": "2021-08-19T03:59:49.520823Z"
    }
   },
   "outputs": [
    {
     "name": "stdout",
     "output_type": "stream",
     "text": [
      "D:/Documents/PycharmProjects/LEADING-RAMP/ir_data/Ramp2019\\2019-01_RAMP_all_page-clicks.zip\n",
      "D:/Documents/PycharmProjects/LEADING-RAMP/ir_data/Ramp2019\\2019-02_RAMP_all_page-clicks.zip\n",
      "D:/Documents/PycharmProjects/LEADING-RAMP/ir_data/Ramp2019\\2019-03_RAMP_all_page-clicks.zip\n",
      "D:/Documents/PycharmProjects/LEADING-RAMP/ir_data/Ramp2019\\2019-04_RAMP_all_page-clicks.zip\n",
      "D:/Documents/PycharmProjects/LEADING-RAMP/ir_data/Ramp2019\\2019-05_RAMP_all_page-clicks.zip\n",
      "D:/Documents/PycharmProjects/LEADING-RAMP/ir_data/Ramp2019\\2019-06_RAMP_all_page-clicks.zip\n",
      "D:/Documents/PycharmProjects/LEADING-RAMP/ir_data/Ramp2019\\2019-07_RAMP_all_page-clicks.zip\n",
      "D:/Documents/PycharmProjects/LEADING-RAMP/ir_data/Ramp2019\\2019-08_RAMP_all_page-clicks.zip\n",
      "D:/Documents/PycharmProjects/LEADING-RAMP/ir_data/Ramp2019\\2019-09_RAMP_all_page-clicks.zip\n",
      "D:/Documents/PycharmProjects/LEADING-RAMP/ir_data/Ramp2019\\2019-10_RAMP_all_page-clicks.zip\n",
      "D:/Documents/PycharmProjects/LEADING-RAMP/ir_data/Ramp2019\\2019-11_RAMP_all_page-clicks.zip\n",
      "D:/Documents/PycharmProjects/LEADING-RAMP/ir_data/Ramp2019\\2019-12_RAMP_all_page-clicks.zip\n"
     ]
    }
   ],
   "source": [
    "pittsburgh_pc_2019 = process_repo(\"university_pittsburgh\")"
   ]
  },
  {
   "cell_type": "code",
   "execution_count": 28,
   "metadata": {
    "execution": {
     "iopub.execute_input": "2021-08-19T04:03:06.400915Z",
     "iopub.status.busy": "2021-08-19T04:03:06.400915Z",
     "iopub.status.idle": "2021-08-19T04:03:20.947029Z",
     "shell.execute_reply": "2021-08-19T04:03:20.947029Z",
     "shell.execute_reply.started": "2021-08-19T04:03:06.400915Z"
    }
   },
   "outputs": [],
   "source": [
    "pittsburgh_pc_2019.to_csv(\"D://Documents//PycharmProjects//LEADING-RAMP//ir_data//Ramp2019//Export/pittsburgh_pc_2019.csv\", header = True)"
   ]
  },
  {
   "cell_type": "code",
   "execution_count": 29,
   "metadata": {
    "execution": {
     "iopub.execute_input": "2021-08-19T04:03:20.947029Z",
     "iopub.status.busy": "2021-08-19T04:03:20.947029Z",
     "iopub.status.idle": "2021-08-19T04:06:37.882691Z",
     "shell.execute_reply": "2021-08-19T04:06:37.882691Z",
     "shell.execute_reply.started": "2021-08-19T04:03:20.947029Z"
    }
   },
   "outputs": [
    {
     "name": "stdout",
     "output_type": "stream",
     "text": [
      "D:/Documents/PycharmProjects/LEADING-RAMP/ir_data/Ramp2019\\2019-01_RAMP_all_page-clicks.zip\n",
      "D:/Documents/PycharmProjects/LEADING-RAMP/ir_data/Ramp2019\\2019-02_RAMP_all_page-clicks.zip\n",
      "D:/Documents/PycharmProjects/LEADING-RAMP/ir_data/Ramp2019\\2019-03_RAMP_all_page-clicks.zip\n",
      "D:/Documents/PycharmProjects/LEADING-RAMP/ir_data/Ramp2019\\2019-04_RAMP_all_page-clicks.zip\n",
      "D:/Documents/PycharmProjects/LEADING-RAMP/ir_data/Ramp2019\\2019-05_RAMP_all_page-clicks.zip\n",
      "D:/Documents/PycharmProjects/LEADING-RAMP/ir_data/Ramp2019\\2019-06_RAMP_all_page-clicks.zip\n",
      "D:/Documents/PycharmProjects/LEADING-RAMP/ir_data/Ramp2019\\2019-07_RAMP_all_page-clicks.zip\n",
      "D:/Documents/PycharmProjects/LEADING-RAMP/ir_data/Ramp2019\\2019-08_RAMP_all_page-clicks.zip\n",
      "D:/Documents/PycharmProjects/LEADING-RAMP/ir_data/Ramp2019\\2019-09_RAMP_all_page-clicks.zip\n",
      "D:/Documents/PycharmProjects/LEADING-RAMP/ir_data/Ramp2019\\2019-10_RAMP_all_page-clicks.zip\n",
      "D:/Documents/PycharmProjects/LEADING-RAMP/ir_data/Ramp2019\\2019-11_RAMP_all_page-clicks.zip\n",
      "D:/Documents/PycharmProjects/LEADING-RAMP/ir_data/Ramp2019\\2019-12_RAMP_all_page-clicks.zip\n"
     ]
    }
   ],
   "source": [
    "vatech_pc_2019 = process_repo(\"virginia_tech\")"
   ]
  },
  {
   "cell_type": "code",
   "execution_count": 30,
   "metadata": {
    "execution": {
     "iopub.execute_input": "2021-08-19T04:06:37.882691Z",
     "iopub.status.busy": "2021-08-19T04:06:37.882691Z",
     "iopub.status.idle": "2021-08-19T04:06:55.701527Z",
     "shell.execute_reply": "2021-08-19T04:06:55.701527Z",
     "shell.execute_reply.started": "2021-08-19T04:06:37.882691Z"
    }
   },
   "outputs": [],
   "source": [
    "vatech_pc_2019.to_csv(\"D://Documents//PycharmProjects//LEADING-RAMP//ir_data//Ramp2019//Export/vatech_pc_2019.csv\", header = True)"
   ]
  },
  {
   "cell_type": "code",
   "execution_count": 31,
   "metadata": {
    "execution": {
     "iopub.execute_input": "2021-08-19T04:07:34.356070Z",
     "iopub.status.busy": "2021-08-19T04:07:34.356070Z",
     "iopub.status.idle": "2021-08-19T04:10:52.404737Z",
     "shell.execute_reply": "2021-08-19T04:10:52.404737Z",
     "shell.execute_reply.started": "2021-08-19T04:07:34.356070Z"
    }
   },
   "outputs": [
    {
     "name": "stdout",
     "output_type": "stream",
     "text": [
      "D:/Documents/PycharmProjects/LEADING-RAMP/ir_data/Ramp2019\\2019-01_RAMP_all_page-clicks.zip\n",
      "D:/Documents/PycharmProjects/LEADING-RAMP/ir_data/Ramp2019\\2019-02_RAMP_all_page-clicks.zip\n",
      "D:/Documents/PycharmProjects/LEADING-RAMP/ir_data/Ramp2019\\2019-03_RAMP_all_page-clicks.zip\n",
      "D:/Documents/PycharmProjects/LEADING-RAMP/ir_data/Ramp2019\\2019-04_RAMP_all_page-clicks.zip\n",
      "D:/Documents/PycharmProjects/LEADING-RAMP/ir_data/Ramp2019\\2019-05_RAMP_all_page-clicks.zip\n",
      "D:/Documents/PycharmProjects/LEADING-RAMP/ir_data/Ramp2019\\2019-06_RAMP_all_page-clicks.zip\n",
      "D:/Documents/PycharmProjects/LEADING-RAMP/ir_data/Ramp2019\\2019-07_RAMP_all_page-clicks.zip\n",
      "D:/Documents/PycharmProjects/LEADING-RAMP/ir_data/Ramp2019\\2019-08_RAMP_all_page-clicks.zip\n",
      "D:/Documents/PycharmProjects/LEADING-RAMP/ir_data/Ramp2019\\2019-09_RAMP_all_page-clicks.zip\n",
      "D:/Documents/PycharmProjects/LEADING-RAMP/ir_data/Ramp2019\\2019-10_RAMP_all_page-clicks.zip\n",
      "D:/Documents/PycharmProjects/LEADING-RAMP/ir_data/Ramp2019\\2019-11_RAMP_all_page-clicks.zip\n",
      "D:/Documents/PycharmProjects/LEADING-RAMP/ir_data/Ramp2019\\2019-12_RAMP_all_page-clicks.zip\n"
     ]
    }
   ],
   "source": [
    "ut_pc_2019 = process_repo(\"university_texas\")"
   ]
  },
  {
   "cell_type": "code",
   "execution_count": 32,
   "metadata": {
    "execution": {
     "iopub.execute_input": "2021-08-19T04:10:52.404737Z",
     "iopub.status.busy": "2021-08-19T04:10:52.404737Z",
     "iopub.status.idle": "2021-08-19T04:11:11.764333Z",
     "shell.execute_reply": "2021-08-19T04:11:11.764333Z",
     "shell.execute_reply.started": "2021-08-19T04:10:52.404737Z"
    }
   },
   "outputs": [],
   "source": [
    "ut_pc_2019.to_csv(\"D://Documents//PycharmProjects//LEADING-RAMP//ir_data//Ramp2019//Export/ut_pc_2019.csv\", header = True)"
   ]
  },
  {
   "cell_type": "code",
   "execution_count": 33,
   "metadata": {
    "execution": {
     "iopub.execute_input": "2021-08-19T04:11:11.764333Z",
     "iopub.status.busy": "2021-08-19T04:11:11.764333Z",
     "iopub.status.idle": "2021-08-19T04:14:29.686808Z",
     "shell.execute_reply": "2021-08-19T04:14:29.686808Z",
     "shell.execute_reply.started": "2021-08-19T04:11:11.764333Z"
    }
   },
   "outputs": [
    {
     "name": "stdout",
     "output_type": "stream",
     "text": [
      "D:/Documents/PycharmProjects/LEADING-RAMP/ir_data/Ramp2019\\2019-01_RAMP_all_page-clicks.zip\n",
      "D:/Documents/PycharmProjects/LEADING-RAMP/ir_data/Ramp2019\\2019-02_RAMP_all_page-clicks.zip\n",
      "D:/Documents/PycharmProjects/LEADING-RAMP/ir_data/Ramp2019\\2019-03_RAMP_all_page-clicks.zip\n",
      "D:/Documents/PycharmProjects/LEADING-RAMP/ir_data/Ramp2019\\2019-04_RAMP_all_page-clicks.zip\n",
      "D:/Documents/PycharmProjects/LEADING-RAMP/ir_data/Ramp2019\\2019-05_RAMP_all_page-clicks.zip\n",
      "D:/Documents/PycharmProjects/LEADING-RAMP/ir_data/Ramp2019\\2019-06_RAMP_all_page-clicks.zip\n",
      "D:/Documents/PycharmProjects/LEADING-RAMP/ir_data/Ramp2019\\2019-07_RAMP_all_page-clicks.zip\n",
      "D:/Documents/PycharmProjects/LEADING-RAMP/ir_data/Ramp2019\\2019-08_RAMP_all_page-clicks.zip\n",
      "D:/Documents/PycharmProjects/LEADING-RAMP/ir_data/Ramp2019\\2019-09_RAMP_all_page-clicks.zip\n",
      "D:/Documents/PycharmProjects/LEADING-RAMP/ir_data/Ramp2019\\2019-10_RAMP_all_page-clicks.zip\n",
      "D:/Documents/PycharmProjects/LEADING-RAMP/ir_data/Ramp2019\\2019-11_RAMP_all_page-clicks.zip\n",
      "D:/Documents/PycharmProjects/LEADING-RAMP/ir_data/Ramp2019\\2019-12_RAMP_all_page-clicks.zip\n"
     ]
    }
   ],
   "source": [
    "unlv_pc_2019 = process_repo(\"university_nevada_las_vegas\")"
   ]
  },
  {
   "cell_type": "code",
   "execution_count": 34,
   "metadata": {
    "execution": {
     "iopub.execute_input": "2021-08-19T04:14:29.686808Z",
     "iopub.status.busy": "2021-08-19T04:14:29.686808Z",
     "iopub.status.idle": "2021-08-19T04:14:44.958810Z",
     "shell.execute_reply": "2021-08-19T04:14:44.958810Z",
     "shell.execute_reply.started": "2021-08-19T04:14:29.686808Z"
    }
   },
   "outputs": [],
   "source": [
    "unlv_pc_2019.to_csv(\"D://Documents//PycharmProjects//LEADING-RAMP//ir_data//Ramp2019//Export/unlv_pc_2019.csv\", header = True)"
   ]
  },
  {
   "cell_type": "code",
   "execution_count": 35,
   "metadata": {
    "execution": {
     "iopub.execute_input": "2021-08-19T04:17:12.511288Z",
     "iopub.status.busy": "2021-08-19T04:17:12.511288Z",
     "iopub.status.idle": "2021-08-19T04:20:33.959411Z",
     "shell.execute_reply": "2021-08-19T04:20:33.959411Z",
     "shell.execute_reply.started": "2021-08-19T04:17:12.511288Z"
    }
   },
   "outputs": [
    {
     "name": "stdout",
     "output_type": "stream",
     "text": [
      "D:/Documents/PycharmProjects/LEADING-RAMP/ir_data/Ramp2019\\2019-01_RAMP_all_page-clicks.zip\n",
      "D:/Documents/PycharmProjects/LEADING-RAMP/ir_data/Ramp2019\\2019-02_RAMP_all_page-clicks.zip\n",
      "D:/Documents/PycharmProjects/LEADING-RAMP/ir_data/Ramp2019\\2019-03_RAMP_all_page-clicks.zip\n",
      "D:/Documents/PycharmProjects/LEADING-RAMP/ir_data/Ramp2019\\2019-04_RAMP_all_page-clicks.zip\n",
      "D:/Documents/PycharmProjects/LEADING-RAMP/ir_data/Ramp2019\\2019-05_RAMP_all_page-clicks.zip\n",
      "D:/Documents/PycharmProjects/LEADING-RAMP/ir_data/Ramp2019\\2019-06_RAMP_all_page-clicks.zip\n",
      "D:/Documents/PycharmProjects/LEADING-RAMP/ir_data/Ramp2019\\2019-07_RAMP_all_page-clicks.zip\n",
      "D:/Documents/PycharmProjects/LEADING-RAMP/ir_data/Ramp2019\\2019-08_RAMP_all_page-clicks.zip\n",
      "D:/Documents/PycharmProjects/LEADING-RAMP/ir_data/Ramp2019\\2019-09_RAMP_all_page-clicks.zip\n",
      "D:/Documents/PycharmProjects/LEADING-RAMP/ir_data/Ramp2019\\2019-10_RAMP_all_page-clicks.zip\n",
      "D:/Documents/PycharmProjects/LEADING-RAMP/ir_data/Ramp2019\\2019-11_RAMP_all_page-clicks.zip\n",
      "D:/Documents/PycharmProjects/LEADING-RAMP/ir_data/Ramp2019\\2019-12_RAMP_all_page-clicks.zip\n"
     ]
    }
   ],
   "source": [
    "unl_pc_2019 = process_repo(\"university_nebraska_lincoln\")"
   ]
  },
  {
   "cell_type": "code",
   "execution_count": 36,
   "metadata": {
    "execution": {
     "iopub.execute_input": "2021-08-19T04:20:33.959411Z",
     "iopub.status.busy": "2021-08-19T04:20:33.959411Z",
     "iopub.status.idle": "2021-08-19T04:21:08.460707Z",
     "shell.execute_reply": "2021-08-19T04:21:08.460707Z",
     "shell.execute_reply.started": "2021-08-19T04:20:33.959411Z"
    }
   },
   "outputs": [],
   "source": [
    "unl_pc_2019.to_csv(\"D://Documents//PycharmProjects//LEADING-RAMP//ir_data//Ramp2019//Export/unl_pc_2019.csv\", header = True)"
   ]
  },
  {
   "cell_type": "code",
   "execution_count": 37,
   "metadata": {
    "execution": {
     "iopub.execute_input": "2021-08-19T04:21:08.460707Z",
     "iopub.status.busy": "2021-08-19T04:21:08.460707Z",
     "iopub.status.idle": "2021-08-19T04:24:27.354115Z",
     "shell.execute_reply": "2021-08-19T04:24:27.354115Z",
     "shell.execute_reply.started": "2021-08-19T04:21:08.460707Z"
    }
   },
   "outputs": [
    {
     "name": "stdout",
     "output_type": "stream",
     "text": [
      "D:/Documents/PycharmProjects/LEADING-RAMP/ir_data/Ramp2019\\2019-01_RAMP_all_page-clicks.zip\n",
      "D:/Documents/PycharmProjects/LEADING-RAMP/ir_data/Ramp2019\\2019-02_RAMP_all_page-clicks.zip\n",
      "D:/Documents/PycharmProjects/LEADING-RAMP/ir_data/Ramp2019\\2019-03_RAMP_all_page-clicks.zip\n",
      "D:/Documents/PycharmProjects/LEADING-RAMP/ir_data/Ramp2019\\2019-04_RAMP_all_page-clicks.zip\n",
      "D:/Documents/PycharmProjects/LEADING-RAMP/ir_data/Ramp2019\\2019-05_RAMP_all_page-clicks.zip\n",
      "D:/Documents/PycharmProjects/LEADING-RAMP/ir_data/Ramp2019\\2019-06_RAMP_all_page-clicks.zip\n",
      "D:/Documents/PycharmProjects/LEADING-RAMP/ir_data/Ramp2019\\2019-07_RAMP_all_page-clicks.zip\n",
      "D:/Documents/PycharmProjects/LEADING-RAMP/ir_data/Ramp2019\\2019-08_RAMP_all_page-clicks.zip\n",
      "D:/Documents/PycharmProjects/LEADING-RAMP/ir_data/Ramp2019\\2019-09_RAMP_all_page-clicks.zip\n",
      "D:/Documents/PycharmProjects/LEADING-RAMP/ir_data/Ramp2019\\2019-10_RAMP_all_page-clicks.zip\n",
      "D:/Documents/PycharmProjects/LEADING-RAMP/ir_data/Ramp2019\\2019-11_RAMP_all_page-clicks.zip\n",
      "D:/Documents/PycharmProjects/LEADING-RAMP/ir_data/Ramp2019\\2019-12_RAMP_all_page-clicks.zip\n"
     ]
    }
   ],
   "source": [
    "uken_pc_2019 = process_repo(\"university_kentucky\")"
   ]
  },
  {
   "cell_type": "code",
   "execution_count": 38,
   "metadata": {
    "execution": {
     "iopub.execute_input": "2021-08-19T04:24:27.354115Z",
     "iopub.status.busy": "2021-08-19T04:24:27.354115Z",
     "iopub.status.idle": "2021-08-19T04:24:47.943061Z",
     "shell.execute_reply": "2021-08-19T04:24:47.943061Z",
     "shell.execute_reply.started": "2021-08-19T04:24:27.354115Z"
    }
   },
   "outputs": [],
   "source": [
    "uken_pc_2019.to_csv(\"D://Documents//PycharmProjects//LEADING-RAMP//ir_data//Ramp2019//Export/uken_pc_2019.csv\", header = True)"
   ]
  },
  {
   "cell_type": "code",
   "execution_count": 39,
   "metadata": {
    "execution": {
     "iopub.execute_input": "2021-08-19T04:24:47.943061Z",
     "iopub.status.busy": "2021-08-19T04:24:47.943061Z",
     "iopub.status.idle": "2021-08-19T04:28:04.742409Z",
     "shell.execute_reply": "2021-08-19T04:28:04.742409Z",
     "shell.execute_reply.started": "2021-08-19T04:24:47.943061Z"
    }
   },
   "outputs": [
    {
     "name": "stdout",
     "output_type": "stream",
     "text": [
      "D:/Documents/PycharmProjects/LEADING-RAMP/ir_data/Ramp2019\\2019-01_RAMP_all_page-clicks.zip\n",
      "D:/Documents/PycharmProjects/LEADING-RAMP/ir_data/Ramp2019\\2019-02_RAMP_all_page-clicks.zip\n",
      "D:/Documents/PycharmProjects/LEADING-RAMP/ir_data/Ramp2019\\2019-03_RAMP_all_page-clicks.zip\n",
      "D:/Documents/PycharmProjects/LEADING-RAMP/ir_data/Ramp2019\\2019-04_RAMP_all_page-clicks.zip\n",
      "D:/Documents/PycharmProjects/LEADING-RAMP/ir_data/Ramp2019\\2019-05_RAMP_all_page-clicks.zip\n",
      "D:/Documents/PycharmProjects/LEADING-RAMP/ir_data/Ramp2019\\2019-06_RAMP_all_page-clicks.zip\n",
      "D:/Documents/PycharmProjects/LEADING-RAMP/ir_data/Ramp2019\\2019-07_RAMP_all_page-clicks.zip\n",
      "D:/Documents/PycharmProjects/LEADING-RAMP/ir_data/Ramp2019\\2019-08_RAMP_all_page-clicks.zip\n",
      "D:/Documents/PycharmProjects/LEADING-RAMP/ir_data/Ramp2019\\2019-09_RAMP_all_page-clicks.zip\n",
      "D:/Documents/PycharmProjects/LEADING-RAMP/ir_data/Ramp2019\\2019-10_RAMP_all_page-clicks.zip\n",
      "D:/Documents/PycharmProjects/LEADING-RAMP/ir_data/Ramp2019\\2019-11_RAMP_all_page-clicks.zip\n",
      "D:/Documents/PycharmProjects/LEADING-RAMP/ir_data/Ramp2019\\2019-12_RAMP_all_page-clicks.zip\n"
     ]
    }
   ],
   "source": [
    "uariz_pc_2019 = process_repo(\"university_arizona\")"
   ]
  },
  {
   "cell_type": "code",
   "execution_count": 40,
   "metadata": {
    "execution": {
     "iopub.execute_input": "2021-08-19T04:28:04.742409Z",
     "iopub.status.busy": "2021-08-19T04:28:04.742409Z",
     "iopub.status.idle": "2021-08-19T04:28:20.783957Z",
     "shell.execute_reply": "2021-08-19T04:28:20.783957Z",
     "shell.execute_reply.started": "2021-08-19T04:28:04.742409Z"
    }
   },
   "outputs": [],
   "source": [
    "uariz_pc_2019.to_csv(\"D://Documents//PycharmProjects//LEADING-RAMP//ir_data//Ramp2019//Export/uariz_pc_2019.csv\", header = True)"
   ]
  },
  {
   "cell_type": "code",
   "execution_count": 41,
   "metadata": {
    "execution": {
     "iopub.execute_input": "2021-08-19T04:28:20.783957Z",
     "iopub.status.busy": "2021-08-19T04:28:20.783957Z",
     "iopub.status.idle": "2021-08-19T04:31:33.995790Z",
     "shell.execute_reply": "2021-08-19T04:31:33.995790Z",
     "shell.execute_reply.started": "2021-08-19T04:28:20.783957Z"
    }
   },
   "outputs": [
    {
     "name": "stdout",
     "output_type": "stream",
     "text": [
      "D:/Documents/PycharmProjects/LEADING-RAMP/ir_data/Ramp2019\\2019-01_RAMP_all_page-clicks.zip\n",
      "D:/Documents/PycharmProjects/LEADING-RAMP/ir_data/Ramp2019\\2019-02_RAMP_all_page-clicks.zip\n",
      "D:/Documents/PycharmProjects/LEADING-RAMP/ir_data/Ramp2019\\2019-03_RAMP_all_page-clicks.zip\n",
      "D:/Documents/PycharmProjects/LEADING-RAMP/ir_data/Ramp2019\\2019-04_RAMP_all_page-clicks.zip\n",
      "D:/Documents/PycharmProjects/LEADING-RAMP/ir_data/Ramp2019\\2019-05_RAMP_all_page-clicks.zip\n",
      "D:/Documents/PycharmProjects/LEADING-RAMP/ir_data/Ramp2019\\2019-06_RAMP_all_page-clicks.zip\n",
      "D:/Documents/PycharmProjects/LEADING-RAMP/ir_data/Ramp2019\\2019-07_RAMP_all_page-clicks.zip\n",
      "D:/Documents/PycharmProjects/LEADING-RAMP/ir_data/Ramp2019\\2019-08_RAMP_all_page-clicks.zip\n",
      "D:/Documents/PycharmProjects/LEADING-RAMP/ir_data/Ramp2019\\2019-09_RAMP_all_page-clicks.zip\n",
      "D:/Documents/PycharmProjects/LEADING-RAMP/ir_data/Ramp2019\\2019-10_RAMP_all_page-clicks.zip\n",
      "D:/Documents/PycharmProjects/LEADING-RAMP/ir_data/Ramp2019\\2019-11_RAMP_all_page-clicks.zip\n",
      "D:/Documents/PycharmProjects/LEADING-RAMP/ir_data/Ramp2019\\2019-12_RAMP_all_page-clicks.zip\n"
     ]
    }
   ],
   "source": [
    "swarthmore_pc_2019 = process_repo(\"swarthmore_college\")"
   ]
  },
  {
   "cell_type": "code",
   "execution_count": 42,
   "metadata": {
    "execution": {
     "iopub.execute_input": "2021-08-19T04:31:33.995790Z",
     "iopub.status.busy": "2021-08-19T04:31:33.995790Z",
     "iopub.status.idle": "2021-08-19T04:31:36.072232Z",
     "shell.execute_reply": "2021-08-19T04:31:36.072232Z",
     "shell.execute_reply.started": "2021-08-19T04:31:33.995790Z"
    }
   },
   "outputs": [],
   "source": [
    "swarthmore_pc_2019.to_csv(\"D://Documents//PycharmProjects//LEADING-RAMP//ir_data//Ramp2019//Export/swarthmore_pc_2019.csv\", header = True)"
   ]
  },
  {
   "cell_type": "code",
   "execution_count": 43,
   "metadata": {
    "execution": {
     "iopub.execute_input": "2021-08-19T04:31:36.072232Z",
     "iopub.status.busy": "2021-08-19T04:31:36.072232Z",
     "iopub.status.idle": "2021-08-19T04:34:50.164122Z",
     "shell.execute_reply": "2021-08-19T04:34:50.164122Z",
     "shell.execute_reply.started": "2021-08-19T04:31:36.072232Z"
    }
   },
   "outputs": [
    {
     "name": "stdout",
     "output_type": "stream",
     "text": [
      "D:/Documents/PycharmProjects/LEADING-RAMP/ir_data/Ramp2019\\2019-01_RAMP_all_page-clicks.zip\n",
      "D:/Documents/PycharmProjects/LEADING-RAMP/ir_data/Ramp2019\\2019-02_RAMP_all_page-clicks.zip\n",
      "D:/Documents/PycharmProjects/LEADING-RAMP/ir_data/Ramp2019\\2019-03_RAMP_all_page-clicks.zip\n",
      "D:/Documents/PycharmProjects/LEADING-RAMP/ir_data/Ramp2019\\2019-04_RAMP_all_page-clicks.zip\n",
      "D:/Documents/PycharmProjects/LEADING-RAMP/ir_data/Ramp2019\\2019-05_RAMP_all_page-clicks.zip\n",
      "D:/Documents/PycharmProjects/LEADING-RAMP/ir_data/Ramp2019\\2019-06_RAMP_all_page-clicks.zip\n",
      "D:/Documents/PycharmProjects/LEADING-RAMP/ir_data/Ramp2019\\2019-07_RAMP_all_page-clicks.zip\n",
      "D:/Documents/PycharmProjects/LEADING-RAMP/ir_data/Ramp2019\\2019-08_RAMP_all_page-clicks.zip\n",
      "D:/Documents/PycharmProjects/LEADING-RAMP/ir_data/Ramp2019\\2019-09_RAMP_all_page-clicks.zip\n",
      "D:/Documents/PycharmProjects/LEADING-RAMP/ir_data/Ramp2019\\2019-10_RAMP_all_page-clicks.zip\n",
      "D:/Documents/PycharmProjects/LEADING-RAMP/ir_data/Ramp2019\\2019-11_RAMP_all_page-clicks.zip\n",
      "D:/Documents/PycharmProjects/LEADING-RAMP/ir_data/Ramp2019\\2019-12_RAMP_all_page-clicks.zip\n"
     ]
    }
   ],
   "source": [
    "samhouston_pc_2019 = process_repo(\"sam_houston_state_university\")"
   ]
  },
  {
   "cell_type": "code",
   "execution_count": 44,
   "metadata": {
    "execution": {
     "iopub.execute_input": "2021-08-19T04:34:50.164122Z",
     "iopub.status.busy": "2021-08-19T04:34:50.164122Z",
     "iopub.status.idle": "2021-08-19T04:34:51.939240Z",
     "shell.execute_reply": "2021-08-19T04:34:51.939240Z",
     "shell.execute_reply.started": "2021-08-19T04:34:50.164122Z"
    }
   },
   "outputs": [],
   "source": [
    "samhouston_pc_2019.to_csv(\"D://Documents//PycharmProjects//LEADING-RAMP//ir_data//Ramp2019//Export/samhouston_pc_2019.csv\", header = True)"
   ]
  },
  {
   "cell_type": "code",
   "execution_count": 45,
   "metadata": {
    "execution": {
     "iopub.execute_input": "2021-08-19T04:34:51.939240Z",
     "iopub.status.busy": "2021-08-19T04:34:51.939240Z",
     "iopub.status.idle": "2021-08-19T04:38:07.479055Z",
     "shell.execute_reply": "2021-08-19T04:38:07.479055Z",
     "shell.execute_reply.started": "2021-08-19T04:34:51.939240Z"
    }
   },
   "outputs": [
    {
     "name": "stdout",
     "output_type": "stream",
     "text": [
      "D:/Documents/PycharmProjects/LEADING-RAMP/ir_data/Ramp2019\\2019-01_RAMP_all_page-clicks.zip\n",
      "D:/Documents/PycharmProjects/LEADING-RAMP/ir_data/Ramp2019\\2019-02_RAMP_all_page-clicks.zip\n",
      "D:/Documents/PycharmProjects/LEADING-RAMP/ir_data/Ramp2019\\2019-03_RAMP_all_page-clicks.zip\n",
      "D:/Documents/PycharmProjects/LEADING-RAMP/ir_data/Ramp2019\\2019-04_RAMP_all_page-clicks.zip\n",
      "D:/Documents/PycharmProjects/LEADING-RAMP/ir_data/Ramp2019\\2019-05_RAMP_all_page-clicks.zip\n",
      "D:/Documents/PycharmProjects/LEADING-RAMP/ir_data/Ramp2019\\2019-06_RAMP_all_page-clicks.zip\n",
      "D:/Documents/PycharmProjects/LEADING-RAMP/ir_data/Ramp2019\\2019-07_RAMP_all_page-clicks.zip\n",
      "D:/Documents/PycharmProjects/LEADING-RAMP/ir_data/Ramp2019\\2019-08_RAMP_all_page-clicks.zip\n",
      "D:/Documents/PycharmProjects/LEADING-RAMP/ir_data/Ramp2019\\2019-09_RAMP_all_page-clicks.zip\n",
      "D:/Documents/PycharmProjects/LEADING-RAMP/ir_data/Ramp2019\\2019-10_RAMP_all_page-clicks.zip\n",
      "D:/Documents/PycharmProjects/LEADING-RAMP/ir_data/Ramp2019\\2019-11_RAMP_all_page-clicks.zip\n",
      "D:/Documents/PycharmProjects/LEADING-RAMP/ir_data/Ramp2019\\2019-12_RAMP_all_page-clicks.zip\n"
     ]
    }
   ],
   "source": [
    "rutgers_pc_2019 = process_repo(\"rutgers_university\")"
   ]
  },
  {
   "cell_type": "code",
   "execution_count": 46,
   "metadata": {
    "execution": {
     "iopub.execute_input": "2021-08-19T04:38:07.479055Z",
     "iopub.status.busy": "2021-08-19T04:38:07.479055Z",
     "iopub.status.idle": "2021-08-19T04:38:19.595348Z",
     "shell.execute_reply": "2021-08-19T04:38:19.595348Z",
     "shell.execute_reply.started": "2021-08-19T04:38:07.479055Z"
    }
   },
   "outputs": [],
   "source": [
    "rutgers_pc_2019.to_csv(\"D://Documents//PycharmProjects//LEADING-RAMP//ir_data//Ramp2019//Export/rutgers_pc_2019.csv\", header = True)"
   ]
  },
  {
   "cell_type": "code",
   "execution_count": 47,
   "metadata": {
    "execution": {
     "iopub.execute_input": "2021-08-19T04:38:19.595348Z",
     "iopub.status.busy": "2021-08-19T04:38:19.595348Z",
     "iopub.status.idle": "2021-08-19T04:41:37.051525Z",
     "shell.execute_reply": "2021-08-19T04:41:37.051525Z",
     "shell.execute_reply.started": "2021-08-19T04:38:19.595348Z"
    }
   },
   "outputs": [
    {
     "name": "stdout",
     "output_type": "stream",
     "text": [
      "D:/Documents/PycharmProjects/LEADING-RAMP/ir_data/Ramp2019\\2019-01_RAMP_all_page-clicks.zip\n",
      "D:/Documents/PycharmProjects/LEADING-RAMP/ir_data/Ramp2019\\2019-02_RAMP_all_page-clicks.zip\n",
      "D:/Documents/PycharmProjects/LEADING-RAMP/ir_data/Ramp2019\\2019-03_RAMP_all_page-clicks.zip\n",
      "D:/Documents/PycharmProjects/LEADING-RAMP/ir_data/Ramp2019\\2019-04_RAMP_all_page-clicks.zip\n",
      "D:/Documents/PycharmProjects/LEADING-RAMP/ir_data/Ramp2019\\2019-05_RAMP_all_page-clicks.zip\n",
      "D:/Documents/PycharmProjects/LEADING-RAMP/ir_data/Ramp2019\\2019-06_RAMP_all_page-clicks.zip\n",
      "D:/Documents/PycharmProjects/LEADING-RAMP/ir_data/Ramp2019\\2019-07_RAMP_all_page-clicks.zip\n",
      "D:/Documents/PycharmProjects/LEADING-RAMP/ir_data/Ramp2019\\2019-08_RAMP_all_page-clicks.zip\n",
      "D:/Documents/PycharmProjects/LEADING-RAMP/ir_data/Ramp2019\\2019-09_RAMP_all_page-clicks.zip\n",
      "D:/Documents/PycharmProjects/LEADING-RAMP/ir_data/Ramp2019\\2019-10_RAMP_all_page-clicks.zip\n",
      "D:/Documents/PycharmProjects/LEADING-RAMP/ir_data/Ramp2019\\2019-11_RAMP_all_page-clicks.zip\n",
      "D:/Documents/PycharmProjects/LEADING-RAMP/ir_data/Ramp2019\\2019-12_RAMP_all_page-clicks.zip\n"
     ]
    }
   ],
   "source": [
    "northeast_pc_2019 = process_repo(\"northeastern_university\")"
   ]
  },
  {
   "cell_type": "code",
   "execution_count": 48,
   "metadata": {
    "execution": {
     "iopub.execute_input": "2021-08-19T04:41:37.051525Z",
     "iopub.status.busy": "2021-08-19T04:41:37.051525Z",
     "iopub.status.idle": "2021-08-19T04:41:54.903668Z",
     "shell.execute_reply": "2021-08-19T04:41:54.903668Z",
     "shell.execute_reply.started": "2021-08-19T04:41:37.051525Z"
    }
   },
   "outputs": [],
   "source": [
    "northeast_pc_2019.to_csv(\"D://Documents//PycharmProjects//LEADING-RAMP//ir_data//Ramp2019//Export/northeast_pc_2019.csv\", header = True)"
   ]
  },
  {
   "cell_type": "code",
   "execution_count": 49,
   "metadata": {
    "execution": {
     "iopub.execute_input": "2021-08-19T04:41:54.907668Z",
     "iopub.status.busy": "2021-08-19T04:41:54.907668Z",
     "iopub.status.idle": "2021-08-19T04:45:11.951017Z",
     "shell.execute_reply": "2021-08-19T04:45:11.951017Z",
     "shell.execute_reply.started": "2021-08-19T04:41:54.907668Z"
    }
   },
   "outputs": [
    {
     "name": "stdout",
     "output_type": "stream",
     "text": [
      "D:/Documents/PycharmProjects/LEADING-RAMP/ir_data/Ramp2019\\2019-01_RAMP_all_page-clicks.zip\n",
      "D:/Documents/PycharmProjects/LEADING-RAMP/ir_data/Ramp2019\\2019-02_RAMP_all_page-clicks.zip\n",
      "D:/Documents/PycharmProjects/LEADING-RAMP/ir_data/Ramp2019\\2019-03_RAMP_all_page-clicks.zip\n",
      "D:/Documents/PycharmProjects/LEADING-RAMP/ir_data/Ramp2019\\2019-04_RAMP_all_page-clicks.zip\n",
      "D:/Documents/PycharmProjects/LEADING-RAMP/ir_data/Ramp2019\\2019-05_RAMP_all_page-clicks.zip\n",
      "D:/Documents/PycharmProjects/LEADING-RAMP/ir_data/Ramp2019\\2019-06_RAMP_all_page-clicks.zip\n",
      "D:/Documents/PycharmProjects/LEADING-RAMP/ir_data/Ramp2019\\2019-07_RAMP_all_page-clicks.zip\n",
      "D:/Documents/PycharmProjects/LEADING-RAMP/ir_data/Ramp2019\\2019-08_RAMP_all_page-clicks.zip\n",
      "D:/Documents/PycharmProjects/LEADING-RAMP/ir_data/Ramp2019\\2019-09_RAMP_all_page-clicks.zip\n",
      "D:/Documents/PycharmProjects/LEADING-RAMP/ir_data/Ramp2019\\2019-10_RAMP_all_page-clicks.zip\n",
      "D:/Documents/PycharmProjects/LEADING-RAMP/ir_data/Ramp2019\\2019-11_RAMP_all_page-clicks.zip\n",
      "D:/Documents/PycharmProjects/LEADING-RAMP/ir_data/Ramp2019\\2019-12_RAMP_all_page-clicks.zip\n"
     ]
    }
   ],
   "source": [
    "unm_pc_2019 = process_repo(\"university_new_mexico\")"
   ]
  },
  {
   "cell_type": "code",
   "execution_count": 50,
   "metadata": {
    "execution": {
     "iopub.execute_input": "2021-08-19T04:45:11.951017Z",
     "iopub.status.busy": "2021-08-19T04:45:11.951017Z",
     "iopub.status.idle": "2021-08-19T04:45:28.555268Z",
     "shell.execute_reply": "2021-08-19T04:45:28.555268Z",
     "shell.execute_reply.started": "2021-08-19T04:45:11.951017Z"
    }
   },
   "outputs": [],
   "source": [
    "unm_pc_2019.to_csv(\"D://Documents//PycharmProjects//LEADING-RAMP//ir_data//Ramp2019//Export/unm_pc_2019.csv\", header = True)"
   ]
  },
  {
   "cell_type": "code",
   "execution_count": 51,
   "metadata": {
    "execution": {
     "iopub.execute_input": "2021-08-19T04:45:28.555268Z",
     "iopub.status.busy": "2021-08-19T04:45:28.555268Z",
     "iopub.status.idle": "2021-08-19T04:48:41.901262Z",
     "shell.execute_reply": "2021-08-19T04:48:41.901262Z",
     "shell.execute_reply.started": "2021-08-19T04:45:28.555268Z"
    }
   },
   "outputs": [
    {
     "name": "stdout",
     "output_type": "stream",
     "text": [
      "D:/Documents/PycharmProjects/LEADING-RAMP/ir_data/Ramp2019\\2019-01_RAMP_all_page-clicks.zip\n",
      "D:/Documents/PycharmProjects/LEADING-RAMP/ir_data/Ramp2019\\2019-02_RAMP_all_page-clicks.zip\n",
      "D:/Documents/PycharmProjects/LEADING-RAMP/ir_data/Ramp2019\\2019-03_RAMP_all_page-clicks.zip\n",
      "D:/Documents/PycharmProjects/LEADING-RAMP/ir_data/Ramp2019\\2019-04_RAMP_all_page-clicks.zip\n",
      "D:/Documents/PycharmProjects/LEADING-RAMP/ir_data/Ramp2019\\2019-05_RAMP_all_page-clicks.zip\n",
      "D:/Documents/PycharmProjects/LEADING-RAMP/ir_data/Ramp2019\\2019-06_RAMP_all_page-clicks.zip\n",
      "D:/Documents/PycharmProjects/LEADING-RAMP/ir_data/Ramp2019\\2019-07_RAMP_all_page-clicks.zip\n",
      "D:/Documents/PycharmProjects/LEADING-RAMP/ir_data/Ramp2019\\2019-08_RAMP_all_page-clicks.zip\n",
      "D:/Documents/PycharmProjects/LEADING-RAMP/ir_data/Ramp2019\\2019-09_RAMP_all_page-clicks.zip\n",
      "D:/Documents/PycharmProjects/LEADING-RAMP/ir_data/Ramp2019\\2019-10_RAMP_all_page-clicks.zip\n",
      "D:/Documents/PycharmProjects/LEADING-RAMP/ir_data/Ramp2019\\2019-11_RAMP_all_page-clicks.zip\n",
      "D:/Documents/PycharmProjects/LEADING-RAMP/ir_data/Ramp2019\\2019-12_RAMP_all_page-clicks.zip\n"
     ]
    }
   ],
   "source": [
    "nky_pc_2019 = process_repo(\"northern_kentucky_university\")"
   ]
  },
  {
   "cell_type": "code",
   "execution_count": 52,
   "metadata": {
    "execution": {
     "iopub.execute_input": "2021-08-19T04:48:41.902258Z",
     "iopub.status.busy": "2021-08-19T04:48:41.902258Z",
     "iopub.status.idle": "2021-08-19T04:48:43.821127Z",
     "shell.execute_reply": "2021-08-19T04:48:43.819132Z",
     "shell.execute_reply.started": "2021-08-19T04:48:41.902258Z"
    }
   },
   "outputs": [],
   "source": [
    "nky_pc_2019.to_csv(\"D://Documents//PycharmProjects//LEADING-RAMP//ir_data//Ramp2019//Export/nky_pc_2019.csv\", header = True)"
   ]
  },
  {
   "cell_type": "code",
   "execution_count": 53,
   "metadata": {
    "execution": {
     "iopub.execute_input": "2021-08-19T04:48:43.824118Z",
     "iopub.status.busy": "2021-08-19T04:48:43.823121Z",
     "iopub.status.idle": "2021-08-19T04:52:01.846787Z",
     "shell.execute_reply": "2021-08-19T04:52:01.846787Z",
     "shell.execute_reply.started": "2021-08-19T04:48:43.823121Z"
    }
   },
   "outputs": [
    {
     "name": "stdout",
     "output_type": "stream",
     "text": [
      "D:/Documents/PycharmProjects/LEADING-RAMP/ir_data/Ramp2019\\2019-01_RAMP_all_page-clicks.zip\n",
      "D:/Documents/PycharmProjects/LEADING-RAMP/ir_data/Ramp2019\\2019-02_RAMP_all_page-clicks.zip\n",
      "D:/Documents/PycharmProjects/LEADING-RAMP/ir_data/Ramp2019\\2019-03_RAMP_all_page-clicks.zip\n",
      "D:/Documents/PycharmProjects/LEADING-RAMP/ir_data/Ramp2019\\2019-04_RAMP_all_page-clicks.zip\n",
      "D:/Documents/PycharmProjects/LEADING-RAMP/ir_data/Ramp2019\\2019-05_RAMP_all_page-clicks.zip\n",
      "D:/Documents/PycharmProjects/LEADING-RAMP/ir_data/Ramp2019\\2019-06_RAMP_all_page-clicks.zip\n",
      "D:/Documents/PycharmProjects/LEADING-RAMP/ir_data/Ramp2019\\2019-07_RAMP_all_page-clicks.zip\n",
      "D:/Documents/PycharmProjects/LEADING-RAMP/ir_data/Ramp2019\\2019-08_RAMP_all_page-clicks.zip\n",
      "D:/Documents/PycharmProjects/LEADING-RAMP/ir_data/Ramp2019\\2019-09_RAMP_all_page-clicks.zip\n",
      "D:/Documents/PycharmProjects/LEADING-RAMP/ir_data/Ramp2019\\2019-10_RAMP_all_page-clicks.zip\n",
      "D:/Documents/PycharmProjects/LEADING-RAMP/ir_data/Ramp2019\\2019-11_RAMP_all_page-clicks.zip\n",
      "D:/Documents/PycharmProjects/LEADING-RAMP/ir_data/Ramp2019\\2019-12_RAMP_all_page-clicks.zip\n"
     ]
    }
   ],
   "source": [
    "umich_pc_2019 = process_repo(\"university_michigan\")"
   ]
  },
  {
   "cell_type": "code",
   "execution_count": 54,
   "metadata": {
    "execution": {
     "iopub.execute_input": "2021-08-19T04:52:01.846787Z",
     "iopub.status.busy": "2021-08-19T04:52:01.846787Z",
     "iopub.status.idle": "2021-08-19T04:52:22.578226Z",
     "shell.execute_reply": "2021-08-19T04:52:22.578226Z",
     "shell.execute_reply.started": "2021-08-19T04:52:01.846787Z"
    }
   },
   "outputs": [],
   "source": [
    "umich_pc_2019.to_csv(\"D://Documents//PycharmProjects//LEADING-RAMP//ir_data//Ramp2019//Export/umich_pc_2019.csv\", header = True)"
   ]
  },
  {
   "cell_type": "code",
   "execution_count": 55,
   "metadata": {
    "execution": {
     "iopub.execute_input": "2021-08-19T04:52:22.578226Z",
     "iopub.status.busy": "2021-08-19T04:52:22.578226Z",
     "iopub.status.idle": "2021-08-19T04:55:38.045469Z",
     "shell.execute_reply": "2021-08-19T04:55:38.045469Z",
     "shell.execute_reply.started": "2021-08-19T04:52:22.578226Z"
    }
   },
   "outputs": [
    {
     "name": "stdout",
     "output_type": "stream",
     "text": [
      "D:/Documents/PycharmProjects/LEADING-RAMP/ir_data/Ramp2019\\2019-01_RAMP_all_page-clicks.zip\n",
      "D:/Documents/PycharmProjects/LEADING-RAMP/ir_data/Ramp2019\\2019-02_RAMP_all_page-clicks.zip\n",
      "D:/Documents/PycharmProjects/LEADING-RAMP/ir_data/Ramp2019\\2019-03_RAMP_all_page-clicks.zip\n",
      "D:/Documents/PycharmProjects/LEADING-RAMP/ir_data/Ramp2019\\2019-04_RAMP_all_page-clicks.zip\n",
      "D:/Documents/PycharmProjects/LEADING-RAMP/ir_data/Ramp2019\\2019-05_RAMP_all_page-clicks.zip\n",
      "D:/Documents/PycharmProjects/LEADING-RAMP/ir_data/Ramp2019\\2019-06_RAMP_all_page-clicks.zip\n",
      "D:/Documents/PycharmProjects/LEADING-RAMP/ir_data/Ramp2019\\2019-07_RAMP_all_page-clicks.zip\n",
      "D:/Documents/PycharmProjects/LEADING-RAMP/ir_data/Ramp2019\\2019-08_RAMP_all_page-clicks.zip\n",
      "D:/Documents/PycharmProjects/LEADING-RAMP/ir_data/Ramp2019\\2019-09_RAMP_all_page-clicks.zip\n",
      "D:/Documents/PycharmProjects/LEADING-RAMP/ir_data/Ramp2019\\2019-10_RAMP_all_page-clicks.zip\n",
      "D:/Documents/PycharmProjects/LEADING-RAMP/ir_data/Ramp2019\\2019-11_RAMP_all_page-clicks.zip\n",
      "D:/Documents/PycharmProjects/LEADING-RAMP/ir_data/Ramp2019\\2019-12_RAMP_all_page-clicks.zip\n"
     ]
    }
   ],
   "source": [
    "umaryland_pc_2019 = process_repo(\"maryland_drum\")"
   ]
  },
  {
   "cell_type": "code",
   "execution_count": 56,
   "metadata": {
    "execution": {
     "iopub.execute_input": "2021-08-19T04:55:38.045469Z",
     "iopub.status.busy": "2021-08-19T04:55:38.045469Z",
     "iopub.status.idle": "2021-08-19T04:55:49.439180Z",
     "shell.execute_reply": "2021-08-19T04:55:49.439180Z",
     "shell.execute_reply.started": "2021-08-19T04:55:38.045469Z"
    }
   },
   "outputs": [],
   "source": [
    "umaryland_pc_2019.to_csv(\"D://Documents//PycharmProjects//LEADING-RAMP//ir_data//Ramp2019//Export/umaryland_pc_2019.csv\", header = True)"
   ]
  },
  {
   "cell_type": "code",
   "execution_count": 57,
   "metadata": {
    "execution": {
     "iopub.execute_input": "2021-08-19T04:55:49.439180Z",
     "iopub.status.busy": "2021-08-19T04:55:49.439180Z",
     "iopub.status.idle": "2021-08-19T04:59:05.740456Z",
     "shell.execute_reply": "2021-08-19T04:59:05.740456Z",
     "shell.execute_reply.started": "2021-08-19T04:55:49.439180Z"
    }
   },
   "outputs": [
    {
     "name": "stdout",
     "output_type": "stream",
     "text": [
      "D:/Documents/PycharmProjects/LEADING-RAMP/ir_data/Ramp2019\\2019-01_RAMP_all_page-clicks.zip\n",
      "D:/Documents/PycharmProjects/LEADING-RAMP/ir_data/Ramp2019\\2019-02_RAMP_all_page-clicks.zip\n",
      "D:/Documents/PycharmProjects/LEADING-RAMP/ir_data/Ramp2019\\2019-03_RAMP_all_page-clicks.zip\n",
      "D:/Documents/PycharmProjects/LEADING-RAMP/ir_data/Ramp2019\\2019-04_RAMP_all_page-clicks.zip\n",
      "D:/Documents/PycharmProjects/LEADING-RAMP/ir_data/Ramp2019\\2019-05_RAMP_all_page-clicks.zip\n",
      "D:/Documents/PycharmProjects/LEADING-RAMP/ir_data/Ramp2019\\2019-06_RAMP_all_page-clicks.zip\n",
      "D:/Documents/PycharmProjects/LEADING-RAMP/ir_data/Ramp2019\\2019-07_RAMP_all_page-clicks.zip\n",
      "D:/Documents/PycharmProjects/LEADING-RAMP/ir_data/Ramp2019\\2019-08_RAMP_all_page-clicks.zip\n",
      "D:/Documents/PycharmProjects/LEADING-RAMP/ir_data/Ramp2019\\2019-09_RAMP_all_page-clicks.zip\n",
      "D:/Documents/PycharmProjects/LEADING-RAMP/ir_data/Ramp2019\\2019-10_RAMP_all_page-clicks.zip\n",
      "D:/Documents/PycharmProjects/LEADING-RAMP/ir_data/Ramp2019\\2019-11_RAMP_all_page-clicks.zip\n",
      "D:/Documents/PycharmProjects/LEADING-RAMP/ir_data/Ramp2019\\2019-12_RAMP_all_page-clicks.zip\n"
     ]
    }
   ],
   "source": [
    "kansas_pc_2019 = process_repo(\"kansas_state_university\")"
   ]
  },
  {
   "cell_type": "code",
   "execution_count": 58,
   "metadata": {
    "execution": {
     "iopub.execute_input": "2021-08-19T04:59:05.740456Z",
     "iopub.status.busy": "2021-08-19T04:59:05.740456Z",
     "iopub.status.idle": "2021-08-19T04:59:23.403453Z",
     "shell.execute_reply": "2021-08-19T04:59:23.403453Z",
     "shell.execute_reply.started": "2021-08-19T04:59:05.740456Z"
    }
   },
   "outputs": [],
   "source": [
    "kansas_pc_2019.to_csv(\"D://Documents//PycharmProjects//LEADING-RAMP//ir_data//Ramp2019//Export/kansas_pc_2019.csv\", header = True)"
   ]
  },
  {
   "cell_type": "code",
   "execution_count": 59,
   "metadata": {
    "execution": {
     "iopub.execute_input": "2021-08-19T04:59:23.403453Z",
     "iopub.status.busy": "2021-08-19T04:59:23.403453Z",
     "iopub.status.idle": "2021-08-19T05:02:38.444395Z",
     "shell.execute_reply": "2021-08-19T05:02:38.444395Z",
     "shell.execute_reply.started": "2021-08-19T04:59:23.403453Z"
    }
   },
   "outputs": [
    {
     "name": "stdout",
     "output_type": "stream",
     "text": [
      "D:/Documents/PycharmProjects/LEADING-RAMP/ir_data/Ramp2019\\2019-01_RAMP_all_page-clicks.zip\n",
      "D:/Documents/PycharmProjects/LEADING-RAMP/ir_data/Ramp2019\\2019-02_RAMP_all_page-clicks.zip\n",
      "D:/Documents/PycharmProjects/LEADING-RAMP/ir_data/Ramp2019\\2019-03_RAMP_all_page-clicks.zip\n",
      "D:/Documents/PycharmProjects/LEADING-RAMP/ir_data/Ramp2019\\2019-04_RAMP_all_page-clicks.zip\n",
      "D:/Documents/PycharmProjects/LEADING-RAMP/ir_data/Ramp2019\\2019-05_RAMP_all_page-clicks.zip\n",
      "D:/Documents/PycharmProjects/LEADING-RAMP/ir_data/Ramp2019\\2019-06_RAMP_all_page-clicks.zip\n",
      "D:/Documents/PycharmProjects/LEADING-RAMP/ir_data/Ramp2019\\2019-07_RAMP_all_page-clicks.zip\n",
      "D:/Documents/PycharmProjects/LEADING-RAMP/ir_data/Ramp2019\\2019-08_RAMP_all_page-clicks.zip\n",
      "D:/Documents/PycharmProjects/LEADING-RAMP/ir_data/Ramp2019\\2019-09_RAMP_all_page-clicks.zip\n",
      "D:/Documents/PycharmProjects/LEADING-RAMP/ir_data/Ramp2019\\2019-10_RAMP_all_page-clicks.zip\n",
      "D:/Documents/PycharmProjects/LEADING-RAMP/ir_data/Ramp2019\\2019-11_RAMP_all_page-clicks.zip\n",
      "D:/Documents/PycharmProjects/LEADING-RAMP/ir_data/Ramp2019\\2019-12_RAMP_all_page-clicks.zip\n"
     ]
    }
   ],
   "source": [
    "umontana_pc_2019 = process_repo(\"university_montana\")"
   ]
  },
  {
   "cell_type": "code",
   "execution_count": 60,
   "metadata": {
    "execution": {
     "iopub.execute_input": "2021-08-19T05:02:38.444395Z",
     "iopub.status.busy": "2021-08-19T05:02:38.444395Z",
     "iopub.status.idle": "2021-08-19T05:02:48.452360Z",
     "shell.execute_reply": "2021-08-19T05:02:48.452360Z",
     "shell.execute_reply.started": "2021-08-19T05:02:38.444395Z"
    }
   },
   "outputs": [],
   "source": [
    "umontana_pc_2019.to_csv(\"D://Documents//PycharmProjects//LEADING-RAMP//ir_data//Ramp2019//Export/umontana_pc_2019.csv\", header = True)"
   ]
  },
  {
   "cell_type": "code",
   "execution_count": null,
   "metadata": {},
   "outputs": [],
   "source": []
  }
 ],
 "metadata": {
  "kernelspec": {
   "display_name": "Python 3",
   "language": "python",
   "name": "python3"
  },
  "language_info": {
   "codemirror_mode": {
    "name": "ipython",
    "version": 3
   },
   "file_extension": ".py",
   "mimetype": "text/x-python",
   "name": "python",
   "nbconvert_exporter": "python",
   "pygments_lexer": "ipython3",
   "version": "3.8.6"
  }
 },
 "nbformat": 4,
 "nbformat_minor": 4
}
