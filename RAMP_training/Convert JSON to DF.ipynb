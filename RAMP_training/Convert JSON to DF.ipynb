{
 "cells": [
  {
   "cell_type": "markdown",
   "source": [
    "Import JSON file of the LEADING Project Affliated IR Institutional Information"
   ],
   "metadata": {
    "collapsed": false
   }
  },
  {
   "cell_type": "code",
   "execution_count": 6,
   "outputs": [],
   "source": [
    "#Import libraries\n",
    "import pandas as pd"
   ],
   "metadata": {
    "collapsed": false,
    "pycharm": {
     "name": "#%%\n"
    }
   }
  },
  {
   "cell_type": "code",
   "execution_count": 3,
   "outputs": [],
   "source": [
    "# Load JSON files from local machine\n",
    "\n",
    "data = pd.read_json('ir_data/ir_config.json')"
   ],
   "metadata": {
    "collapsed": false,
    "pycharm": {
     "name": "#%%\n"
    }
   }
  },
  {
   "cell_type": "code",
   "execution_count": 7,
   "outputs": [
    {
     "name": "stdout",
     "output_type": "stream",
     "text": [
      "<class 'pandas.core.frame.DataFrame'>\n",
      "RangeIndex: 67 entries, 0 to 66\n",
      "Data columns (total 6 columns):\n",
      " #   Column   Non-Null Count  Dtype  \n",
      "---  ------   --------------  -----  \n",
      " 0   _index   67 non-null     object \n",
      " 1   _type    67 non-null     object \n",
      " 2   _id      67 non-null     object \n",
      " 3   _score   0 non-null      float64\n",
      " 4   _source  67 non-null     object \n",
      " 5   sort     67 non-null     object \n",
      "dtypes: float64(1), object(5)\n",
      "memory usage: 3.3+ KB\n"
     ]
    },
    {
     "ename": "TypeError",
     "evalue": "string indices must be integers",
     "output_type": "error",
     "traceback": [
      "\u001B[1;31m---------------------------------------------------------------------------\u001B[0m",
      "\u001B[1;31mTypeError\u001B[0m                                 Traceback (most recent call last)",
      "\u001B[1;32m<ipython-input-7-63c1ca47e391>\u001B[0m in \u001B[0;36m<module>\u001B[1;34m\u001B[0m\n\u001B[0;32m      4\u001B[0m \u001B[1;31m# _source column is a nested list\u001B[0m\u001B[1;33m\u001B[0m\u001B[1;33m\u001B[0m\u001B[1;33m\u001B[0m\u001B[0m\n\u001B[0;32m      5\u001B[0m \u001B[1;31m# Apply a custom function from pandas to flatten the values in _source\u001B[0m\u001B[1;33m\u001B[0m\u001B[1;33m\u001B[0m\u001B[1;33m\u001B[0m\u001B[0m\n\u001B[1;32m----> 6\u001B[1;33m \u001B[0mdata_nested\u001B[0m \u001B[1;33m=\u001B[0m \u001B[0mpd\u001B[0m\u001B[1;33m.\u001B[0m\u001B[0mjson_normalize\u001B[0m\u001B[1;33m(\u001B[0m\u001B[0mdata\u001B[0m\u001B[1;33m,\u001B[0m \u001B[0mrecord_path\u001B[0m\u001B[1;33m=\u001B[0m \u001B[1;33m[\u001B[0m\u001B[1;34m'_source'\u001B[0m\u001B[1;33m]\u001B[0m\u001B[1;33m)\u001B[0m\u001B[1;33m\u001B[0m\u001B[1;33m\u001B[0m\u001B[0m\n\u001B[0m",
      "\u001B[1;32md:\\program files\\python\\python38\\lib\\site-packages\\pandas\\io\\json\\_normalize.py\u001B[0m in \u001B[0;36m_json_normalize\u001B[1;34m(data, record_path, meta, meta_prefix, record_prefix, errors, sep, max_level)\u001B[0m\n\u001B[0;32m    334\u001B[0m                 \u001B[0mrecords\u001B[0m\u001B[1;33m.\u001B[0m\u001B[0mextend\u001B[0m\u001B[1;33m(\u001B[0m\u001B[0mrecs\u001B[0m\u001B[1;33m)\u001B[0m\u001B[1;33m\u001B[0m\u001B[1;33m\u001B[0m\u001B[0m\n\u001B[0;32m    335\u001B[0m \u001B[1;33m\u001B[0m\u001B[0m\n\u001B[1;32m--> 336\u001B[1;33m     \u001B[0m_recursive_extract\u001B[0m\u001B[1;33m(\u001B[0m\u001B[0mdata\u001B[0m\u001B[1;33m,\u001B[0m \u001B[0mrecord_path\u001B[0m\u001B[1;33m,\u001B[0m \u001B[1;33m{\u001B[0m\u001B[1;33m}\u001B[0m\u001B[1;33m,\u001B[0m \u001B[0mlevel\u001B[0m\u001B[1;33m=\u001B[0m\u001B[1;36m0\u001B[0m\u001B[1;33m)\u001B[0m\u001B[1;33m\u001B[0m\u001B[1;33m\u001B[0m\u001B[0m\n\u001B[0m\u001B[0;32m    337\u001B[0m \u001B[1;33m\u001B[0m\u001B[0m\n\u001B[0;32m    338\u001B[0m     \u001B[0mresult\u001B[0m \u001B[1;33m=\u001B[0m \u001B[0mDataFrame\u001B[0m\u001B[1;33m(\u001B[0m\u001B[0mrecords\u001B[0m\u001B[1;33m)\u001B[0m\u001B[1;33m\u001B[0m\u001B[1;33m\u001B[0m\u001B[0m\n",
      "\u001B[1;32md:\\program files\\python\\python38\\lib\\site-packages\\pandas\\io\\json\\_normalize.py\u001B[0m in \u001B[0;36m_recursive_extract\u001B[1;34m(data, path, seen_meta, level)\u001B[0m\n\u001B[0;32m    307\u001B[0m         \u001B[1;32melse\u001B[0m\u001B[1;33m:\u001B[0m\u001B[1;33m\u001B[0m\u001B[1;33m\u001B[0m\u001B[0m\n\u001B[0;32m    308\u001B[0m             \u001B[1;32mfor\u001B[0m \u001B[0mobj\u001B[0m \u001B[1;32min\u001B[0m \u001B[0mdata\u001B[0m\u001B[1;33m:\u001B[0m\u001B[1;33m\u001B[0m\u001B[1;33m\u001B[0m\u001B[0m\n\u001B[1;32m--> 309\u001B[1;33m                 \u001B[0mrecs\u001B[0m \u001B[1;33m=\u001B[0m \u001B[0m_pull_records\u001B[0m\u001B[1;33m(\u001B[0m\u001B[0mobj\u001B[0m\u001B[1;33m,\u001B[0m \u001B[0mpath\u001B[0m\u001B[1;33m[\u001B[0m\u001B[1;36m0\u001B[0m\u001B[1;33m]\u001B[0m\u001B[1;33m)\u001B[0m\u001B[1;33m\u001B[0m\u001B[1;33m\u001B[0m\u001B[0m\n\u001B[0m\u001B[0;32m    310\u001B[0m                 recs = [\n\u001B[0;32m    311\u001B[0m                     \u001B[0mnested_to_record\u001B[0m\u001B[1;33m(\u001B[0m\u001B[0mr\u001B[0m\u001B[1;33m,\u001B[0m \u001B[0msep\u001B[0m\u001B[1;33m=\u001B[0m\u001B[0msep\u001B[0m\u001B[1;33m,\u001B[0m \u001B[0mmax_level\u001B[0m\u001B[1;33m=\u001B[0m\u001B[0mmax_level\u001B[0m\u001B[1;33m)\u001B[0m\u001B[1;33m\u001B[0m\u001B[1;33m\u001B[0m\u001B[0m\n",
      "\u001B[1;32md:\\program files\\python\\python38\\lib\\site-packages\\pandas\\io\\json\\_normalize.py\u001B[0m in \u001B[0;36m_pull_records\u001B[1;34m(js, spec)\u001B[0m\n\u001B[0;32m    246\u001B[0m         \u001B[1;32mif\u001B[0m \u001B[0mhas\u001B[0m \u001B[0mnon\u001B[0m \u001B[0miterable\u001B[0m \u001B[0mvalue\u001B[0m\u001B[1;33m.\u001B[0m\u001B[1;33m\u001B[0m\u001B[1;33m\u001B[0m\u001B[0m\n\u001B[0;32m    247\u001B[0m         \"\"\"\n\u001B[1;32m--> 248\u001B[1;33m         \u001B[0mresult\u001B[0m \u001B[1;33m=\u001B[0m \u001B[0m_pull_field\u001B[0m\u001B[1;33m(\u001B[0m\u001B[0mjs\u001B[0m\u001B[1;33m,\u001B[0m \u001B[0mspec\u001B[0m\u001B[1;33m)\u001B[0m\u001B[1;33m\u001B[0m\u001B[1;33m\u001B[0m\u001B[0m\n\u001B[0m\u001B[0;32m    249\u001B[0m \u001B[1;33m\u001B[0m\u001B[0m\n\u001B[0;32m    250\u001B[0m         \u001B[1;31m# GH 31507 GH 30145, GH 26284 if result is not list, raise TypeError if not\u001B[0m\u001B[1;33m\u001B[0m\u001B[1;33m\u001B[0m\u001B[1;33m\u001B[0m\u001B[0m\n",
      "\u001B[1;32md:\\program files\\python\\python38\\lib\\site-packages\\pandas\\io\\json\\_normalize.py\u001B[0m in \u001B[0;36m_pull_field\u001B[1;34m(js, spec)\u001B[0m\n\u001B[0;32m    237\u001B[0m                 \u001B[0mresult\u001B[0m \u001B[1;33m=\u001B[0m \u001B[0mresult\u001B[0m\u001B[1;33m[\u001B[0m\u001B[0mfield\u001B[0m\u001B[1;33m]\u001B[0m\u001B[1;33m\u001B[0m\u001B[1;33m\u001B[0m\u001B[0m\n\u001B[0;32m    238\u001B[0m         \u001B[1;32melse\u001B[0m\u001B[1;33m:\u001B[0m\u001B[1;33m\u001B[0m\u001B[1;33m\u001B[0m\u001B[0m\n\u001B[1;32m--> 239\u001B[1;33m             \u001B[0mresult\u001B[0m \u001B[1;33m=\u001B[0m \u001B[0mresult\u001B[0m\u001B[1;33m[\u001B[0m\u001B[0mspec\u001B[0m\u001B[1;33m]\u001B[0m\u001B[1;33m\u001B[0m\u001B[1;33m\u001B[0m\u001B[0m\n\u001B[0m\u001B[0;32m    240\u001B[0m         \u001B[1;32mreturn\u001B[0m \u001B[0mresult\u001B[0m\u001B[1;33m\u001B[0m\u001B[1;33m\u001B[0m\u001B[0m\n\u001B[0;32m    241\u001B[0m \u001B[1;33m\u001B[0m\u001B[0m\n",
      "\u001B[1;31mTypeError\u001B[0m: string indices must be integers"
     ]
    }
   ],
   "source": [
    "#\n",
    "data.info()\n",
    "data.head()\n",
    "# _source column is a nested list\n",
    "# Apply a custom function from pandas to flatten the values in _source\n",
    "\n",
    "data_nested = pd.json_normalize(data, record_path= ['_source'])"
   ],
   "metadata": {
    "collapsed": false,
    "pycharm": {
     "name": "#%%\n"
    }
   }
  },
  {
   "cell_type": "code",
   "execution_count": 8,
   "outputs": [
    {
     "ename": "TypeError",
     "evalue": "{'_index': 'repository_configuration', '_type': '_doc', '_id': 'calgary_prism', '_score': None, '_source': {'ir_root': 'calgary_prism', 'ir_name': 'University of Calgary PRISM', 'ir_platform': 'dspace', 'url_string_filter': '/bitstream/', 'add_date': '2020-07-20', 'logging': True, 'country': 'CA', 'description': 'PRISM: University of Calgary’s Digital Repository is used to manage, preserve and make available the academic works of faculty, students and research groups. The collection includes faculty publications, masters and doctoral theses, and research output from across Southern Alberta.', 'urls': ['http://dspace.ucalgary.ca/', 'https://dspace.ucalgary.ca/', 'http://prism.ucalgary.ca/', 'https://prism.ucalgary.ca/', 'http://theses.ucalgary.ca/', 'https://theses.ucalgary.ca/'], 'page_click_index': 'calgary_prism_page_clicks', 'access_info_index': 'calgary_prism_access_info'}, 'sort': [0]} has non list value {'ir_root': 'calgary_prism', 'ir_name': 'University of Calgary PRISM', 'ir_platform': 'dspace', 'url_string_filter': '/bitstream/', 'add_date': '2020-07-20', 'logging': True, 'country': 'CA', 'description': 'PRISM: University of Calgary’s Digital Repository is used to manage, preserve and make available the academic works of faculty, students and research groups. The collection includes faculty publications, masters and doctoral theses, and research output from across Southern Alberta.', 'urls': ['http://dspace.ucalgary.ca/', 'https://dspace.ucalgary.ca/', 'http://prism.ucalgary.ca/', 'https://prism.ucalgary.ca/', 'http://theses.ucalgary.ca/', 'https://theses.ucalgary.ca/'], 'page_click_index': 'calgary_prism_page_clicks', 'access_info_index': 'calgary_prism_access_info'} for path _source. Must be list or null.",
     "output_type": "error",
     "traceback": [
      "\u001B[1;31m---------------------------------------------------------------------------\u001B[0m",
      "\u001B[1;31mTypeError\u001B[0m                                 Traceback (most recent call last)",
      "\u001B[1;32m<ipython-input-8-952939d086c4>\u001B[0m in \u001B[0;36m<module>\u001B[1;34m\u001B[0m\n\u001B[0;32m      5\u001B[0m     \u001B[0mdata\u001B[0m \u001B[1;33m=\u001B[0m \u001B[0mjson\u001B[0m\u001B[1;33m.\u001B[0m\u001B[0mloads\u001B[0m\u001B[1;33m(\u001B[0m\u001B[0mf\u001B[0m\u001B[1;33m.\u001B[0m\u001B[0mread\u001B[0m\u001B[1;33m(\u001B[0m\u001B[1;33m)\u001B[0m\u001B[1;33m)\u001B[0m\u001B[1;31m# Flatten data\u001B[0m\u001B[1;33m\u001B[0m\u001B[1;33m\u001B[0m\u001B[0m\n\u001B[0;32m      6\u001B[0m \u001B[1;33m\u001B[0m\u001B[0m\n\u001B[1;32m----> 7\u001B[1;33m \u001B[0mdf_nested_list\u001B[0m \u001B[1;33m=\u001B[0m \u001B[0mpd\u001B[0m\u001B[1;33m.\u001B[0m\u001B[0mjson_normalize\u001B[0m\u001B[1;33m(\u001B[0m\u001B[0mdata\u001B[0m\u001B[1;33m,\u001B[0m \u001B[0mrecord_path\u001B[0m \u001B[1;33m=\u001B[0m\u001B[1;33m[\u001B[0m\u001B[1;34m'_source'\u001B[0m\u001B[1;33m]\u001B[0m\u001B[1;33m)\u001B[0m\u001B[1;33m\u001B[0m\u001B[1;33m\u001B[0m\u001B[0m\n\u001B[0m\u001B[0;32m      8\u001B[0m \u001B[1;33m\u001B[0m\u001B[0m\n",
      "\u001B[1;32md:\\program files\\python\\python38\\lib\\site-packages\\pandas\\io\\json\\_normalize.py\u001B[0m in \u001B[0;36m_json_normalize\u001B[1;34m(data, record_path, meta, meta_prefix, record_prefix, errors, sep, max_level)\u001B[0m\n\u001B[0;32m    334\u001B[0m                 \u001B[0mrecords\u001B[0m\u001B[1;33m.\u001B[0m\u001B[0mextend\u001B[0m\u001B[1;33m(\u001B[0m\u001B[0mrecs\u001B[0m\u001B[1;33m)\u001B[0m\u001B[1;33m\u001B[0m\u001B[1;33m\u001B[0m\u001B[0m\n\u001B[0;32m    335\u001B[0m \u001B[1;33m\u001B[0m\u001B[0m\n\u001B[1;32m--> 336\u001B[1;33m     \u001B[0m_recursive_extract\u001B[0m\u001B[1;33m(\u001B[0m\u001B[0mdata\u001B[0m\u001B[1;33m,\u001B[0m \u001B[0mrecord_path\u001B[0m\u001B[1;33m,\u001B[0m \u001B[1;33m{\u001B[0m\u001B[1;33m}\u001B[0m\u001B[1;33m,\u001B[0m \u001B[0mlevel\u001B[0m\u001B[1;33m=\u001B[0m\u001B[1;36m0\u001B[0m\u001B[1;33m)\u001B[0m\u001B[1;33m\u001B[0m\u001B[1;33m\u001B[0m\u001B[0m\n\u001B[0m\u001B[0;32m    337\u001B[0m \u001B[1;33m\u001B[0m\u001B[0m\n\u001B[0;32m    338\u001B[0m     \u001B[0mresult\u001B[0m \u001B[1;33m=\u001B[0m \u001B[0mDataFrame\u001B[0m\u001B[1;33m(\u001B[0m\u001B[0mrecords\u001B[0m\u001B[1;33m)\u001B[0m\u001B[1;33m\u001B[0m\u001B[1;33m\u001B[0m\u001B[0m\n",
      "\u001B[1;32md:\\program files\\python\\python38\\lib\\site-packages\\pandas\\io\\json\\_normalize.py\u001B[0m in \u001B[0;36m_recursive_extract\u001B[1;34m(data, path, seen_meta, level)\u001B[0m\n\u001B[0;32m    307\u001B[0m         \u001B[1;32melse\u001B[0m\u001B[1;33m:\u001B[0m\u001B[1;33m\u001B[0m\u001B[1;33m\u001B[0m\u001B[0m\n\u001B[0;32m    308\u001B[0m             \u001B[1;32mfor\u001B[0m \u001B[0mobj\u001B[0m \u001B[1;32min\u001B[0m \u001B[0mdata\u001B[0m\u001B[1;33m:\u001B[0m\u001B[1;33m\u001B[0m\u001B[1;33m\u001B[0m\u001B[0m\n\u001B[1;32m--> 309\u001B[1;33m                 \u001B[0mrecs\u001B[0m \u001B[1;33m=\u001B[0m \u001B[0m_pull_records\u001B[0m\u001B[1;33m(\u001B[0m\u001B[0mobj\u001B[0m\u001B[1;33m,\u001B[0m \u001B[0mpath\u001B[0m\u001B[1;33m[\u001B[0m\u001B[1;36m0\u001B[0m\u001B[1;33m]\u001B[0m\u001B[1;33m)\u001B[0m\u001B[1;33m\u001B[0m\u001B[1;33m\u001B[0m\u001B[0m\n\u001B[0m\u001B[0;32m    310\u001B[0m                 recs = [\n\u001B[0;32m    311\u001B[0m                     \u001B[0mnested_to_record\u001B[0m\u001B[1;33m(\u001B[0m\u001B[0mr\u001B[0m\u001B[1;33m,\u001B[0m \u001B[0msep\u001B[0m\u001B[1;33m=\u001B[0m\u001B[0msep\u001B[0m\u001B[1;33m,\u001B[0m \u001B[0mmax_level\u001B[0m\u001B[1;33m=\u001B[0m\u001B[0mmax_level\u001B[0m\u001B[1;33m)\u001B[0m\u001B[1;33m\u001B[0m\u001B[1;33m\u001B[0m\u001B[0m\n",
      "\u001B[1;32md:\\program files\\python\\python38\\lib\\site-packages\\pandas\\io\\json\\_normalize.py\u001B[0m in \u001B[0;36m_pull_records\u001B[1;34m(js, spec)\u001B[0m\n\u001B[0;32m    254\u001B[0m                 \u001B[0mresult\u001B[0m \u001B[1;33m=\u001B[0m \u001B[1;33m[\u001B[0m\u001B[1;33m]\u001B[0m\u001B[1;33m\u001B[0m\u001B[1;33m\u001B[0m\u001B[0m\n\u001B[0;32m    255\u001B[0m             \u001B[1;32melse\u001B[0m\u001B[1;33m:\u001B[0m\u001B[1;33m\u001B[0m\u001B[1;33m\u001B[0m\u001B[0m\n\u001B[1;32m--> 256\u001B[1;33m                 raise TypeError(\n\u001B[0m\u001B[0;32m    257\u001B[0m                     \u001B[1;34mf\"{js} has non list value {result} for path {spec}. \"\u001B[0m\u001B[1;33m\u001B[0m\u001B[1;33m\u001B[0m\u001B[0m\n\u001B[0;32m    258\u001B[0m                     \u001B[1;34m\"Must be list or null.\"\u001B[0m\u001B[1;33m\u001B[0m\u001B[1;33m\u001B[0m\u001B[0m\n",
      "\u001B[1;31mTypeError\u001B[0m: {'_index': 'repository_configuration', '_type': '_doc', '_id': 'calgary_prism', '_score': None, '_source': {'ir_root': 'calgary_prism', 'ir_name': 'University of Calgary PRISM', 'ir_platform': 'dspace', 'url_string_filter': '/bitstream/', 'add_date': '2020-07-20', 'logging': True, 'country': 'CA', 'description': 'PRISM: University of Calgary’s Digital Repository is used to manage, preserve and make available the academic works of faculty, students and research groups. The collection includes faculty publications, masters and doctoral theses, and research output from across Southern Alberta.', 'urls': ['http://dspace.ucalgary.ca/', 'https://dspace.ucalgary.ca/', 'http://prism.ucalgary.ca/', 'https://prism.ucalgary.ca/', 'http://theses.ucalgary.ca/', 'https://theses.ucalgary.ca/'], 'page_click_index': 'calgary_prism_page_clicks', 'access_info_index': 'calgary_prism_access_info'}, 'sort': [0]} has non list value {'ir_root': 'calgary_prism', 'ir_name': 'University of Calgary PRISM', 'ir_platform': 'dspace', 'url_string_filter': '/bitstream/', 'add_date': '2020-07-20', 'logging': True, 'country': 'CA', 'description': 'PRISM: University of Calgary’s Digital Repository is used to manage, preserve and make available the academic works of faculty, students and research groups. The collection includes faculty publications, masters and doctoral theses, and research output from across Southern Alberta.', 'urls': ['http://dspace.ucalgary.ca/', 'https://dspace.ucalgary.ca/', 'http://prism.ucalgary.ca/', 'https://prism.ucalgary.ca/', 'http://theses.ucalgary.ca/', 'https://theses.ucalgary.ca/'], 'page_click_index': 'calgary_prism_page_clicks', 'access_info_index': 'calgary_prism_access_info'} for path _source. Must be list or null."
     ]
    }
   ],
   "source": [
    "import json\n",
    "# load data using Python JSON module\n",
    "\n",
    "with open('ir_data/ir_config.json','r') as f:\n",
    "    data = json.loads(f.read())# Flatten data\n",
    "\n",
    "df_nested_list = pd.json_normalize(data, record_path =['_source'])\n"
   ],
   "metadata": {
    "collapsed": false,
    "pycharm": {
     "name": "#%%\n"
    }
   }
  }
 ],
 "metadata": {
  "kernelspec": {
   "display_name": "Python 3",
   "language": "python",
   "name": "python3"
  },
  "language_info": {
   "codemirror_mode": {
    "name": "ipython",
    "version": 2
   },
   "file_extension": ".py",
   "mimetype": "text/x-python",
   "name": "python",
   "nbconvert_exporter": "python",
   "pygments_lexer": "ipython2",
   "version": "2.7.6"
  }
 },
 "nbformat": 4,
 "nbformat_minor": 0
}