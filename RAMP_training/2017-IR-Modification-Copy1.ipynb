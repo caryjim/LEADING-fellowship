{
 "cells": [
  {
   "cell_type": "code",
   "execution_count": 1,
   "metadata": {
    "execution": {
     "iopub.execute_input": "2021-10-18T19:07:09.005904Z",
     "iopub.status.busy": "2021-10-18T19:07:09.005904Z",
     "iopub.status.idle": "2021-10-18T19:07:09.021525Z",
     "shell.execute_reply": "2021-10-18T19:07:09.021525Z",
     "shell.execute_reply.started": "2021-10-18T19:07:09.005904Z"
    },
    "id": "PfmO5awhQU6Z",
    "tags": []
   },
   "outputs": [
    {
     "data": {
      "text/plain": [
       "'D:\\\\Documents\\\\PycharmProjects\\\\LEADING-RAMP'"
      ]
     },
     "execution_count": 1,
     "metadata": {},
     "output_type": "execute_result"
    }
   ],
   "source": [
    "import os\n",
    "os.getcwd()"
   ]
  },
  {
   "cell_type": "code",
   "execution_count": 2,
   "metadata": {
    "execution": {
     "iopub.execute_input": "2021-10-18T19:07:11.226707Z",
     "iopub.status.busy": "2021-10-18T19:07:11.226707Z",
     "iopub.status.idle": "2021-10-18T19:07:13.278373Z",
     "shell.execute_reply": "2021-10-18T19:07:13.278373Z",
     "shell.execute_reply.started": "2021-10-18T19:07:11.226707Z"
    },
    "tags": []
   },
   "outputs": [],
   "source": [
    "import pandas as pd"
   ]
  },
  {
   "cell_type": "code",
   "execution_count": 3,
   "metadata": {
    "execution": {
     "iopub.execute_input": "2021-10-18T19:07:14.450044Z",
     "iopub.status.busy": "2021-10-18T19:07:14.450044Z",
     "iopub.status.idle": "2021-10-18T19:07:21.134674Z",
     "shell.execute_reply": "2021-10-18T19:07:21.134674Z",
     "shell.execute_reply.started": "2021-10-18T19:07:14.450044Z"
    },
    "tags": []
   },
   "outputs": [],
   "source": [
    "from dateutil.parser import parse \n",
    "import matplotlib as mpl\n",
    "import matplotlib.pyplot as plt\n",
    "import seaborn as sns\n",
    "import numpy as np\n",
    "plt.rcParams.update({'figure.figsize': (10, 7), 'figure.dpi': 120})"
   ]
  },
  {
   "cell_type": "code",
   "execution_count": 4,
   "metadata": {
    "execution": {
     "iopub.execute_input": "2021-10-18T19:07:22.252984Z",
     "iopub.status.busy": "2021-10-18T19:07:22.252984Z",
     "iopub.status.idle": "2021-10-18T19:07:22.337612Z",
     "shell.execute_reply": "2021-10-18T19:07:22.337612Z",
     "shell.execute_reply.started": "2021-10-18T19:07:22.252984Z"
    },
    "tags": []
   },
   "outputs": [],
   "source": [
    "#list files names in a dir\n",
    "from os import listdir\n",
    "from os.path import isfile, join\n",
    "onlyfiles = [f for f in listdir('D:\\\\Research Data\\\\LEADING Fellowship\\\\daily_clicks_per_ir\\\\first-batch') \n",
    "             if isfile(join('D:\\\\Research Data\\\\LEADING Fellowship\\\\daily_clicks_per_ir\\\\first-batch', f))]"
   ]
  },
  {
   "cell_type": "code",
   "execution_count": 5,
   "metadata": {
    "execution": {
     "iopub.execute_input": "2021-10-18T19:07:26.778488Z",
     "iopub.status.busy": "2021-10-18T19:07:26.778488Z",
     "iopub.status.idle": "2021-10-18T19:07:26.794110Z",
     "shell.execute_reply": "2021-10-18T19:07:26.794110Z",
     "shell.execute_reply.started": "2021-10-18T19:07:26.778488Z"
    },
    "tags": []
   },
   "outputs": [
    {
     "data": {
      "text/plain": [
       "['boston_university_RAMP_pc_daily_clicks.csv',\n",
       " 'california_tech_authors_RAMP_pc_daily_clicks.csv',\n",
       " 'california_tech_thesis_RAMP_pc_daily_clicks.csv',\n",
       " 'kansas_state_university_RAMP_pc_daily_clicks.csv',\n",
       " 'maryland_drum_RAMP_pc_daily_clicks.csv',\n",
       " 'montana_state_university_RAMP_pc_daily_clicks.csv',\n",
       " 'northern_kentucky_university_RAMP_pc_daily_clicks.csv',\n",
       " 'rutgers_university_RAMP_pc_daily_clicks.csv',\n",
       " 'swarthmore_college_RAMP_pc_daily_clicks.csv',\n",
       " 'texas_am_university_RAMP_pc_daily_clicks.csv',\n",
       " 'university_kentucky_RAMP_pc_daily_clicks.csv',\n",
       " 'university_michigan_RAMP_pc_daily_clicks.csv',\n",
       " 'university_nevada_las_vegas_RAMP_pc_daily_clicks.csv',\n",
       " 'university_new_mexico_RAMP_pc_daily_clicks.csv',\n",
       " 'university_texas_RAMP_pc_daily_clicks.csv']"
      ]
     },
     "execution_count": 5,
     "metadata": {},
     "output_type": "execute_result"
    }
   ],
   "source": [
    "onlyfiles"
   ]
  },
  {
   "cell_type": "code",
   "execution_count": 6,
   "metadata": {
    "execution": {
     "iopub.execute_input": "2021-10-18T19:07:37.773864Z",
     "iopub.status.busy": "2021-10-18T19:07:37.773864Z",
     "iopub.status.idle": "2021-10-18T19:07:38.090151Z",
     "shell.execute_reply": "2021-10-18T19:07:38.090151Z",
     "shell.execute_reply.started": "2021-10-18T19:07:37.773864Z"
    },
    "tags": []
   },
   "outputs": [],
   "source": [
    "# Reference to script from https://www.geeksforgeeks.org/read-multiple-csv-files-into-separate-dataframes-in-python/\n",
    "# assign dataset names\n",
    "list_of_names = ['boston_university_RAMP_pc_daily_clicks.csv','california_tech_authors_RAMP_pc_daily_clicks.csv',\n",
    "                 'california_tech_thesis_RAMP_pc_daily_clicks.csv','kansas_state_university_RAMP_pc_daily_clicks.csv',\n",
    "                 'maryland_drum_RAMP_pc_daily_clicks.csv','montana_state_university_RAMP_pc_daily_clicks.csv',\n",
    "                 'northern_kentucky_university_RAMP_pc_daily_clicks.csv','rutgers_university_RAMP_pc_daily_clicks.csv',\n",
    "                 'swarthmore_college_RAMP_pc_daily_clicks.csv','texas_am_university_RAMP_pc_daily_clicks.csv',\n",
    "                 'university_kentucky_RAMP_pc_daily_clicks.csv','university_michigan_RAMP_pc_daily_clicks.csv',\n",
    "                 'university_nevada_las_vegas_RAMP_pc_daily_clicks.csv','university_new_mexico_RAMP_pc_daily_clicks.csv',\n",
    "                 'university_texas_RAMP_pc_daily_clicks.csv']\n",
    "\n",
    "# create empty list\n",
    "dataframes_list = []\n",
    " \n",
    "# append datasets into teh list\n",
    "for i in range(len(list_of_names)):\n",
    "    temp_df = pd.read_csv(\"D:\\\\Research Data\\\\LEADING Fellowship\\\\daily_clicks_per_ir\\\\first-batch\\\\\"+list_of_names[i], parse_dates = ['date'], index_col = \"date\")\n",
    "    dataframes_list.append(temp_df)\n",
    "# Future modification is to see if I can read each file and assign a df name during the process. "
   ]
  },
  {
   "cell_type": "code",
   "execution_count": 7,
   "metadata": {
    "execution": {
     "iopub.execute_input": "2021-10-18T19:08:46.639043Z",
     "iopub.status.busy": "2021-10-18T19:08:46.639043Z",
     "iopub.status.idle": "2021-10-18T19:08:46.723668Z",
     "shell.execute_reply": "2021-10-18T19:08:46.723668Z",
     "shell.execute_reply.started": "2021-10-18T19:08:46.639043Z"
    },
    "tags": []
   },
   "outputs": [
    {
     "data": {
      "text/html": [
       "<div>\n",
       "<style scoped>\n",
       "    .dataframe tbody tr th:only-of-type {\n",
       "        vertical-align: middle;\n",
       "    }\n",
       "\n",
       "    .dataframe tbody tr th {\n",
       "        vertical-align: top;\n",
       "    }\n",
       "\n",
       "    .dataframe thead th {\n",
       "        text-align: right;\n",
       "    }\n",
       "</style>\n",
       "<table border=\"1\" class=\"dataframe\">\n",
       "  <thead>\n",
       "    <tr style=\"text-align: right;\">\n",
       "      <th></th>\n",
       "      <th>clicks</th>\n",
       "      <th>repository_id</th>\n",
       "    </tr>\n",
       "    <tr>\n",
       "      <th>date</th>\n",
       "      <th></th>\n",
       "      <th></th>\n",
       "    </tr>\n",
       "  </thead>\n",
       "  <tbody>\n",
       "    <tr>\n",
       "      <th>2017-12-17</th>\n",
       "      <td>645.0</td>\n",
       "      <td>boston_university</td>\n",
       "    </tr>\n",
       "    <tr>\n",
       "      <th>2017-12-18</th>\n",
       "      <td>715.0</td>\n",
       "      <td>boston_university</td>\n",
       "    </tr>\n",
       "    <tr>\n",
       "      <th>2017-12-19</th>\n",
       "      <td>732.0</td>\n",
       "      <td>boston_university</td>\n",
       "    </tr>\n",
       "    <tr>\n",
       "      <th>2017-12-20</th>\n",
       "      <td>670.0</td>\n",
       "      <td>boston_university</td>\n",
       "    </tr>\n",
       "    <tr>\n",
       "      <th>2017-12-21</th>\n",
       "      <td>2.0</td>\n",
       "      <td>boston_university</td>\n",
       "    </tr>\n",
       "    <tr>\n",
       "      <th>...</th>\n",
       "      <td>...</td>\n",
       "      <td>...</td>\n",
       "    </tr>\n",
       "    <tr>\n",
       "      <th>2021-03-27</th>\n",
       "      <td>375.0</td>\n",
       "      <td>boston_university</td>\n",
       "    </tr>\n",
       "    <tr>\n",
       "      <th>2021-03-28</th>\n",
       "      <td>471.0</td>\n",
       "      <td>boston_university</td>\n",
       "    </tr>\n",
       "    <tr>\n",
       "      <th>2021-03-29</th>\n",
       "      <td>531.0</td>\n",
       "      <td>boston_university</td>\n",
       "    </tr>\n",
       "    <tr>\n",
       "      <th>2021-03-30</th>\n",
       "      <td>495.0</td>\n",
       "      <td>boston_university</td>\n",
       "    </tr>\n",
       "    <tr>\n",
       "      <th>2021-03-31</th>\n",
       "      <td>478.0</td>\n",
       "      <td>boston_university</td>\n",
       "    </tr>\n",
       "  </tbody>\n",
       "</table>\n",
       "<p>1200 rows × 2 columns</p>\n",
       "</div>"
      ],
      "text/plain": [
       "            clicks      repository_id\n",
       "date                                 \n",
       "2017-12-17   645.0  boston_university\n",
       "2017-12-18   715.0  boston_university\n",
       "2017-12-19   732.0  boston_university\n",
       "2017-12-20   670.0  boston_university\n",
       "2017-12-21     2.0  boston_university\n",
       "...            ...                ...\n",
       "2021-03-27   375.0  boston_university\n",
       "2021-03-28   471.0  boston_university\n",
       "2021-03-29   531.0  boston_university\n",
       "2021-03-30   495.0  boston_university\n",
       "2021-03-31   478.0  boston_university\n",
       "\n",
       "[1200 rows x 2 columns]"
      ]
     },
     "execution_count": 7,
     "metadata": {},
     "output_type": "execute_result"
    }
   ],
   "source": [
    "dataframes_list[0]  #Each file has been read as df with date as index, and stored in a list "
   ]
  },
  {
   "cell_type": "code",
   "execution_count": 8,
   "metadata": {
    "execution": {
     "iopub.execute_input": "2021-10-18T19:09:05.921999Z",
     "iopub.status.busy": "2021-10-18T19:09:05.921999Z",
     "iopub.status.idle": "2021-10-18T19:09:06.100343Z",
     "shell.execute_reply": "2021-10-18T19:09:06.100343Z",
     "shell.execute_reply.started": "2021-10-18T19:09:05.921999Z"
    },
    "tags": []
   },
   "outputs": [],
   "source": [
    "# Concat all df in the list to one dataframe \n",
    "# This method aggregate each IR dataframe from the list format into one df and export as a csv file. \n",
    "# There are 20377 rows of record in this dataframe\n",
    "pd.concat(dataframes_list).to_csv('all_IR_from2017.csv')"
   ]
  },
  {
   "cell_type": "code",
   "execution_count": 9,
   "metadata": {
    "execution": {
     "iopub.execute_input": "2021-10-18T19:09:08.521867Z",
     "iopub.status.busy": "2021-10-18T19:09:08.521867Z",
     "iopub.status.idle": "2021-10-18T19:09:08.544000Z",
     "shell.execute_reply": "2021-10-18T19:09:08.544000Z",
     "shell.execute_reply.started": "2021-10-18T19:09:08.521867Z"
    },
    "tags": []
   },
   "outputs": [],
   "source": [
    "all_ir = pd.read_csv(\"all_IR_from2017.csv\")"
   ]
  },
  {
   "cell_type": "code",
   "execution_count": 10,
   "metadata": {
    "execution": {
     "iopub.execute_input": "2021-10-18T19:09:27.335724Z",
     "iopub.status.busy": "2021-10-18T19:09:27.335724Z",
     "iopub.status.idle": "2021-10-18T19:09:27.366966Z",
     "shell.execute_reply": "2021-10-18T19:09:27.366966Z",
     "shell.execute_reply.started": "2021-10-18T19:09:27.335724Z"
    },
    "tags": []
   },
   "outputs": [
    {
     "data": {
      "text/html": [
       "<div>\n",
       "<style scoped>\n",
       "    .dataframe tbody tr th:only-of-type {\n",
       "        vertical-align: middle;\n",
       "    }\n",
       "\n",
       "    .dataframe tbody tr th {\n",
       "        vertical-align: top;\n",
       "    }\n",
       "\n",
       "    .dataframe thead th {\n",
       "        text-align: right;\n",
       "    }\n",
       "</style>\n",
       "<table border=\"1\" class=\"dataframe\">\n",
       "  <thead>\n",
       "    <tr style=\"text-align: right;\">\n",
       "      <th></th>\n",
       "      <th>date</th>\n",
       "      <th>clicks</th>\n",
       "      <th>repository_id</th>\n",
       "    </tr>\n",
       "  </thead>\n",
       "  <tbody>\n",
       "    <tr>\n",
       "      <th>0</th>\n",
       "      <td>2017-12-17</td>\n",
       "      <td>645.0</td>\n",
       "      <td>boston_university</td>\n",
       "    </tr>\n",
       "    <tr>\n",
       "      <th>1</th>\n",
       "      <td>2017-12-18</td>\n",
       "      <td>715.0</td>\n",
       "      <td>boston_university</td>\n",
       "    </tr>\n",
       "    <tr>\n",
       "      <th>2</th>\n",
       "      <td>2017-12-19</td>\n",
       "      <td>732.0</td>\n",
       "      <td>boston_university</td>\n",
       "    </tr>\n",
       "    <tr>\n",
       "      <th>3</th>\n",
       "      <td>2017-12-20</td>\n",
       "      <td>670.0</td>\n",
       "      <td>boston_university</td>\n",
       "    </tr>\n",
       "    <tr>\n",
       "      <th>4</th>\n",
       "      <td>2017-12-21</td>\n",
       "      <td>2.0</td>\n",
       "      <td>boston_university</td>\n",
       "    </tr>\n",
       "  </tbody>\n",
       "</table>\n",
       "</div>"
      ],
      "text/plain": [
       "         date  clicks      repository_id\n",
       "0  2017-12-17   645.0  boston_university\n",
       "1  2017-12-18   715.0  boston_university\n",
       "2  2017-12-19   732.0  boston_university\n",
       "3  2017-12-20   670.0  boston_university\n",
       "4  2017-12-21     2.0  boston_university"
      ]
     },
     "execution_count": 10,
     "metadata": {},
     "output_type": "execute_result"
    }
   ],
   "source": [
    "all_ir.head()\n",
    "#Notice that after concat, the date column is no longer indexed. "
   ]
  },
  {
   "cell_type": "code",
   "execution_count": 11,
   "metadata": {
    "execution": {
     "iopub.execute_input": "2021-10-18T19:09:39.881240Z",
     "iopub.status.busy": "2021-10-18T19:09:39.881240Z",
     "iopub.status.idle": "2021-10-18T19:09:39.918994Z",
     "shell.execute_reply": "2021-10-18T19:09:39.918994Z",
     "shell.execute_reply.started": "2021-10-18T19:09:39.881240Z"
    },
    "tags": []
   },
   "outputs": [
    {
     "data": {
      "text/html": [
       "<div>\n",
       "<style scoped>\n",
       "    .dataframe tbody tr th:only-of-type {\n",
       "        vertical-align: middle;\n",
       "    }\n",
       "\n",
       "    .dataframe tbody tr th {\n",
       "        vertical-align: top;\n",
       "    }\n",
       "\n",
       "    .dataframe thead th {\n",
       "        text-align: right;\n",
       "    }\n",
       "</style>\n",
       "<table border=\"1\" class=\"dataframe\">\n",
       "  <thead>\n",
       "    <tr style=\"text-align: right;\">\n",
       "      <th></th>\n",
       "      <th>date</th>\n",
       "      <th>clicks</th>\n",
       "      <th>repository_id</th>\n",
       "    </tr>\n",
       "  </thead>\n",
       "  <tbody>\n",
       "    <tr>\n",
       "      <th>20372</th>\n",
       "      <td>2021-03-27</td>\n",
       "      <td>2711.0</td>\n",
       "      <td>university_texas</td>\n",
       "    </tr>\n",
       "    <tr>\n",
       "      <th>20373</th>\n",
       "      <td>2021-03-28</td>\n",
       "      <td>3440.0</td>\n",
       "      <td>university_texas</td>\n",
       "    </tr>\n",
       "    <tr>\n",
       "      <th>20374</th>\n",
       "      <td>2021-03-29</td>\n",
       "      <td>3768.0</td>\n",
       "      <td>university_texas</td>\n",
       "    </tr>\n",
       "    <tr>\n",
       "      <th>20375</th>\n",
       "      <td>2021-03-30</td>\n",
       "      <td>3709.0</td>\n",
       "      <td>university_texas</td>\n",
       "    </tr>\n",
       "    <tr>\n",
       "      <th>20376</th>\n",
       "      <td>2021-03-31</td>\n",
       "      <td>3679.0</td>\n",
       "      <td>university_texas</td>\n",
       "    </tr>\n",
       "  </tbody>\n",
       "</table>\n",
       "</div>"
      ],
      "text/plain": [
       "             date  clicks     repository_id\n",
       "20372  2021-03-27  2711.0  university_texas\n",
       "20373  2021-03-28  3440.0  university_texas\n",
       "20374  2021-03-29  3768.0  university_texas\n",
       "20375  2021-03-30  3709.0  university_texas\n",
       "20376  2021-03-31  3679.0  university_texas"
      ]
     },
     "execution_count": 11,
     "metadata": {},
     "output_type": "execute_result"
    }
   ],
   "source": [
    "all_ir.tail()"
   ]
  },
  {
   "cell_type": "markdown",
   "metadata": {},
   "source": [
    "If I call on the dataframe list on its own, then the date is still indexed. "
   ]
  },
  {
   "cell_type": "code",
   "execution_count": 13,
   "metadata": {
    "execution": {
     "iopub.execute_input": "2021-10-18T19:11:05.939699Z",
     "iopub.status.busy": "2021-10-18T19:11:05.939699Z",
     "iopub.status.idle": "2021-10-18T19:11:05.970939Z",
     "shell.execute_reply": "2021-10-18T19:11:05.970939Z",
     "shell.execute_reply.started": "2021-10-18T19:11:05.939699Z"
    },
    "tags": []
   },
   "outputs": [
    {
     "name": "stdout",
     "output_type": "stream",
     "text": [
      "<class 'pandas.core.frame.DataFrame'>\n",
      "DatetimeIndex: 1200 entries, 2017-12-17 to 2021-03-31\n",
      "Data columns (total 2 columns):\n",
      " #   Column         Non-Null Count  Dtype  \n",
      "---  ------         --------------  -----  \n",
      " 0   clicks         1200 non-null   float64\n",
      " 1   repository_id  1200 non-null   object \n",
      "dtypes: float64(1), object(1)\n",
      "memory usage: 28.1+ KB\n"
     ]
    }
   ],
   "source": [
    "#checking the first IR and if the datatype is correct \n",
    "boston = dataframes_list[0]\n",
    "boston.info()"
   ]
  },
  {
   "cell_type": "code",
   "execution_count": 14,
   "metadata": {
    "execution": {
     "iopub.execute_input": "2021-10-18T19:11:08.677542Z",
     "iopub.status.busy": "2021-10-18T19:11:08.677542Z",
     "iopub.status.idle": "2021-10-18T19:11:10.450677Z",
     "shell.execute_reply": "2021-10-18T19:11:10.450677Z",
     "shell.execute_reply.started": "2021-10-18T19:11:08.677542Z"
    },
    "tags": []
   },
   "outputs": [
    {
     "name": "stderr",
     "output_type": "stream",
     "text": [
      "Traceback (most recent call last):\n",
      "  File \"d:\\program files\\python\\python38\\lib\\runpy.py\", line 194, in _run_module_as_main\n",
      "    return _run_code(code, main_globals, None,\n",
      "  File \"d:\\program files\\python\\python38\\lib\\runpy.py\", line 87, in _run_code\n",
      "    exec(code, run_globals)\n",
      "  File \"D:\\Program Files\\Python\\Python38\\Scripts\\pip.exe\\__main__.py\", line 4, in <module>\n",
      "  File \"d:\\program files\\python\\python38\\lib\\site-packages\\pip\\_internal\\cli\\main.py\", line 10, in <module>\n",
      "    from pip._internal.cli.autocompletion import autocomplete\n",
      "  File \"d:\\program files\\python\\python38\\lib\\site-packages\\pip\\_internal\\cli\\autocompletion.py\", line 9, in <module>\n",
      "    from pip._internal.cli.main_parser import create_main_parser\n",
      "  File \"d:\\program files\\python\\python38\\lib\\site-packages\\pip\\_internal\\cli\\main_parser.py\", line 7, in <module>\n",
      "    from pip._internal.cli import cmdoptions\n",
      "  File \"d:\\program files\\python\\python38\\lib\\site-packages\\pip\\_internal\\cli\\cmdoptions.py\", line 24, in <module>\n",
      "    from pip._internal.cli.progress_bars import BAR_TYPES\n",
      "  File \"d:\\program files\\python\\python38\\lib\\site-packages\\pip\\_internal\\cli\\progress_bars.py\", line 12, in <module>\n",
      "    from pip._internal.utils.logging import get_indentation\n",
      "  File \"d:\\program files\\python\\python38\\lib\\site-packages\\pip\\_internal\\utils\\logging.py\", line 18, in <module>\n",
      "    from pip._internal.utils.misc import ensure_dir\n",
      "  File \"d:\\program files\\python\\python38\\lib\\site-packages\\pip\\_internal\\utils\\misc.py\", line 31, in <module>\n",
      "    from pip._internal.locations import (\n",
      "  File \"d:\\program files\\python\\python38\\lib\\site-packages\\pip\\_internal\\locations\\__init__.py\", line 9, in <module>\n",
      "    from pip._internal.models.scheme import SCHEME_KEYS, Scheme\n",
      "ImportError: cannot import name 'SCHEME_KEYS' from 'pip._internal.models.scheme' (d:\\program files\\python\\python38\\lib\\site-packages\\pip\\_internal\\models\\scheme.py)\n"
     ]
    }
   ],
   "source": [
    "!pip install statsmodels\n",
    "\n",
    "from statsmodels.tsa.seasonal import seasonal_decompose\n",
    "from dateutil.parser import parse"
   ]
  },
  {
   "cell_type": "code",
   "execution_count": 22,
   "metadata": {
    "execution": {
     "iopub.execute_input": "2021-10-18T18:26:10.293066Z",
     "iopub.status.busy": "2021-10-18T18:26:10.293066Z",
     "iopub.status.idle": "2021-10-18T18:26:10.308685Z",
     "shell.execute_reply": "2021-10-18T18:26:10.308685Z",
     "shell.execute_reply.started": "2021-10-18T18:26:10.293066Z"
    },
    "tags": []
   },
   "outputs": [],
   "source": [
    "# getting length of list\n",
    "length = len(dataframes_list)"
   ]
  },
  {
   "cell_type": "markdown",
   "metadata": {},
   "source": [
    "Manually assigned the IR name with each dataframe in the dataframes_list to create a dictionary"
   ]
  },
  {
   "cell_type": "code",
   "execution_count": 45,
   "metadata": {
    "execution": {
     "iopub.execute_input": "2021-10-18T18:46:12.833205Z",
     "iopub.status.busy": "2021-10-18T18:46:12.833205Z",
     "iopub.status.idle": "2021-10-18T18:46:12.864451Z",
     "shell.execute_reply": "2021-10-18T18:46:12.864451Z",
     "shell.execute_reply.started": "2021-10-18T18:46:12.833205Z"
    }
   },
   "outputs": [],
   "source": [
    "def plot_series(df):\n",
    "    for i in range(df):\n",
    "        data = dataframes_list[i]\n",
    "        data.sort_index(inplace=True)\n",
    "\n",
    "        # Additive Decomposition\n",
    "        add_decomp = seasonal_decompose(data['clicks'], model='additive', extrapolate_trend='freq', period = 7) # for now I'm using 7 for weekly cycle \n",
    "\n",
    "        # Multiplicative Decomposition\n",
    "        # multi_decomp = seasonal_decompose(data['clicks'], model='multiplicative', extrapolate_trend='freq', period = 7) # for now I'm using 7 for weekly cycle \n",
    "\n",
    "        #For graphing \n",
    "        trend = add_decomp.trend\n",
    "        seasonal = add_decomp.seasonal\n",
    "        residual = add_decomp.resid\n",
    "\n",
    "        # Plot gathered statistics\n",
    "        plt.figure(figsize=(12,8))\n",
    "        plt.subplot(411)\n",
    "        plt.plot(data['clicks'], label='Original', color=\"blue\")\n",
    "        plt.legend(loc='best')\n",
    "        plt.subplot(412)\n",
    "        plt.plot(trend, label='Trend', color=\"blue\")\n",
    "        plt.legend(loc='best')\n",
    "        plt.subplot(413)\n",
    "        plt.plot(seasonal,label='Seasonality', color=\"blue\")\n",
    "        plt.legend(loc='best')\n",
    "        plt.subplot(414)\n",
    "        plt.plot(residual, label='Residuals', color=\"blue\")\n",
    "        plt.legend(loc='best')\n",
    "        plt.tight_layout()\n",
    "\n",
    "        # summary statistics\n",
    "        print(residual.describe())\n",
    "\n",
    "        np.mean(residual)\n",
    "\n",
    "        return"
   ]
  },
  {
   "cell_type": "code",
   "execution_count": 46,
   "metadata": {
    "execution": {
     "iopub.execute_input": "2021-10-18T18:46:25.701328Z",
     "iopub.status.busy": "2021-10-18T18:46:25.701328Z",
     "iopub.status.idle": "2021-10-18T18:46:25.732576Z",
     "shell.execute_reply": "2021-10-18T18:46:25.732576Z",
     "shell.execute_reply.started": "2021-10-18T18:46:25.701328Z"
    },
    "tags": []
   },
   "outputs": [
    {
     "ename": "AttributeError",
     "evalue": "'list' object has no attribute 'items'",
     "output_type": "error",
     "traceback": [
      "\u001b[1;31m---------------------------------------------------------------------------\u001b[0m",
      "\u001b[1;31mAttributeError\u001b[0m                            Traceback (most recent call last)",
      "\u001b[1;32m<ipython-input-46-1dfb359e2c67>\u001b[0m in \u001b[0;36m<module>\u001b[1;34m\u001b[0m\n\u001b[1;32m----> 1\u001b[1;33m \u001b[1;32mfor\u001b[0m \u001b[0mkey\u001b[0m\u001b[1;33m,\u001b[0m \u001b[0mvalue\u001b[0m \u001b[1;32min\u001b[0m \u001b[0muni_names\u001b[0m\u001b[1;33m.\u001b[0m\u001b[0mitems\u001b[0m\u001b[1;33m(\u001b[0m\u001b[1;33m)\u001b[0m\u001b[1;33m:\u001b[0m\u001b[1;33m\u001b[0m\u001b[1;33m\u001b[0m\u001b[0m\n\u001b[0m\u001b[0;32m      2\u001b[0m     \u001b[0mplot_series\u001b[0m\u001b[1;33m(\u001b[0m\u001b[0mvalue\u001b[0m\u001b[1;33m)\u001b[0m\u001b[1;33m\u001b[0m\u001b[1;33m\u001b[0m\u001b[0m\n",
      "\u001b[1;31mAttributeError\u001b[0m: 'list' object has no attribute 'items'"
     ]
    }
   ],
   "source": [
    "for key, value in uni_names.items():\n",
    "    plot_series(value)"
   ]
  },
  {
   "cell_type": "code",
   "execution_count": null,
   "metadata": {},
   "outputs": [],
   "source": []
  }
 ],
 "metadata": {
  "colab": {
   "collapsed_sections": [],
   "name": "RAMP2019data.ipynb",
   "provenance": []
  },
  "kernelspec": {
   "display_name": "Python 3",
   "language": "python",
   "name": "python3"
  },
  "language_info": {
   "codemirror_mode": {
    "name": "ipython",
    "version": 3
   },
   "file_extension": ".py",
   "mimetype": "text/x-python",
   "name": "python",
   "nbconvert_exporter": "python",
   "pygments_lexer": "ipython3",
   "version": "3.8.6"
  }
 },
 "nbformat": 4,
 "nbformat_minor": 4
}
