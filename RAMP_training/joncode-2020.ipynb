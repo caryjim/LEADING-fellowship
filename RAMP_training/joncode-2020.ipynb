{
 "cells": [
  {
   "cell_type": "code",
   "execution_count": 1,
   "metadata": {
    "execution": {
     "iopub.execute_input": "2021-08-19T15:55:00.560950Z",
     "iopub.status.busy": "2021-08-19T15:55:00.560950Z",
     "iopub.status.idle": "2021-08-19T15:55:00.576572Z",
     "shell.execute_reply": "2021-08-19T15:55:00.576572Z",
     "shell.execute_reply.started": "2021-08-19T15:55:00.560950Z"
    }
   },
   "outputs": [
    {
     "data": {
      "text/plain": [
       "'D:\\\\Documents\\\\PycharmProjects\\\\LEADING-RAMP'"
      ]
     },
     "execution_count": 1,
     "metadata": {},
     "output_type": "execute_result"
    }
   ],
   "source": [
    "import os\n",
    "os.getcwd()"
   ]
  },
  {
   "cell_type": "markdown",
   "metadata": {},
   "source": [
    "Script from Jon (modify file path to datasets) "
   ]
  },
  {
   "cell_type": "code",
   "execution_count": 2,
   "metadata": {
    "execution": {
     "iopub.execute_input": "2021-08-19T15:55:00.576572Z",
     "iopub.status.busy": "2021-08-19T15:55:00.576572Z",
     "iopub.status.idle": "2021-08-19T15:55:03.736333Z",
     "shell.execute_reply": "2021-08-19T15:55:03.736333Z",
     "shell.execute_reply.started": "2021-08-19T15:55:00.576572Z"
    }
   },
   "outputs": [],
   "source": [
    "import pandas as pd\n",
    "from zipfile import ZipFile\n",
    "import glob"
   ]
  },
  {
   "cell_type": "code",
   "execution_count": 3,
   "metadata": {
    "execution": {
     "iopub.execute_input": "2021-08-19T15:55:03.736333Z",
     "iopub.status.busy": "2021-08-19T15:55:03.736333Z",
     "iopub.status.idle": "2021-08-19T15:55:03.767651Z",
     "shell.execute_reply": "2021-08-19T15:55:03.767651Z",
     "shell.execute_reply.started": "2021-08-19T15:55:03.736333Z"
    }
   },
   "outputs": [],
   "source": [
    "def extract_subset_ramp_data(zip_file, ir_repo_id):\n",
    "    \"\"\"This function tries to conserve memory by opening zipped RAMP monthly\n",
    "       data files one at a time and subsetting the data to a single repository's\n",
    "       data for that month, prior to further processing or aggregation.\n",
    "\n",
    "    Parameters\n",
    "    ----------\n",
    "\n",
    "    zip_file:\n",
    "        String. A file path pointing to a zip file.\n",
    "\n",
    "    ir_repo_id:\n",
    "        String. A locally unique repository identifier which will be used to\n",
    "        subset the unzipped data.\n",
    "\n",
    "    Returns\n",
    "    -------\n",
    "\n",
    "    ir_data:\n",
    "        A Pandas dataframe. The subset of RAMP data for the specified\n",
    "        repository and month.\n",
    "\n",
    "    \"\"\"\n",
    "    with ZipFile(zip_file) as rampzip:\n",
    "        with rampzip.open(rampzip.namelist()[0]) as rampfile:\n",
    "            ramp_df = pd.read_csv(rampfile)\n",
    "    ir_data = ramp_df[ramp_df[\"repository_id\"] == ir_repo_id].copy()\n",
    "    return ir_data\n"
   ]
  },
  {
   "cell_type": "code",
   "execution_count": 4,
   "metadata": {
    "execution": {
     "iopub.execute_input": "2021-08-19T15:55:03.767651Z",
     "iopub.status.busy": "2021-08-19T15:55:03.767651Z",
     "iopub.status.idle": "2021-08-19T15:55:03.783197Z",
     "shell.execute_reply": "2021-08-19T15:55:03.783197Z",
     "shell.execute_reply.started": "2021-08-19T15:55:03.767651Z"
    }
   },
   "outputs": [],
   "source": [
    "def get_ir_data(ir_repo_id, cols, file_list):\n",
    "    \"\"\"This function iterates through a list of zipped RAMP data files to\n",
    "       aggregate a subset of complete RAMP data for a single IR. Creates\n",
    "       an empty Pandas dataframe and then appends monthly data to it.\n",
    "\n",
    "    Parameters\n",
    "    ----------\n",
    "\n",
    "    ir_repo_id:\n",
    "        String. A locally unique repository identifier, designating the\n",
    "        repository whose data will be aggregated.\n",
    "\n",
    "    cols:\n",
    "        List. Column names to be used in the empty dataframe. Appended data will\n",
    "        have the same columns by default.\n",
    "\n",
    "    file_list:\n",
    "        List. File paths to monthly RAMP data in zipped format.\n",
    "\n",
    "    Returns\n",
    "    -------\n",
    "\n",
    "    ir_data:\n",
    "        A Pandas dataframe. The aggregated RAMP data for the specified IR\n",
    "        across all months included in the file_list.\n",
    "\n",
    "    \"\"\"\n",
    "    ir_data = pd.DataFrame(columns=cols)\n",
    "    # append data from each month\n",
    "    for mo_data in file_list:\n",
    "        print(mo_data)\n",
    "        ir_data = ir_data.append(extract_subset_ramp_data(mo_data, ir_repo_id))\n",
    "    return ir_data"
   ]
  },
  {
   "cell_type": "code",
   "execution_count": 5,
   "metadata": {
    "execution": {
     "iopub.execute_input": "2021-08-19T15:55:03.783197Z",
     "iopub.status.busy": "2021-08-19T15:55:03.783197Z",
     "iopub.status.idle": "2021-08-19T15:55:03.805332Z",
     "shell.execute_reply": "2021-08-19T15:55:03.805332Z",
     "shell.execute_reply.started": "2021-08-19T15:55:03.783197Z"
    }
   },
   "outputs": [],
   "source": [
    "def get_v1_data(ir_repo_id):\n",
    "    \"\"\"This function aggregates all RAMP data that was harvested for a single IR\n",
    "       between January 1, 2017 and August 18, 2018 (\"v1\" data). Column names\n",
    "       for those data are hard coded. A list of data files is also generated.\n",
    "\n",
    "       TODO: It may be useful to remove this function and subset the v1\n",
    "       data for each month as part of the v2 aggregations. Leaving it for\n",
    "       now in case we want the option to store/save v1 data by itself.\n",
    "\n",
    "    Parameters\n",
    "    ----------\n",
    "\n",
    "    ir_repo_id:\n",
    "        String. A locally unique repository identifier, designating the\n",
    "        repository whose data will be aggregated.\n",
    "\n",
    "    Returns\n",
    "    -------\n",
    "\n",
    "    ir_v1_data:\n",
    "        A Pandas dataframe. The aggregated RAMP \"v1\" data for the specified IR\n",
    "        across all months included in the all_data_file_list.\n",
    "    \"\"\"\n",
    "    all_cols = ['citableContent', 'clickThrough', 'clicks', 'country', 'date',\n",
    "                'device', 'impressions', 'index', 'position', 'url',\n",
    "                'repository_id']    \n",
    "    \n",
    "    all_data_file_list = glob.glob(\"D:/Documents/PycharmProjects/LEADING-RAMP/ir_data/Ramp2020/*all.zip\")\n",
    "    ir_v1_data = get_ir_data(ir_repo_id, all_cols, all_data_file_list)\n",
    "    return ir_v1_data\n"
   ]
  },
  {
   "cell_type": "code",
   "execution_count": 6,
   "metadata": {
    "execution": {
     "iopub.execute_input": "2021-08-19T15:55:03.805332Z",
     "iopub.status.busy": "2021-08-19T15:55:03.805332Z",
     "iopub.status.idle": "2021-08-19T15:55:03.821004Z",
     "shell.execute_reply": "2021-08-19T15:55:03.821004Z",
     "shell.execute_reply.started": "2021-08-19T15:55:03.805332Z"
    }
   },
   "outputs": [],
   "source": [
    "def get_v2_pc_data(ir_repo_id):\n",
    "    \"\"\"This function aggregates all RAMP page click data harvested for a single\n",
    "       IR since August 19, 2018 (\"v2\" data). Column names for those data are\n",
    "       hard coded. A list of data files is also generated.\n",
    "\n",
    "    Parameters\n",
    "    ----------\n",
    "\n",
    "    ir_repo_id:\n",
    "        String. A locally unique repository identifier, designating the\n",
    "        repository whose data will be aggregated.\n",
    "\n",
    "    Returns\n",
    "    -------\n",
    "\n",
    "    ir_v2_pc_data:\n",
    "        A Pandas dataframe. The aggregated RAMP page clicks data for the\n",
    "        specified IR across all months included in the pageclick_data_file_list.\n",
    "    \"\"\"\n",
    "    pageclick_cols = ['citableContent', 'clickThrough', 'clicks', 'date',\n",
    "                      'impressions', 'index', 'position', 'url',\n",
    "                      'repository_id']\n",
    "    pageclick_data_file_list = glob.glob(\"D:/Documents/PycharmProjects/LEADING-RAMP/ir_data/Ramp2020/*all_page-clicks.zip\")\n",
    "    ir_v2_pc_data = get_ir_data(ir_repo_id, pageclick_cols,\n",
    "                                pageclick_data_file_list)\n",
    "    return ir_v2_pc_data"
   ]
  },
  {
   "cell_type": "code",
   "execution_count": 7,
   "metadata": {
    "execution": {
     "iopub.execute_input": "2021-08-19T15:55:03.821004Z",
     "iopub.status.busy": "2021-08-19T15:55:03.821004Z",
     "iopub.status.idle": "2021-08-19T15:55:03.852196Z",
     "shell.execute_reply": "2021-08-19T15:55:03.852196Z",
     "shell.execute_reply.started": "2021-08-19T15:55:03.821004Z"
    }
   },
   "outputs": [],
   "source": [
    "def concat_ramp_versions(v1_data, v2_data):\n",
    "    subset_cols = list(v2_data.columns.values)\n",
    "    v1_subset = v1_data[subset_cols].copy()\n",
    "    v1_v2_concatenated = pd.concat([v1_subset, v2_data], ignore_index=True)\n",
    "    return v1_v2_concatenated"
   ]
  },
  {
   "cell_type": "code",
   "execution_count": 8,
   "metadata": {
    "execution": {
     "iopub.execute_input": "2021-08-19T15:55:03.852196Z",
     "iopub.status.busy": "2021-08-19T15:55:03.852196Z",
     "iopub.status.idle": "2021-08-19T15:55:03.867817Z",
     "shell.execute_reply": "2021-08-19T15:55:03.867817Z",
     "shell.execute_reply.started": "2021-08-19T15:55:03.852196Z"
    }
   },
   "outputs": [],
   "source": [
    "def process_repo(ir_repo_id):\n",
    "    \"\"\"This is basically a workflow function that calls all the other functions.\n",
    "\n",
    "    Parameters\n",
    "    ----------\n",
    "\n",
    "    ir_repo_id:\n",
    "       String. A locally unique identifier for the repository whose data will\n",
    "       be aggregated.\n",
    "\n",
    "    Returns\n",
    "    -------\n",
    "\n",
    "    ir_complete_pc_data:\n",
    "       A Pandas dataframe. The aggregated page click data across all the\n",
    "       years/months specified for the specified repository.\n",
    "\n",
    "    ir_complete_ai_data:\n",
    "       A Pandas dataframe. The aggreated country/device data across all the\n",
    "       years/months specified for the specified repository.\n",
    "\n",
    "    \"\"\"\n",
    "    ir_v1_data = get_v1_data(ir_repo_id)\n",
    "    ir_v2_pc_data = get_v2_pc_data(ir_repo_id)\n",
    "    #ir_v2_ai_data = get_v2_ai_data(ir_repo_id)\n",
    "    ir_complete_pc_data = concat_ramp_versions(ir_v1_data, ir_v2_pc_data)\n",
    "    #ir_complete_ai_data = concat_ramp_versions(ir_v1_data, ir_v2_ai_data)\n",
    "    return ir_complete_pc_data #, ir_complete_ai_data"
   ]
  },
  {
   "cell_type": "code",
   "execution_count": 9,
   "metadata": {
    "execution": {
     "iopub.execute_input": "2021-08-19T15:55:03.867817Z",
     "iopub.status.busy": "2021-08-19T15:55:03.867817Z",
     "iopub.status.idle": "2021-08-19T15:59:13.780245Z",
     "shell.execute_reply": "2021-08-19T15:59:13.780245Z",
     "shell.execute_reply.started": "2021-08-19T15:55:03.867817Z"
    }
   },
   "outputs": [
    {
     "name": "stdout",
     "output_type": "stream",
     "text": [
      "D:/Documents/PycharmProjects/LEADING-RAMP/ir_data/Ramp2020\\2020-01_RAMP_all_page-clicks.zip\n",
      "D:/Documents/PycharmProjects/LEADING-RAMP/ir_data/Ramp2020\\2020-02_RAMP_all_page-clicks.zip\n",
      "D:/Documents/PycharmProjects/LEADING-RAMP/ir_data/Ramp2020\\2020-03_RAMP_all_page-clicks.zip\n",
      "D:/Documents/PycharmProjects/LEADING-RAMP/ir_data/Ramp2020\\2020-04_RAMP_all_page-clicks.zip\n",
      "D:/Documents/PycharmProjects/LEADING-RAMP/ir_data/Ramp2020\\2020-05_RAMP_all_page-clicks.zip\n",
      "D:/Documents/PycharmProjects/LEADING-RAMP/ir_data/Ramp2020\\2020-06_RAMP_all_page-clicks.zip\n",
      "D:/Documents/PycharmProjects/LEADING-RAMP/ir_data/Ramp2020\\2020-07_RAMP_all_page-clicks.zip\n",
      "D:/Documents/PycharmProjects/LEADING-RAMP/ir_data/Ramp2020\\2020-08_RAMP_all_page-clicks.zip\n",
      "D:/Documents/PycharmProjects/LEADING-RAMP/ir_data/Ramp2020\\2020-09_RAMP_all_page-clicks.zip\n",
      "D:/Documents/PycharmProjects/LEADING-RAMP/ir_data/Ramp2020\\2020-10_RAMP_all_page-clicks.zip\n",
      "D:/Documents/PycharmProjects/LEADING-RAMP/ir_data/Ramp2020\\2020-11_RAMP_all_page-clicks.zip\n",
      "D:/Documents/PycharmProjects/LEADING-RAMP/ir_data/Ramp2020\\2020-12_RAMP_all_page-clicks.zip\n"
     ]
    }
   ],
   "source": [
    "msu_pc_2020 = process_repo(\"montana_state_university\")"
   ]
  },
  {
   "cell_type": "code",
   "execution_count": 10,
   "metadata": {
    "execution": {
     "iopub.execute_input": "2021-08-19T15:59:13.780245Z",
     "iopub.status.busy": "2021-08-19T15:59:13.780245Z",
     "iopub.status.idle": "2021-08-19T15:59:13.868363Z",
     "shell.execute_reply": "2021-08-19T15:59:13.868363Z",
     "shell.execute_reply.started": "2021-08-19T15:59:13.780245Z"
    }
   },
   "outputs": [
    {
     "data": {
      "text/html": [
       "<div>\n",
       "<style scoped>\n",
       "    .dataframe tbody tr th:only-of-type {\n",
       "        vertical-align: middle;\n",
       "    }\n",
       "\n",
       "    .dataframe tbody tr th {\n",
       "        vertical-align: top;\n",
       "    }\n",
       "\n",
       "    .dataframe thead th {\n",
       "        text-align: right;\n",
       "    }\n",
       "</style>\n",
       "<table border=\"1\" class=\"dataframe\">\n",
       "  <thead>\n",
       "    <tr style=\"text-align: right;\">\n",
       "      <th></th>\n",
       "      <th>citableContent</th>\n",
       "      <th>clickThrough</th>\n",
       "      <th>clicks</th>\n",
       "      <th>date</th>\n",
       "      <th>impressions</th>\n",
       "      <th>index</th>\n",
       "      <th>position</th>\n",
       "      <th>url</th>\n",
       "      <th>repository_id</th>\n",
       "    </tr>\n",
       "  </thead>\n",
       "  <tbody>\n",
       "    <tr>\n",
       "      <th>0</th>\n",
       "      <td>Yes</td>\n",
       "      <td>0.00</td>\n",
       "      <td>0.0</td>\n",
       "      <td>2020-01-04</td>\n",
       "      <td>1.0</td>\n",
       "      <td>montana_page_clicks</td>\n",
       "      <td>161.00</td>\n",
       "      <td>http://scholarworks.montana.edu/xmlui/bitstrea...</td>\n",
       "      <td>montana_state_university</td>\n",
       "    </tr>\n",
       "    <tr>\n",
       "      <th>1</th>\n",
       "      <td>Yes</td>\n",
       "      <td>0.00</td>\n",
       "      <td>0.0</td>\n",
       "      <td>2020-01-04</td>\n",
       "      <td>1.0</td>\n",
       "      <td>montana_page_clicks</td>\n",
       "      <td>139.00</td>\n",
       "      <td>http://scholarworks.montana.edu/xmlui/bitstrea...</td>\n",
       "      <td>montana_state_university</td>\n",
       "    </tr>\n",
       "    <tr>\n",
       "      <th>2</th>\n",
       "      <td>Yes</td>\n",
       "      <td>0.00</td>\n",
       "      <td>0.0</td>\n",
       "      <td>2020-01-04</td>\n",
       "      <td>1.0</td>\n",
       "      <td>montana_page_clicks</td>\n",
       "      <td>298.00</td>\n",
       "      <td>http://scholarworks.montana.edu/xmlui/bitstrea...</td>\n",
       "      <td>montana_state_university</td>\n",
       "    </tr>\n",
       "    <tr>\n",
       "      <th>3</th>\n",
       "      <td>Yes</td>\n",
       "      <td>0.04</td>\n",
       "      <td>1.0</td>\n",
       "      <td>2020-01-04</td>\n",
       "      <td>25.0</td>\n",
       "      <td>montana_page_clicks</td>\n",
       "      <td>49.56</td>\n",
       "      <td>http://scholarworks.montana.edu/xmlui/bitstrea...</td>\n",
       "      <td>montana_state_university</td>\n",
       "    </tr>\n",
       "    <tr>\n",
       "      <th>4</th>\n",
       "      <td>Yes</td>\n",
       "      <td>0.50</td>\n",
       "      <td>1.0</td>\n",
       "      <td>2020-01-04</td>\n",
       "      <td>2.0</td>\n",
       "      <td>montana_page_clicks</td>\n",
       "      <td>4.00</td>\n",
       "      <td>http://scholarworks.montana.edu/xmlui/bitstrea...</td>\n",
       "      <td>montana_state_university</td>\n",
       "    </tr>\n",
       "    <tr>\n",
       "      <th>...</th>\n",
       "      <td>...</td>\n",
       "      <td>...</td>\n",
       "      <td>...</td>\n",
       "      <td>...</td>\n",
       "      <td>...</td>\n",
       "      <td>...</td>\n",
       "      <td>...</td>\n",
       "      <td>...</td>\n",
       "      <td>...</td>\n",
       "    </tr>\n",
       "    <tr>\n",
       "      <th>1772461</th>\n",
       "      <td>No</td>\n",
       "      <td>0.00</td>\n",
       "      <td>0.0</td>\n",
       "      <td>2020-12-05</td>\n",
       "      <td>1.0</td>\n",
       "      <td>msu_scholarworks_page_clicks</td>\n",
       "      <td>12.00</td>\n",
       "      <td>https://scholarworks.montana.edu/xmlui/recent-...</td>\n",
       "      <td>montana_state_university</td>\n",
       "    </tr>\n",
       "    <tr>\n",
       "      <th>1772462</th>\n",
       "      <td>No</td>\n",
       "      <td>0.00</td>\n",
       "      <td>0.0</td>\n",
       "      <td>2020-12-05</td>\n",
       "      <td>1.0</td>\n",
       "      <td>msu_scholarworks_page_clicks</td>\n",
       "      <td>11.00</td>\n",
       "      <td>https://scholarworks.montana.edu/xmlui/recent-...</td>\n",
       "      <td>montana_state_university</td>\n",
       "    </tr>\n",
       "    <tr>\n",
       "      <th>1772463</th>\n",
       "      <td>No</td>\n",
       "      <td>0.00</td>\n",
       "      <td>0.0</td>\n",
       "      <td>2020-12-05</td>\n",
       "      <td>5.0</td>\n",
       "      <td>msu_scholarworks_page_clicks</td>\n",
       "      <td>23.20</td>\n",
       "      <td>https://scholarworks.montana.edu/xmlui/recent-...</td>\n",
       "      <td>montana_state_university</td>\n",
       "    </tr>\n",
       "    <tr>\n",
       "      <th>1772464</th>\n",
       "      <td>No</td>\n",
       "      <td>0.00</td>\n",
       "      <td>0.0</td>\n",
       "      <td>2020-12-05</td>\n",
       "      <td>1.0</td>\n",
       "      <td>msu_scholarworks_page_clicks</td>\n",
       "      <td>10.00</td>\n",
       "      <td>https://scholarworks.montana.edu/xmlui/recent-...</td>\n",
       "      <td>montana_state_university</td>\n",
       "    </tr>\n",
       "    <tr>\n",
       "      <th>1772465</th>\n",
       "      <td>No</td>\n",
       "      <td>0.00</td>\n",
       "      <td>0.0</td>\n",
       "      <td>2020-12-05</td>\n",
       "      <td>1.0</td>\n",
       "      <td>msu_scholarworks_page_clicks</td>\n",
       "      <td>16.00</td>\n",
       "      <td>https://scholarworks.montana.edu/xmlui/recent-...</td>\n",
       "      <td>montana_state_university</td>\n",
       "    </tr>\n",
       "  </tbody>\n",
       "</table>\n",
       "<p>1772466 rows × 9 columns</p>\n",
       "</div>"
      ],
      "text/plain": [
       "        citableContent  clickThrough  clicks        date  impressions  \\\n",
       "0                  Yes          0.00     0.0  2020-01-04          1.0   \n",
       "1                  Yes          0.00     0.0  2020-01-04          1.0   \n",
       "2                  Yes          0.00     0.0  2020-01-04          1.0   \n",
       "3                  Yes          0.04     1.0  2020-01-04         25.0   \n",
       "4                  Yes          0.50     1.0  2020-01-04          2.0   \n",
       "...                ...           ...     ...         ...          ...   \n",
       "1772461             No          0.00     0.0  2020-12-05          1.0   \n",
       "1772462             No          0.00     0.0  2020-12-05          1.0   \n",
       "1772463             No          0.00     0.0  2020-12-05          5.0   \n",
       "1772464             No          0.00     0.0  2020-12-05          1.0   \n",
       "1772465             No          0.00     0.0  2020-12-05          1.0   \n",
       "\n",
       "                                index  position  \\\n",
       "0                 montana_page_clicks    161.00   \n",
       "1                 montana_page_clicks    139.00   \n",
       "2                 montana_page_clicks    298.00   \n",
       "3                 montana_page_clicks     49.56   \n",
       "4                 montana_page_clicks      4.00   \n",
       "...                               ...       ...   \n",
       "1772461  msu_scholarworks_page_clicks     12.00   \n",
       "1772462  msu_scholarworks_page_clicks     11.00   \n",
       "1772463  msu_scholarworks_page_clicks     23.20   \n",
       "1772464  msu_scholarworks_page_clicks     10.00   \n",
       "1772465  msu_scholarworks_page_clicks     16.00   \n",
       "\n",
       "                                                       url  \\\n",
       "0        http://scholarworks.montana.edu/xmlui/bitstrea...   \n",
       "1        http://scholarworks.montana.edu/xmlui/bitstrea...   \n",
       "2        http://scholarworks.montana.edu/xmlui/bitstrea...   \n",
       "3        http://scholarworks.montana.edu/xmlui/bitstrea...   \n",
       "4        http://scholarworks.montana.edu/xmlui/bitstrea...   \n",
       "...                                                    ...   \n",
       "1772461  https://scholarworks.montana.edu/xmlui/recent-...   \n",
       "1772462  https://scholarworks.montana.edu/xmlui/recent-...   \n",
       "1772463  https://scholarworks.montana.edu/xmlui/recent-...   \n",
       "1772464  https://scholarworks.montana.edu/xmlui/recent-...   \n",
       "1772465  https://scholarworks.montana.edu/xmlui/recent-...   \n",
       "\n",
       "                    repository_id  \n",
       "0        montana_state_university  \n",
       "1        montana_state_university  \n",
       "2        montana_state_university  \n",
       "3        montana_state_university  \n",
       "4        montana_state_university  \n",
       "...                           ...  \n",
       "1772461  montana_state_university  \n",
       "1772462  montana_state_university  \n",
       "1772463  montana_state_university  \n",
       "1772464  montana_state_university  \n",
       "1772465  montana_state_university  \n",
       "\n",
       "[1772466 rows x 9 columns]"
      ]
     },
     "execution_count": 10,
     "metadata": {},
     "output_type": "execute_result"
    }
   ],
   "source": [
    "msu_pc_2020 "
   ]
  },
  {
   "cell_type": "code",
   "execution_count": 11,
   "metadata": {
    "execution": {
     "iopub.execute_input": "2021-08-19T15:59:13.868363Z",
     "iopub.status.busy": "2021-08-19T15:59:13.868363Z",
     "iopub.status.idle": "2021-08-19T15:59:23.492620Z",
     "shell.execute_reply": "2021-08-19T15:59:23.492620Z",
     "shell.execute_reply.started": "2021-08-19T15:59:13.868363Z"
    }
   },
   "outputs": [],
   "source": [
    "msu_pc_2020.to_csv(\"D://Documents//PycharmProjects//LEADING-RAMP//ir_data//Ramp2020//Export/msu_pc_2020.csv\", header = True)"
   ]
  },
  {
   "cell_type": "code",
   "execution_count": 12,
   "metadata": {
    "execution": {
     "iopub.execute_input": "2021-08-19T15:59:23.492620Z",
     "iopub.status.busy": "2021-08-19T15:59:23.492620Z",
     "iopub.status.idle": "2021-08-19T16:03:34.918445Z",
     "shell.execute_reply": "2021-08-19T16:03:34.918445Z",
     "shell.execute_reply.started": "2021-08-19T15:59:23.492620Z"
    }
   },
   "outputs": [
    {
     "name": "stdout",
     "output_type": "stream",
     "text": [
      "D:/Documents/PycharmProjects/LEADING-RAMP/ir_data/Ramp2020\\2020-01_RAMP_all_page-clicks.zip\n",
      "D:/Documents/PycharmProjects/LEADING-RAMP/ir_data/Ramp2020\\2020-02_RAMP_all_page-clicks.zip\n",
      "D:/Documents/PycharmProjects/LEADING-RAMP/ir_data/Ramp2020\\2020-03_RAMP_all_page-clicks.zip\n",
      "D:/Documents/PycharmProjects/LEADING-RAMP/ir_data/Ramp2020\\2020-04_RAMP_all_page-clicks.zip\n",
      "D:/Documents/PycharmProjects/LEADING-RAMP/ir_data/Ramp2020\\2020-05_RAMP_all_page-clicks.zip\n",
      "D:/Documents/PycharmProjects/LEADING-RAMP/ir_data/Ramp2020\\2020-06_RAMP_all_page-clicks.zip\n",
      "D:/Documents/PycharmProjects/LEADING-RAMP/ir_data/Ramp2020\\2020-07_RAMP_all_page-clicks.zip\n",
      "D:/Documents/PycharmProjects/LEADING-RAMP/ir_data/Ramp2020\\2020-08_RAMP_all_page-clicks.zip\n",
      "D:/Documents/PycharmProjects/LEADING-RAMP/ir_data/Ramp2020\\2020-09_RAMP_all_page-clicks.zip\n",
      "D:/Documents/PycharmProjects/LEADING-RAMP/ir_data/Ramp2020\\2020-10_RAMP_all_page-clicks.zip\n",
      "D:/Documents/PycharmProjects/LEADING-RAMP/ir_data/Ramp2020\\2020-11_RAMP_all_page-clicks.zip\n",
      "D:/Documents/PycharmProjects/LEADING-RAMP/ir_data/Ramp2020\\2020-12_RAMP_all_page-clicks.zip\n"
     ]
    }
   ],
   "source": [
    "boston_pc_2020 = process_repo(\"boston_university\")"
   ]
  },
  {
   "cell_type": "code",
   "execution_count": 13,
   "metadata": {
    "execution": {
     "iopub.execute_input": "2021-08-19T16:03:34.918445Z",
     "iopub.status.busy": "2021-08-19T16:03:34.918445Z",
     "iopub.status.idle": "2021-08-19T16:03:45.693995Z",
     "shell.execute_reply": "2021-08-19T16:03:45.693995Z",
     "shell.execute_reply.started": "2021-08-19T16:03:34.918445Z"
    }
   },
   "outputs": [],
   "source": [
    "boston_pc_2020.to_csv(\"D://Documents//PycharmProjects//LEADING-RAMP//ir_data//Ramp2020//Export/boston_pc_2020.csv\", header = True)"
   ]
  },
  {
   "cell_type": "code",
   "execution_count": 14,
   "metadata": {
    "execution": {
     "iopub.execute_input": "2021-08-19T16:03:45.693995Z",
     "iopub.status.busy": "2021-08-19T16:03:45.693995Z",
     "iopub.status.idle": "2021-08-19T16:12:20.363313Z",
     "shell.execute_reply": "2021-08-19T16:12:20.363313Z",
     "shell.execute_reply.started": "2021-08-19T16:03:45.693995Z"
    }
   },
   "outputs": [
    {
     "name": "stdout",
     "output_type": "stream",
     "text": [
      "D:/Documents/PycharmProjects/LEADING-RAMP/ir_data/Ramp2020\\2020-01_RAMP_all_page-clicks.zip\n",
      "D:/Documents/PycharmProjects/LEADING-RAMP/ir_data/Ramp2020\\2020-02_RAMP_all_page-clicks.zip\n",
      "D:/Documents/PycharmProjects/LEADING-RAMP/ir_data/Ramp2020\\2020-03_RAMP_all_page-clicks.zip\n",
      "D:/Documents/PycharmProjects/LEADING-RAMP/ir_data/Ramp2020\\2020-04_RAMP_all_page-clicks.zip\n",
      "D:/Documents/PycharmProjects/LEADING-RAMP/ir_data/Ramp2020\\2020-05_RAMP_all_page-clicks.zip\n",
      "D:/Documents/PycharmProjects/LEADING-RAMP/ir_data/Ramp2020\\2020-06_RAMP_all_page-clicks.zip\n",
      "D:/Documents/PycharmProjects/LEADING-RAMP/ir_data/Ramp2020\\2020-07_RAMP_all_page-clicks.zip\n",
      "D:/Documents/PycharmProjects/LEADING-RAMP/ir_data/Ramp2020\\2020-08_RAMP_all_page-clicks.zip\n",
      "D:/Documents/PycharmProjects/LEADING-RAMP/ir_data/Ramp2020\\2020-09_RAMP_all_page-clicks.zip\n",
      "D:/Documents/PycharmProjects/LEADING-RAMP/ir_data/Ramp2020\\2020-10_RAMP_all_page-clicks.zip\n",
      "D:/Documents/PycharmProjects/LEADING-RAMP/ir_data/Ramp2020\\2020-11_RAMP_all_page-clicks.zip\n",
      "D:/Documents/PycharmProjects/LEADING-RAMP/ir_data/Ramp2020\\2020-12_RAMP_all_page-clicks.zip\n",
      "D:/Documents/PycharmProjects/LEADING-RAMP/ir_data/Ramp2020\\2020-01_RAMP_all_page-clicks.zip\n",
      "D:/Documents/PycharmProjects/LEADING-RAMP/ir_data/Ramp2020\\2020-02_RAMP_all_page-clicks.zip\n",
      "D:/Documents/PycharmProjects/LEADING-RAMP/ir_data/Ramp2020\\2020-03_RAMP_all_page-clicks.zip\n",
      "D:/Documents/PycharmProjects/LEADING-RAMP/ir_data/Ramp2020\\2020-04_RAMP_all_page-clicks.zip\n",
      "D:/Documents/PycharmProjects/LEADING-RAMP/ir_data/Ramp2020\\2020-05_RAMP_all_page-clicks.zip\n",
      "D:/Documents/PycharmProjects/LEADING-RAMP/ir_data/Ramp2020\\2020-06_RAMP_all_page-clicks.zip\n",
      "D:/Documents/PycharmProjects/LEADING-RAMP/ir_data/Ramp2020\\2020-07_RAMP_all_page-clicks.zip\n",
      "D:/Documents/PycharmProjects/LEADING-RAMP/ir_data/Ramp2020\\2020-08_RAMP_all_page-clicks.zip\n",
      "D:/Documents/PycharmProjects/LEADING-RAMP/ir_data/Ramp2020\\2020-09_RAMP_all_page-clicks.zip\n",
      "D:/Documents/PycharmProjects/LEADING-RAMP/ir_data/Ramp2020\\2020-10_RAMP_all_page-clicks.zip\n",
      "D:/Documents/PycharmProjects/LEADING-RAMP/ir_data/Ramp2020\\2020-11_RAMP_all_page-clicks.zip\n",
      "D:/Documents/PycharmProjects/LEADING-RAMP/ir_data/Ramp2020\\2020-12_RAMP_all_page-clicks.zip\n"
     ]
    }
   ],
   "source": [
    "caltech_a_pc_2020 = process_repo(\"california_tech_authors\")\n",
    "caltech_t_pc_2020 = process_repo(\"california_tech_thesis\")"
   ]
  },
  {
   "cell_type": "code",
   "execution_count": 15,
   "metadata": {
    "execution": {
     "iopub.execute_input": "2021-08-19T16:12:20.363313Z",
     "iopub.status.busy": "2021-08-19T16:12:20.363313Z",
     "iopub.status.idle": "2021-08-19T16:12:53.016596Z",
     "shell.execute_reply": "2021-08-19T16:12:53.016596Z",
     "shell.execute_reply.started": "2021-08-19T16:12:20.363313Z"
    }
   },
   "outputs": [],
   "source": [
    "caltech_a_pc_2020.to_csv(\"D://Documents//PycharmProjects//LEADING-RAMP//ir_data//Ramp2020//Export/caltech_a_pc_2020.csv\", header = True)\n",
    "caltech_t_pc_2020.to_csv(\"D://Documents//PycharmProjects//LEADING-RAMP//ir_data//Ramp2020//Export/caltech_t_pc_2020.csv\", header = True)"
   ]
  },
  {
   "cell_type": "code",
   "execution_count": 16,
   "metadata": {
    "execution": {
     "iopub.execute_input": "2021-08-19T16:12:53.016596Z",
     "iopub.status.busy": "2021-08-19T16:12:53.016596Z",
     "iopub.status.idle": "2021-08-19T16:17:09.656097Z",
     "shell.execute_reply": "2021-08-19T16:17:09.656097Z",
     "shell.execute_reply.started": "2021-08-19T16:12:53.016596Z"
    }
   },
   "outputs": [
    {
     "name": "stdout",
     "output_type": "stream",
     "text": [
      "D:/Documents/PycharmProjects/LEADING-RAMP/ir_data/Ramp2020\\2020-01_RAMP_all_page-clicks.zip\n",
      "D:/Documents/PycharmProjects/LEADING-RAMP/ir_data/Ramp2020\\2020-02_RAMP_all_page-clicks.zip\n",
      "D:/Documents/PycharmProjects/LEADING-RAMP/ir_data/Ramp2020\\2020-03_RAMP_all_page-clicks.zip\n",
      "D:/Documents/PycharmProjects/LEADING-RAMP/ir_data/Ramp2020\\2020-04_RAMP_all_page-clicks.zip\n",
      "D:/Documents/PycharmProjects/LEADING-RAMP/ir_data/Ramp2020\\2020-05_RAMP_all_page-clicks.zip\n",
      "D:/Documents/PycharmProjects/LEADING-RAMP/ir_data/Ramp2020\\2020-06_RAMP_all_page-clicks.zip\n",
      "D:/Documents/PycharmProjects/LEADING-RAMP/ir_data/Ramp2020\\2020-07_RAMP_all_page-clicks.zip\n",
      "D:/Documents/PycharmProjects/LEADING-RAMP/ir_data/Ramp2020\\2020-08_RAMP_all_page-clicks.zip\n",
      "D:/Documents/PycharmProjects/LEADING-RAMP/ir_data/Ramp2020\\2020-09_RAMP_all_page-clicks.zip\n",
      "D:/Documents/PycharmProjects/LEADING-RAMP/ir_data/Ramp2020\\2020-10_RAMP_all_page-clicks.zip\n",
      "D:/Documents/PycharmProjects/LEADING-RAMP/ir_data/Ramp2020\\2020-11_RAMP_all_page-clicks.zip\n",
      "D:/Documents/PycharmProjects/LEADING-RAMP/ir_data/Ramp2020\\2020-12_RAMP_all_page-clicks.zip\n"
     ]
    }
   ],
   "source": [
    "pittsburgh_pc_2020 = process_repo(\"university_pittsburgh\")"
   ]
  },
  {
   "cell_type": "code",
   "execution_count": 17,
   "metadata": {
    "execution": {
     "iopub.execute_input": "2021-08-19T16:17:09.656097Z",
     "iopub.status.busy": "2021-08-19T16:17:09.656097Z",
     "iopub.status.idle": "2021-08-19T16:17:24.200869Z",
     "shell.execute_reply": "2021-08-19T16:17:24.200869Z",
     "shell.execute_reply.started": "2021-08-19T16:17:09.656097Z"
    }
   },
   "outputs": [],
   "source": [
    "pittsburgh_pc_2020.to_csv(\"D://Documents//PycharmProjects//LEADING-RAMP//ir_data//Ramp2020//Export/pittsburgh_pc_2020.csv\", header = True)"
   ]
  },
  {
   "cell_type": "code",
   "execution_count": 18,
   "metadata": {
    "execution": {
     "iopub.execute_input": "2021-08-19T16:17:24.200869Z",
     "iopub.status.busy": "2021-08-19T16:17:24.200869Z",
     "iopub.status.idle": "2021-08-19T16:21:44.258094Z",
     "shell.execute_reply": "2021-08-19T16:21:44.257099Z",
     "shell.execute_reply.started": "2021-08-19T16:17:24.200869Z"
    }
   },
   "outputs": [
    {
     "name": "stdout",
     "output_type": "stream",
     "text": [
      "D:/Documents/PycharmProjects/LEADING-RAMP/ir_data/Ramp2020\\2020-01_RAMP_all_page-clicks.zip\n",
      "D:/Documents/PycharmProjects/LEADING-RAMP/ir_data/Ramp2020\\2020-02_RAMP_all_page-clicks.zip\n",
      "D:/Documents/PycharmProjects/LEADING-RAMP/ir_data/Ramp2020\\2020-03_RAMP_all_page-clicks.zip\n",
      "D:/Documents/PycharmProjects/LEADING-RAMP/ir_data/Ramp2020\\2020-04_RAMP_all_page-clicks.zip\n",
      "D:/Documents/PycharmProjects/LEADING-RAMP/ir_data/Ramp2020\\2020-05_RAMP_all_page-clicks.zip\n",
      "D:/Documents/PycharmProjects/LEADING-RAMP/ir_data/Ramp2020\\2020-06_RAMP_all_page-clicks.zip\n",
      "D:/Documents/PycharmProjects/LEADING-RAMP/ir_data/Ramp2020\\2020-07_RAMP_all_page-clicks.zip\n",
      "D:/Documents/PycharmProjects/LEADING-RAMP/ir_data/Ramp2020\\2020-08_RAMP_all_page-clicks.zip\n",
      "D:/Documents/PycharmProjects/LEADING-RAMP/ir_data/Ramp2020\\2020-09_RAMP_all_page-clicks.zip\n",
      "D:/Documents/PycharmProjects/LEADING-RAMP/ir_data/Ramp2020\\2020-10_RAMP_all_page-clicks.zip\n",
      "D:/Documents/PycharmProjects/LEADING-RAMP/ir_data/Ramp2020\\2020-11_RAMP_all_page-clicks.zip\n",
      "D:/Documents/PycharmProjects/LEADING-RAMP/ir_data/Ramp2020\\2020-12_RAMP_all_page-clicks.zip\n"
     ]
    }
   ],
   "source": [
    "vatech_pc_2020 = process_repo(\"virginia_tech\")"
   ]
  },
  {
   "cell_type": "code",
   "execution_count": 19,
   "metadata": {
    "execution": {
     "iopub.execute_input": "2021-08-19T16:21:44.259092Z",
     "iopub.status.busy": "2021-08-19T16:21:44.258094Z",
     "iopub.status.idle": "2021-08-19T16:22:03.619311Z",
     "shell.execute_reply": "2021-08-19T16:22:03.616320Z",
     "shell.execute_reply.started": "2021-08-19T16:21:44.258094Z"
    }
   },
   "outputs": [],
   "source": [
    "vatech_pc_2020.to_csv(\"D://Documents//PycharmProjects//LEADING-RAMP//ir_data//Ramp2020//Export/vatech_pc_2020.csv\", header = True)"
   ]
  },
  {
   "cell_type": "code",
   "execution_count": 20,
   "metadata": {
    "execution": {
     "iopub.execute_input": "2021-08-19T16:22:03.621306Z",
     "iopub.status.busy": "2021-08-19T16:22:03.621306Z",
     "iopub.status.idle": "2021-08-19T16:26:23.982765Z",
     "shell.execute_reply": "2021-08-19T16:26:23.982765Z",
     "shell.execute_reply.started": "2021-08-19T16:22:03.621306Z"
    }
   },
   "outputs": [
    {
     "name": "stdout",
     "output_type": "stream",
     "text": [
      "D:/Documents/PycharmProjects/LEADING-RAMP/ir_data/Ramp2020\\2020-01_RAMP_all_page-clicks.zip\n",
      "D:/Documents/PycharmProjects/LEADING-RAMP/ir_data/Ramp2020\\2020-02_RAMP_all_page-clicks.zip\n",
      "D:/Documents/PycharmProjects/LEADING-RAMP/ir_data/Ramp2020\\2020-03_RAMP_all_page-clicks.zip\n",
      "D:/Documents/PycharmProjects/LEADING-RAMP/ir_data/Ramp2020\\2020-04_RAMP_all_page-clicks.zip\n",
      "D:/Documents/PycharmProjects/LEADING-RAMP/ir_data/Ramp2020\\2020-05_RAMP_all_page-clicks.zip\n",
      "D:/Documents/PycharmProjects/LEADING-RAMP/ir_data/Ramp2020\\2020-06_RAMP_all_page-clicks.zip\n",
      "D:/Documents/PycharmProjects/LEADING-RAMP/ir_data/Ramp2020\\2020-07_RAMP_all_page-clicks.zip\n",
      "D:/Documents/PycharmProjects/LEADING-RAMP/ir_data/Ramp2020\\2020-08_RAMP_all_page-clicks.zip\n",
      "D:/Documents/PycharmProjects/LEADING-RAMP/ir_data/Ramp2020\\2020-09_RAMP_all_page-clicks.zip\n",
      "D:/Documents/PycharmProjects/LEADING-RAMP/ir_data/Ramp2020\\2020-10_RAMP_all_page-clicks.zip\n",
      "D:/Documents/PycharmProjects/LEADING-RAMP/ir_data/Ramp2020\\2020-11_RAMP_all_page-clicks.zip\n",
      "D:/Documents/PycharmProjects/LEADING-RAMP/ir_data/Ramp2020\\2020-12_RAMP_all_page-clicks.zip\n"
     ]
    }
   ],
   "source": [
    "ut_pc_2020 = process_repo(\"university_texas\")"
   ]
  },
  {
   "cell_type": "code",
   "execution_count": 21,
   "metadata": {
    "execution": {
     "iopub.execute_input": "2021-08-19T16:26:23.982765Z",
     "iopub.status.busy": "2021-08-19T16:26:23.982765Z",
     "iopub.status.idle": "2021-08-19T16:26:44.635041Z",
     "shell.execute_reply": "2021-08-19T16:26:44.635041Z",
     "shell.execute_reply.started": "2021-08-19T16:26:23.982765Z"
    }
   },
   "outputs": [],
   "source": [
    "ut_pc_2020.to_csv(\"D://Documents//PycharmProjects//LEADING-RAMP//ir_data//Ramp2020//Export/ut_pc_2020.csv\", header = True)"
   ]
  },
  {
   "cell_type": "code",
   "execution_count": 22,
   "metadata": {
    "execution": {
     "iopub.execute_input": "2021-08-19T16:26:44.635041Z",
     "iopub.status.busy": "2021-08-19T16:26:44.635041Z",
     "iopub.status.idle": "2021-08-19T16:31:03.514563Z",
     "shell.execute_reply": "2021-08-19T16:31:03.514563Z",
     "shell.execute_reply.started": "2021-08-19T16:26:44.635041Z"
    }
   },
   "outputs": [
    {
     "name": "stdout",
     "output_type": "stream",
     "text": [
      "D:/Documents/PycharmProjects/LEADING-RAMP/ir_data/Ramp2020\\2020-01_RAMP_all_page-clicks.zip\n",
      "D:/Documents/PycharmProjects/LEADING-RAMP/ir_data/Ramp2020\\2020-02_RAMP_all_page-clicks.zip\n",
      "D:/Documents/PycharmProjects/LEADING-RAMP/ir_data/Ramp2020\\2020-03_RAMP_all_page-clicks.zip\n",
      "D:/Documents/PycharmProjects/LEADING-RAMP/ir_data/Ramp2020\\2020-04_RAMP_all_page-clicks.zip\n",
      "D:/Documents/PycharmProjects/LEADING-RAMP/ir_data/Ramp2020\\2020-05_RAMP_all_page-clicks.zip\n",
      "D:/Documents/PycharmProjects/LEADING-RAMP/ir_data/Ramp2020\\2020-06_RAMP_all_page-clicks.zip\n",
      "D:/Documents/PycharmProjects/LEADING-RAMP/ir_data/Ramp2020\\2020-07_RAMP_all_page-clicks.zip\n",
      "D:/Documents/PycharmProjects/LEADING-RAMP/ir_data/Ramp2020\\2020-08_RAMP_all_page-clicks.zip\n",
      "D:/Documents/PycharmProjects/LEADING-RAMP/ir_data/Ramp2020\\2020-09_RAMP_all_page-clicks.zip\n",
      "D:/Documents/PycharmProjects/LEADING-RAMP/ir_data/Ramp2020\\2020-10_RAMP_all_page-clicks.zip\n",
      "D:/Documents/PycharmProjects/LEADING-RAMP/ir_data/Ramp2020\\2020-11_RAMP_all_page-clicks.zip\n",
      "D:/Documents/PycharmProjects/LEADING-RAMP/ir_data/Ramp2020\\2020-12_RAMP_all_page-clicks.zip\n"
     ]
    }
   ],
   "source": [
    "unlv_pc_2020 = process_repo(\"university_nevada_las_vegas\")"
   ]
  },
  {
   "cell_type": "code",
   "execution_count": 23,
   "metadata": {
    "execution": {
     "iopub.execute_input": "2021-08-19T16:31:03.514563Z",
     "iopub.status.busy": "2021-08-19T16:31:03.514563Z",
     "iopub.status.idle": "2021-08-19T16:31:18.540534Z",
     "shell.execute_reply": "2021-08-19T16:31:18.540534Z",
     "shell.execute_reply.started": "2021-08-19T16:31:03.514563Z"
    }
   },
   "outputs": [],
   "source": [
    "unlv_pc_2020.to_csv(\"D://Documents//PycharmProjects//LEADING-RAMP//ir_data//Ramp2020//Export/unlv_pc_2020.csv\", header = True)"
   ]
  },
  {
   "cell_type": "code",
   "execution_count": 24,
   "metadata": {
    "execution": {
     "iopub.execute_input": "2021-08-19T16:31:18.540534Z",
     "iopub.status.busy": "2021-08-19T16:31:18.540534Z",
     "iopub.status.idle": "2021-08-19T16:35:41.570949Z",
     "shell.execute_reply": "2021-08-19T16:35:41.570949Z",
     "shell.execute_reply.started": "2021-08-19T16:31:18.540534Z"
    }
   },
   "outputs": [
    {
     "name": "stdout",
     "output_type": "stream",
     "text": [
      "D:/Documents/PycharmProjects/LEADING-RAMP/ir_data/Ramp2020\\2020-01_RAMP_all_page-clicks.zip\n",
      "D:/Documents/PycharmProjects/LEADING-RAMP/ir_data/Ramp2020\\2020-02_RAMP_all_page-clicks.zip\n",
      "D:/Documents/PycharmProjects/LEADING-RAMP/ir_data/Ramp2020\\2020-03_RAMP_all_page-clicks.zip\n",
      "D:/Documents/PycharmProjects/LEADING-RAMP/ir_data/Ramp2020\\2020-04_RAMP_all_page-clicks.zip\n",
      "D:/Documents/PycharmProjects/LEADING-RAMP/ir_data/Ramp2020\\2020-05_RAMP_all_page-clicks.zip\n",
      "D:/Documents/PycharmProjects/LEADING-RAMP/ir_data/Ramp2020\\2020-06_RAMP_all_page-clicks.zip\n",
      "D:/Documents/PycharmProjects/LEADING-RAMP/ir_data/Ramp2020\\2020-07_RAMP_all_page-clicks.zip\n",
      "D:/Documents/PycharmProjects/LEADING-RAMP/ir_data/Ramp2020\\2020-08_RAMP_all_page-clicks.zip\n",
      "D:/Documents/PycharmProjects/LEADING-RAMP/ir_data/Ramp2020\\2020-09_RAMP_all_page-clicks.zip\n",
      "D:/Documents/PycharmProjects/LEADING-RAMP/ir_data/Ramp2020\\2020-10_RAMP_all_page-clicks.zip\n",
      "D:/Documents/PycharmProjects/LEADING-RAMP/ir_data/Ramp2020\\2020-11_RAMP_all_page-clicks.zip\n",
      "D:/Documents/PycharmProjects/LEADING-RAMP/ir_data/Ramp2020\\2020-12_RAMP_all_page-clicks.zip\n"
     ]
    }
   ],
   "source": [
    "unl_pc_2020 = process_repo(\"university_nebraska_lincoln\")"
   ]
  },
  {
   "cell_type": "code",
   "execution_count": 25,
   "metadata": {
    "execution": {
     "iopub.execute_input": "2021-08-19T16:35:41.570949Z",
     "iopub.status.busy": "2021-08-19T16:35:41.570949Z",
     "iopub.status.idle": "2021-08-19T16:36:20.954984Z",
     "shell.execute_reply": "2021-08-19T16:36:20.951993Z",
     "shell.execute_reply.started": "2021-08-19T16:35:41.570949Z"
    }
   },
   "outputs": [],
   "source": [
    "unl_pc_2020.to_csv(\"D://Documents//PycharmProjects//LEADING-RAMP//ir_data//Ramp2020//Export/unl_pc_2020.csv\", header = True)"
   ]
  },
  {
   "cell_type": "code",
   "execution_count": 26,
   "metadata": {
    "execution": {
     "iopub.execute_input": "2021-08-19T16:36:20.957976Z",
     "iopub.status.busy": "2021-08-19T16:36:20.956979Z",
     "iopub.status.idle": "2021-08-19T16:40:41.491644Z",
     "shell.execute_reply": "2021-08-19T16:40:41.487655Z",
     "shell.execute_reply.started": "2021-08-19T16:36:20.957976Z"
    }
   },
   "outputs": [
    {
     "name": "stdout",
     "output_type": "stream",
     "text": [
      "D:/Documents/PycharmProjects/LEADING-RAMP/ir_data/Ramp2020\\2020-01_RAMP_all_page-clicks.zip\n",
      "D:/Documents/PycharmProjects/LEADING-RAMP/ir_data/Ramp2020\\2020-02_RAMP_all_page-clicks.zip\n",
      "D:/Documents/PycharmProjects/LEADING-RAMP/ir_data/Ramp2020\\2020-03_RAMP_all_page-clicks.zip\n",
      "D:/Documents/PycharmProjects/LEADING-RAMP/ir_data/Ramp2020\\2020-04_RAMP_all_page-clicks.zip\n",
      "D:/Documents/PycharmProjects/LEADING-RAMP/ir_data/Ramp2020\\2020-05_RAMP_all_page-clicks.zip\n",
      "D:/Documents/PycharmProjects/LEADING-RAMP/ir_data/Ramp2020\\2020-06_RAMP_all_page-clicks.zip\n",
      "D:/Documents/PycharmProjects/LEADING-RAMP/ir_data/Ramp2020\\2020-07_RAMP_all_page-clicks.zip\n",
      "D:/Documents/PycharmProjects/LEADING-RAMP/ir_data/Ramp2020\\2020-08_RAMP_all_page-clicks.zip\n",
      "D:/Documents/PycharmProjects/LEADING-RAMP/ir_data/Ramp2020\\2020-09_RAMP_all_page-clicks.zip\n",
      "D:/Documents/PycharmProjects/LEADING-RAMP/ir_data/Ramp2020\\2020-10_RAMP_all_page-clicks.zip\n",
      "D:/Documents/PycharmProjects/LEADING-RAMP/ir_data/Ramp2020\\2020-11_RAMP_all_page-clicks.zip\n",
      "D:/Documents/PycharmProjects/LEADING-RAMP/ir_data/Ramp2020\\2020-12_RAMP_all_page-clicks.zip\n"
     ]
    }
   ],
   "source": [
    "uken_pc_2020 = process_repo(\"university_kentucky\")"
   ]
  },
  {
   "cell_type": "code",
   "execution_count": 27,
   "metadata": {
    "execution": {
     "iopub.execute_input": "2021-08-19T16:40:41.495632Z",
     "iopub.status.busy": "2021-08-19T16:40:41.495632Z",
     "iopub.status.idle": "2021-08-19T16:41:03.054481Z",
     "shell.execute_reply": "2021-08-19T16:41:03.054481Z",
     "shell.execute_reply.started": "2021-08-19T16:40:41.495632Z"
    }
   },
   "outputs": [],
   "source": [
    "uken_pc_2020.to_csv(\"D://Documents//PycharmProjects//LEADING-RAMP//ir_data//Ramp2020//Export/uken_pc_2020.csv\", header = True)"
   ]
  },
  {
   "cell_type": "code",
   "execution_count": 28,
   "metadata": {
    "execution": {
     "iopub.execute_input": "2021-08-19T16:41:03.054481Z",
     "iopub.status.busy": "2021-08-19T16:41:03.054481Z",
     "iopub.status.idle": "2021-08-19T16:45:23.719140Z",
     "shell.execute_reply": "2021-08-19T16:45:23.719140Z",
     "shell.execute_reply.started": "2021-08-19T16:41:03.054481Z"
    }
   },
   "outputs": [
    {
     "name": "stdout",
     "output_type": "stream",
     "text": [
      "D:/Documents/PycharmProjects/LEADING-RAMP/ir_data/Ramp2020\\2020-01_RAMP_all_page-clicks.zip\n",
      "D:/Documents/PycharmProjects/LEADING-RAMP/ir_data/Ramp2020\\2020-02_RAMP_all_page-clicks.zip\n",
      "D:/Documents/PycharmProjects/LEADING-RAMP/ir_data/Ramp2020\\2020-03_RAMP_all_page-clicks.zip\n",
      "D:/Documents/PycharmProjects/LEADING-RAMP/ir_data/Ramp2020\\2020-04_RAMP_all_page-clicks.zip\n",
      "D:/Documents/PycharmProjects/LEADING-RAMP/ir_data/Ramp2020\\2020-05_RAMP_all_page-clicks.zip\n",
      "D:/Documents/PycharmProjects/LEADING-RAMP/ir_data/Ramp2020\\2020-06_RAMP_all_page-clicks.zip\n",
      "D:/Documents/PycharmProjects/LEADING-RAMP/ir_data/Ramp2020\\2020-07_RAMP_all_page-clicks.zip\n",
      "D:/Documents/PycharmProjects/LEADING-RAMP/ir_data/Ramp2020\\2020-08_RAMP_all_page-clicks.zip\n",
      "D:/Documents/PycharmProjects/LEADING-RAMP/ir_data/Ramp2020\\2020-09_RAMP_all_page-clicks.zip\n",
      "D:/Documents/PycharmProjects/LEADING-RAMP/ir_data/Ramp2020\\2020-10_RAMP_all_page-clicks.zip\n",
      "D:/Documents/PycharmProjects/LEADING-RAMP/ir_data/Ramp2020\\2020-11_RAMP_all_page-clicks.zip\n",
      "D:/Documents/PycharmProjects/LEADING-RAMP/ir_data/Ramp2020\\2020-12_RAMP_all_page-clicks.zip\n"
     ]
    }
   ],
   "source": [
    "uariz_pc_2020 = process_repo(\"university_arizona\")"
   ]
  },
  {
   "cell_type": "code",
   "execution_count": 29,
   "metadata": {
    "execution": {
     "iopub.execute_input": "2021-08-19T16:45:23.719140Z",
     "iopub.status.busy": "2021-08-19T16:45:23.719140Z",
     "iopub.status.idle": "2021-08-19T16:45:43.506356Z",
     "shell.execute_reply": "2021-08-19T16:45:43.506356Z",
     "shell.execute_reply.started": "2021-08-19T16:45:23.719140Z"
    }
   },
   "outputs": [],
   "source": [
    "uariz_pc_2020.to_csv(\"D://Documents//PycharmProjects//LEADING-RAMP//ir_data//Ramp2020//Export/uariz_pc_2020.csv\", header = True)"
   ]
  },
  {
   "cell_type": "code",
   "execution_count": 30,
   "metadata": {
    "execution": {
     "iopub.execute_input": "2021-08-19T16:45:43.507354Z",
     "iopub.status.busy": "2021-08-19T16:45:43.507354Z",
     "iopub.status.idle": "2021-08-19T16:50:02.567221Z",
     "shell.execute_reply": "2021-08-19T16:50:02.567221Z",
     "shell.execute_reply.started": "2021-08-19T16:45:43.507354Z"
    }
   },
   "outputs": [
    {
     "name": "stdout",
     "output_type": "stream",
     "text": [
      "D:/Documents/PycharmProjects/LEADING-RAMP/ir_data/Ramp2020\\2020-01_RAMP_all_page-clicks.zip\n",
      "D:/Documents/PycharmProjects/LEADING-RAMP/ir_data/Ramp2020\\2020-02_RAMP_all_page-clicks.zip\n",
      "D:/Documents/PycharmProjects/LEADING-RAMP/ir_data/Ramp2020\\2020-03_RAMP_all_page-clicks.zip\n",
      "D:/Documents/PycharmProjects/LEADING-RAMP/ir_data/Ramp2020\\2020-04_RAMP_all_page-clicks.zip\n",
      "D:/Documents/PycharmProjects/LEADING-RAMP/ir_data/Ramp2020\\2020-05_RAMP_all_page-clicks.zip\n",
      "D:/Documents/PycharmProjects/LEADING-RAMP/ir_data/Ramp2020\\2020-06_RAMP_all_page-clicks.zip\n",
      "D:/Documents/PycharmProjects/LEADING-RAMP/ir_data/Ramp2020\\2020-07_RAMP_all_page-clicks.zip\n",
      "D:/Documents/PycharmProjects/LEADING-RAMP/ir_data/Ramp2020\\2020-08_RAMP_all_page-clicks.zip\n",
      "D:/Documents/PycharmProjects/LEADING-RAMP/ir_data/Ramp2020\\2020-09_RAMP_all_page-clicks.zip\n",
      "D:/Documents/PycharmProjects/LEADING-RAMP/ir_data/Ramp2020\\2020-10_RAMP_all_page-clicks.zip\n",
      "D:/Documents/PycharmProjects/LEADING-RAMP/ir_data/Ramp2020\\2020-11_RAMP_all_page-clicks.zip\n",
      "D:/Documents/PycharmProjects/LEADING-RAMP/ir_data/Ramp2020\\2020-12_RAMP_all_page-clicks.zip\n"
     ]
    }
   ],
   "source": [
    "swarthmore_pc_2020 = process_repo(\"swarthmore_college\")"
   ]
  },
  {
   "cell_type": "code",
   "execution_count": 31,
   "metadata": {
    "execution": {
     "iopub.execute_input": "2021-08-19T16:50:02.568218Z",
     "iopub.status.busy": "2021-08-19T16:50:02.568218Z",
     "iopub.status.idle": "2021-08-19T16:50:07.140765Z",
     "shell.execute_reply": "2021-08-19T16:50:07.140765Z",
     "shell.execute_reply.started": "2021-08-19T16:50:02.568218Z"
    }
   },
   "outputs": [],
   "source": [
    "swarthmore_pc_2020.to_csv(\"D://Documents//PycharmProjects//LEADING-RAMP//ir_data//Ramp2020//Export/swarthmore_pc_2020.csv\", header = True)"
   ]
  },
  {
   "cell_type": "code",
   "execution_count": 32,
   "metadata": {
    "execution": {
     "iopub.execute_input": "2021-08-19T16:50:07.141763Z",
     "iopub.status.busy": "2021-08-19T16:50:07.141763Z",
     "iopub.status.idle": "2021-08-19T16:54:24.369537Z",
     "shell.execute_reply": "2021-08-19T16:54:24.368541Z",
     "shell.execute_reply.started": "2021-08-19T16:50:07.141763Z"
    }
   },
   "outputs": [
    {
     "name": "stdout",
     "output_type": "stream",
     "text": [
      "D:/Documents/PycharmProjects/LEADING-RAMP/ir_data/Ramp2020\\2020-01_RAMP_all_page-clicks.zip\n",
      "D:/Documents/PycharmProjects/LEADING-RAMP/ir_data/Ramp2020\\2020-02_RAMP_all_page-clicks.zip\n",
      "D:/Documents/PycharmProjects/LEADING-RAMP/ir_data/Ramp2020\\2020-03_RAMP_all_page-clicks.zip\n",
      "D:/Documents/PycharmProjects/LEADING-RAMP/ir_data/Ramp2020\\2020-04_RAMP_all_page-clicks.zip\n",
      "D:/Documents/PycharmProjects/LEADING-RAMP/ir_data/Ramp2020\\2020-05_RAMP_all_page-clicks.zip\n",
      "D:/Documents/PycharmProjects/LEADING-RAMP/ir_data/Ramp2020\\2020-06_RAMP_all_page-clicks.zip\n",
      "D:/Documents/PycharmProjects/LEADING-RAMP/ir_data/Ramp2020\\2020-07_RAMP_all_page-clicks.zip\n",
      "D:/Documents/PycharmProjects/LEADING-RAMP/ir_data/Ramp2020\\2020-08_RAMP_all_page-clicks.zip\n",
      "D:/Documents/PycharmProjects/LEADING-RAMP/ir_data/Ramp2020\\2020-09_RAMP_all_page-clicks.zip\n",
      "D:/Documents/PycharmProjects/LEADING-RAMP/ir_data/Ramp2020\\2020-10_RAMP_all_page-clicks.zip\n",
      "D:/Documents/PycharmProjects/LEADING-RAMP/ir_data/Ramp2020\\2020-11_RAMP_all_page-clicks.zip\n",
      "D:/Documents/PycharmProjects/LEADING-RAMP/ir_data/Ramp2020\\2020-12_RAMP_all_page-clicks.zip\n"
     ]
    }
   ],
   "source": [
    "samhouston_pc_2020 = process_repo(\"sam_houston_state_university\")"
   ]
  },
  {
   "cell_type": "code",
   "execution_count": 33,
   "metadata": {
    "execution": {
     "iopub.execute_input": "2021-08-19T16:54:24.370534Z",
     "iopub.status.busy": "2021-08-19T16:54:24.369537Z",
     "iopub.status.idle": "2021-08-19T16:54:26.054378Z",
     "shell.execute_reply": "2021-08-19T16:54:26.054378Z",
     "shell.execute_reply.started": "2021-08-19T16:54:24.369537Z"
    }
   },
   "outputs": [],
   "source": [
    "samhouston_pc_2020.to_csv(\"D://Documents//PycharmProjects//LEADING-RAMP//ir_data//Ramp2020//Export/samhouston_pc_2020.csv\", header = True)"
   ]
  },
  {
   "cell_type": "code",
   "execution_count": 34,
   "metadata": {
    "execution": {
     "iopub.execute_input": "2021-08-19T16:54:26.055373Z",
     "iopub.status.busy": "2021-08-19T16:54:26.055373Z",
     "iopub.status.idle": "2021-08-19T16:58:45.490151Z",
     "shell.execute_reply": "2021-08-19T16:58:45.486162Z",
     "shell.execute_reply.started": "2021-08-19T16:54:26.055373Z"
    }
   },
   "outputs": [
    {
     "name": "stdout",
     "output_type": "stream",
     "text": [
      "D:/Documents/PycharmProjects/LEADING-RAMP/ir_data/Ramp2020\\2020-01_RAMP_all_page-clicks.zip\n",
      "D:/Documents/PycharmProjects/LEADING-RAMP/ir_data/Ramp2020\\2020-02_RAMP_all_page-clicks.zip\n",
      "D:/Documents/PycharmProjects/LEADING-RAMP/ir_data/Ramp2020\\2020-03_RAMP_all_page-clicks.zip\n",
      "D:/Documents/PycharmProjects/LEADING-RAMP/ir_data/Ramp2020\\2020-04_RAMP_all_page-clicks.zip\n",
      "D:/Documents/PycharmProjects/LEADING-RAMP/ir_data/Ramp2020\\2020-05_RAMP_all_page-clicks.zip\n",
      "D:/Documents/PycharmProjects/LEADING-RAMP/ir_data/Ramp2020\\2020-06_RAMP_all_page-clicks.zip\n",
      "D:/Documents/PycharmProjects/LEADING-RAMP/ir_data/Ramp2020\\2020-07_RAMP_all_page-clicks.zip\n",
      "D:/Documents/PycharmProjects/LEADING-RAMP/ir_data/Ramp2020\\2020-08_RAMP_all_page-clicks.zip\n",
      "D:/Documents/PycharmProjects/LEADING-RAMP/ir_data/Ramp2020\\2020-09_RAMP_all_page-clicks.zip\n",
      "D:/Documents/PycharmProjects/LEADING-RAMP/ir_data/Ramp2020\\2020-10_RAMP_all_page-clicks.zip\n",
      "D:/Documents/PycharmProjects/LEADING-RAMP/ir_data/Ramp2020\\2020-11_RAMP_all_page-clicks.zip\n",
      "D:/Documents/PycharmProjects/LEADING-RAMP/ir_data/Ramp2020\\2020-12_RAMP_all_page-clicks.zip\n"
     ]
    }
   ],
   "source": [
    "rutgers_pc_2020 = process_repo(\"rutgers_university\")"
   ]
  },
  {
   "cell_type": "code",
   "execution_count": 35,
   "metadata": {
    "execution": {
     "iopub.execute_input": "2021-08-19T16:58:45.493143Z",
     "iopub.status.busy": "2021-08-19T16:58:45.492147Z",
     "iopub.status.idle": "2021-08-19T16:58:58.797558Z",
     "shell.execute_reply": "2021-08-19T16:58:58.794567Z",
     "shell.execute_reply.started": "2021-08-19T16:58:45.493143Z"
    }
   },
   "outputs": [],
   "source": [
    "rutgers_pc_2020.to_csv(\"D://Documents//PycharmProjects//LEADING-RAMP//ir_data//Ramp2020//Export/rutgers_pc_2020.csv\", header = True)"
   ]
  },
  {
   "cell_type": "code",
   "execution_count": 36,
   "metadata": {
    "execution": {
     "iopub.execute_input": "2021-08-19T16:58:58.799552Z",
     "iopub.status.busy": "2021-08-19T16:58:58.798556Z",
     "iopub.status.idle": "2021-08-19T17:03:19.452959Z",
     "shell.execute_reply": "2021-08-19T17:03:19.452959Z",
     "shell.execute_reply.started": "2021-08-19T16:58:58.799552Z"
    }
   },
   "outputs": [
    {
     "name": "stdout",
     "output_type": "stream",
     "text": [
      "D:/Documents/PycharmProjects/LEADING-RAMP/ir_data/Ramp2020\\2020-01_RAMP_all_page-clicks.zip\n",
      "D:/Documents/PycharmProjects/LEADING-RAMP/ir_data/Ramp2020\\2020-02_RAMP_all_page-clicks.zip\n",
      "D:/Documents/PycharmProjects/LEADING-RAMP/ir_data/Ramp2020\\2020-03_RAMP_all_page-clicks.zip\n",
      "D:/Documents/PycharmProjects/LEADING-RAMP/ir_data/Ramp2020\\2020-04_RAMP_all_page-clicks.zip\n",
      "D:/Documents/PycharmProjects/LEADING-RAMP/ir_data/Ramp2020\\2020-05_RAMP_all_page-clicks.zip\n",
      "D:/Documents/PycharmProjects/LEADING-RAMP/ir_data/Ramp2020\\2020-06_RAMP_all_page-clicks.zip\n",
      "D:/Documents/PycharmProjects/LEADING-RAMP/ir_data/Ramp2020\\2020-07_RAMP_all_page-clicks.zip\n",
      "D:/Documents/PycharmProjects/LEADING-RAMP/ir_data/Ramp2020\\2020-08_RAMP_all_page-clicks.zip\n",
      "D:/Documents/PycharmProjects/LEADING-RAMP/ir_data/Ramp2020\\2020-09_RAMP_all_page-clicks.zip\n",
      "D:/Documents/PycharmProjects/LEADING-RAMP/ir_data/Ramp2020\\2020-10_RAMP_all_page-clicks.zip\n",
      "D:/Documents/PycharmProjects/LEADING-RAMP/ir_data/Ramp2020\\2020-11_RAMP_all_page-clicks.zip\n",
      "D:/Documents/PycharmProjects/LEADING-RAMP/ir_data/Ramp2020\\2020-12_RAMP_all_page-clicks.zip\n"
     ]
    }
   ],
   "source": [
    "northeast_pc_2020 = process_repo(\"northeastern_university\")"
   ]
  },
  {
   "cell_type": "code",
   "execution_count": 37,
   "metadata": {
    "execution": {
     "iopub.execute_input": "2021-08-19T17:03:19.452959Z",
     "iopub.status.busy": "2021-08-19T17:03:19.452959Z",
     "iopub.status.idle": "2021-08-19T17:03:36.991840Z",
     "shell.execute_reply": "2021-08-19T17:03:36.991840Z",
     "shell.execute_reply.started": "2021-08-19T17:03:19.452959Z"
    }
   },
   "outputs": [],
   "source": [
    "northeast_pc_2020.to_csv(\"D://Documents//PycharmProjects//LEADING-RAMP//ir_data//Ramp2020//Export/northeast_pc_2020.csv\", header = True)"
   ]
  },
  {
   "cell_type": "code",
   "execution_count": 38,
   "metadata": {
    "execution": {
     "iopub.execute_input": "2021-08-19T17:03:36.991840Z",
     "iopub.status.busy": "2021-08-19T17:03:36.991840Z",
     "iopub.status.idle": "2021-08-19T17:08:01.577998Z",
     "shell.execute_reply": "2021-08-19T17:08:01.577998Z",
     "shell.execute_reply.started": "2021-08-19T17:03:36.991840Z"
    }
   },
   "outputs": [
    {
     "name": "stdout",
     "output_type": "stream",
     "text": [
      "D:/Documents/PycharmProjects/LEADING-RAMP/ir_data/Ramp2020\\2020-01_RAMP_all_page-clicks.zip\n",
      "D:/Documents/PycharmProjects/LEADING-RAMP/ir_data/Ramp2020\\2020-02_RAMP_all_page-clicks.zip\n",
      "D:/Documents/PycharmProjects/LEADING-RAMP/ir_data/Ramp2020\\2020-03_RAMP_all_page-clicks.zip\n",
      "D:/Documents/PycharmProjects/LEADING-RAMP/ir_data/Ramp2020\\2020-04_RAMP_all_page-clicks.zip\n",
      "D:/Documents/PycharmProjects/LEADING-RAMP/ir_data/Ramp2020\\2020-05_RAMP_all_page-clicks.zip\n",
      "D:/Documents/PycharmProjects/LEADING-RAMP/ir_data/Ramp2020\\2020-06_RAMP_all_page-clicks.zip\n",
      "D:/Documents/PycharmProjects/LEADING-RAMP/ir_data/Ramp2020\\2020-07_RAMP_all_page-clicks.zip\n",
      "D:/Documents/PycharmProjects/LEADING-RAMP/ir_data/Ramp2020\\2020-08_RAMP_all_page-clicks.zip\n",
      "D:/Documents/PycharmProjects/LEADING-RAMP/ir_data/Ramp2020\\2020-09_RAMP_all_page-clicks.zip\n",
      "D:/Documents/PycharmProjects/LEADING-RAMP/ir_data/Ramp2020\\2020-10_RAMP_all_page-clicks.zip\n",
      "D:/Documents/PycharmProjects/LEADING-RAMP/ir_data/Ramp2020\\2020-11_RAMP_all_page-clicks.zip\n",
      "D:/Documents/PycharmProjects/LEADING-RAMP/ir_data/Ramp2020\\2020-12_RAMP_all_page-clicks.zip\n"
     ]
    }
   ],
   "source": [
    "unm_pc_2020 = process_repo(\"university_new_mexico\")"
   ]
  },
  {
   "cell_type": "code",
   "execution_count": 39,
   "metadata": {
    "execution": {
     "iopub.execute_input": "2021-08-19T17:08:01.577998Z",
     "iopub.status.busy": "2021-08-19T17:08:01.577998Z",
     "iopub.status.idle": "2021-08-19T17:08:35.540916Z",
     "shell.execute_reply": "2021-08-19T17:08:35.540916Z",
     "shell.execute_reply.started": "2021-08-19T17:08:01.577998Z"
    }
   },
   "outputs": [],
   "source": [
    "unm_pc_2020.to_csv(\"D://Documents//PycharmProjects//LEADING-RAMP//ir_data//Ramp2020//Export/unm_pc_2020.csv\", header = True)"
   ]
  },
  {
   "cell_type": "code",
   "execution_count": 40,
   "metadata": {
    "execution": {
     "iopub.execute_input": "2021-08-19T17:08:35.540916Z",
     "iopub.status.busy": "2021-08-19T17:08:35.540916Z",
     "iopub.status.idle": "2021-08-19T17:12:51.247381Z",
     "shell.execute_reply": "2021-08-19T17:12:51.247381Z",
     "shell.execute_reply.started": "2021-08-19T17:08:35.540916Z"
    }
   },
   "outputs": [
    {
     "name": "stdout",
     "output_type": "stream",
     "text": [
      "D:/Documents/PycharmProjects/LEADING-RAMP/ir_data/Ramp2020\\2020-01_RAMP_all_page-clicks.zip\n",
      "D:/Documents/PycharmProjects/LEADING-RAMP/ir_data/Ramp2020\\2020-02_RAMP_all_page-clicks.zip\n",
      "D:/Documents/PycharmProjects/LEADING-RAMP/ir_data/Ramp2020\\2020-03_RAMP_all_page-clicks.zip\n",
      "D:/Documents/PycharmProjects/LEADING-RAMP/ir_data/Ramp2020\\2020-04_RAMP_all_page-clicks.zip\n",
      "D:/Documents/PycharmProjects/LEADING-RAMP/ir_data/Ramp2020\\2020-05_RAMP_all_page-clicks.zip\n",
      "D:/Documents/PycharmProjects/LEADING-RAMP/ir_data/Ramp2020\\2020-06_RAMP_all_page-clicks.zip\n",
      "D:/Documents/PycharmProjects/LEADING-RAMP/ir_data/Ramp2020\\2020-07_RAMP_all_page-clicks.zip\n",
      "D:/Documents/PycharmProjects/LEADING-RAMP/ir_data/Ramp2020\\2020-08_RAMP_all_page-clicks.zip\n",
      "D:/Documents/PycharmProjects/LEADING-RAMP/ir_data/Ramp2020\\2020-09_RAMP_all_page-clicks.zip\n",
      "D:/Documents/PycharmProjects/LEADING-RAMP/ir_data/Ramp2020\\2020-10_RAMP_all_page-clicks.zip\n",
      "D:/Documents/PycharmProjects/LEADING-RAMP/ir_data/Ramp2020\\2020-11_RAMP_all_page-clicks.zip\n",
      "D:/Documents/PycharmProjects/LEADING-RAMP/ir_data/Ramp2020\\2020-12_RAMP_all_page-clicks.zip\n"
     ]
    }
   ],
   "source": [
    "nky_pc_2020 = process_repo(\"northern_kentucky_university\")"
   ]
  },
  {
   "cell_type": "code",
   "execution_count": 41,
   "metadata": {
    "execution": {
     "iopub.execute_input": "2021-08-19T17:12:51.247381Z",
     "iopub.status.busy": "2021-08-19T17:12:51.247381Z",
     "iopub.status.idle": "2021-08-19T17:12:52.621427Z",
     "shell.execute_reply": "2021-08-19T17:12:52.621427Z",
     "shell.execute_reply.started": "2021-08-19T17:12:51.247381Z"
    }
   },
   "outputs": [],
   "source": [
    "nky_pc_2020.to_csv(\"D://Documents//PycharmProjects//LEADING-RAMP//ir_data//Ramp2020//Export/nky_pc_2020.csv\", header = True)"
   ]
  },
  {
   "cell_type": "code",
   "execution_count": 42,
   "metadata": {
    "execution": {
     "iopub.execute_input": "2021-08-19T17:12:52.621427Z",
     "iopub.status.busy": "2021-08-19T17:12:52.621427Z",
     "iopub.status.idle": "2021-08-19T17:17:13.986474Z",
     "shell.execute_reply": "2021-08-19T17:17:13.986474Z",
     "shell.execute_reply.started": "2021-08-19T17:12:52.621427Z"
    }
   },
   "outputs": [
    {
     "name": "stdout",
     "output_type": "stream",
     "text": [
      "D:/Documents/PycharmProjects/LEADING-RAMP/ir_data/Ramp2020\\2020-01_RAMP_all_page-clicks.zip\n",
      "D:/Documents/PycharmProjects/LEADING-RAMP/ir_data/Ramp2020\\2020-02_RAMP_all_page-clicks.zip\n",
      "D:/Documents/PycharmProjects/LEADING-RAMP/ir_data/Ramp2020\\2020-03_RAMP_all_page-clicks.zip\n",
      "D:/Documents/PycharmProjects/LEADING-RAMP/ir_data/Ramp2020\\2020-04_RAMP_all_page-clicks.zip\n",
      "D:/Documents/PycharmProjects/LEADING-RAMP/ir_data/Ramp2020\\2020-05_RAMP_all_page-clicks.zip\n",
      "D:/Documents/PycharmProjects/LEADING-RAMP/ir_data/Ramp2020\\2020-06_RAMP_all_page-clicks.zip\n",
      "D:/Documents/PycharmProjects/LEADING-RAMP/ir_data/Ramp2020\\2020-07_RAMP_all_page-clicks.zip\n",
      "D:/Documents/PycharmProjects/LEADING-RAMP/ir_data/Ramp2020\\2020-08_RAMP_all_page-clicks.zip\n",
      "D:/Documents/PycharmProjects/LEADING-RAMP/ir_data/Ramp2020\\2020-09_RAMP_all_page-clicks.zip\n",
      "D:/Documents/PycharmProjects/LEADING-RAMP/ir_data/Ramp2020\\2020-10_RAMP_all_page-clicks.zip\n",
      "D:/Documents/PycharmProjects/LEADING-RAMP/ir_data/Ramp2020\\2020-11_RAMP_all_page-clicks.zip\n",
      "D:/Documents/PycharmProjects/LEADING-RAMP/ir_data/Ramp2020\\2020-12_RAMP_all_page-clicks.zip\n"
     ]
    }
   ],
   "source": [
    "umich_pc_2020 = process_repo(\"university_michigan\")"
   ]
  },
  {
   "cell_type": "code",
   "execution_count": 43,
   "metadata": {
    "execution": {
     "iopub.execute_input": "2021-08-19T17:17:13.986474Z",
     "iopub.status.busy": "2021-08-19T17:17:13.986474Z",
     "iopub.status.idle": "2021-08-19T17:17:37.057467Z",
     "shell.execute_reply": "2021-08-19T17:17:37.057467Z",
     "shell.execute_reply.started": "2021-08-19T17:17:13.986474Z"
    }
   },
   "outputs": [],
   "source": [
    "umich_pc_2020.to_csv(\"D://Documents//PycharmProjects//LEADING-RAMP//ir_data//Ramp2020//Export/umich_pc_2020.csv\", header = True)"
   ]
  },
  {
   "cell_type": "code",
   "execution_count": 44,
   "metadata": {
    "execution": {
     "iopub.execute_input": "2021-08-19T17:17:37.057467Z",
     "iopub.status.busy": "2021-08-19T17:17:37.057467Z",
     "iopub.status.idle": "2021-08-19T17:21:56.362105Z",
     "shell.execute_reply": "2021-08-19T17:21:56.362105Z",
     "shell.execute_reply.started": "2021-08-19T17:17:37.057467Z"
    }
   },
   "outputs": [
    {
     "name": "stdout",
     "output_type": "stream",
     "text": [
      "D:/Documents/PycharmProjects/LEADING-RAMP/ir_data/Ramp2020\\2020-01_RAMP_all_page-clicks.zip\n",
      "D:/Documents/PycharmProjects/LEADING-RAMP/ir_data/Ramp2020\\2020-02_RAMP_all_page-clicks.zip\n",
      "D:/Documents/PycharmProjects/LEADING-RAMP/ir_data/Ramp2020\\2020-03_RAMP_all_page-clicks.zip\n",
      "D:/Documents/PycharmProjects/LEADING-RAMP/ir_data/Ramp2020\\2020-04_RAMP_all_page-clicks.zip\n",
      "D:/Documents/PycharmProjects/LEADING-RAMP/ir_data/Ramp2020\\2020-05_RAMP_all_page-clicks.zip\n",
      "D:/Documents/PycharmProjects/LEADING-RAMP/ir_data/Ramp2020\\2020-06_RAMP_all_page-clicks.zip\n",
      "D:/Documents/PycharmProjects/LEADING-RAMP/ir_data/Ramp2020\\2020-07_RAMP_all_page-clicks.zip\n",
      "D:/Documents/PycharmProjects/LEADING-RAMP/ir_data/Ramp2020\\2020-08_RAMP_all_page-clicks.zip\n",
      "D:/Documents/PycharmProjects/LEADING-RAMP/ir_data/Ramp2020\\2020-09_RAMP_all_page-clicks.zip\n",
      "D:/Documents/PycharmProjects/LEADING-RAMP/ir_data/Ramp2020\\2020-10_RAMP_all_page-clicks.zip\n",
      "D:/Documents/PycharmProjects/LEADING-RAMP/ir_data/Ramp2020\\2020-11_RAMP_all_page-clicks.zip\n",
      "D:/Documents/PycharmProjects/LEADING-RAMP/ir_data/Ramp2020\\2020-12_RAMP_all_page-clicks.zip\n"
     ]
    }
   ],
   "source": [
    "umaryland_pc_2020 = process_repo(\"maryland_drum\")"
   ]
  },
  {
   "cell_type": "code",
   "execution_count": 45,
   "metadata": {
    "execution": {
     "iopub.execute_input": "2021-08-19T17:21:56.362105Z",
     "iopub.status.busy": "2021-08-19T17:21:56.362105Z",
     "iopub.status.idle": "2021-08-19T17:22:10.198483Z",
     "shell.execute_reply": "2021-08-19T17:22:10.198483Z",
     "shell.execute_reply.started": "2021-08-19T17:21:56.362105Z"
    }
   },
   "outputs": [],
   "source": [
    "umaryland_pc_2020.to_csv(\"D://Documents//PycharmProjects//LEADING-RAMP//ir_data//Ramp2020//Export/umaryland_pc_2020.csv\", header = True)"
   ]
  },
  {
   "cell_type": "code",
   "execution_count": 46,
   "metadata": {
    "execution": {
     "iopub.execute_input": "2021-08-19T17:22:10.198483Z",
     "iopub.status.busy": "2021-08-19T17:22:10.198483Z",
     "iopub.status.idle": "2021-08-19T17:26:31.419888Z",
     "shell.execute_reply": "2021-08-19T17:26:31.419888Z",
     "shell.execute_reply.started": "2021-08-19T17:22:10.198483Z"
    }
   },
   "outputs": [
    {
     "name": "stdout",
     "output_type": "stream",
     "text": [
      "D:/Documents/PycharmProjects/LEADING-RAMP/ir_data/Ramp2020\\2020-01_RAMP_all_page-clicks.zip\n",
      "D:/Documents/PycharmProjects/LEADING-RAMP/ir_data/Ramp2020\\2020-02_RAMP_all_page-clicks.zip\n",
      "D:/Documents/PycharmProjects/LEADING-RAMP/ir_data/Ramp2020\\2020-03_RAMP_all_page-clicks.zip\n",
      "D:/Documents/PycharmProjects/LEADING-RAMP/ir_data/Ramp2020\\2020-04_RAMP_all_page-clicks.zip\n",
      "D:/Documents/PycharmProjects/LEADING-RAMP/ir_data/Ramp2020\\2020-05_RAMP_all_page-clicks.zip\n",
      "D:/Documents/PycharmProjects/LEADING-RAMP/ir_data/Ramp2020\\2020-06_RAMP_all_page-clicks.zip\n",
      "D:/Documents/PycharmProjects/LEADING-RAMP/ir_data/Ramp2020\\2020-07_RAMP_all_page-clicks.zip\n",
      "D:/Documents/PycharmProjects/LEADING-RAMP/ir_data/Ramp2020\\2020-08_RAMP_all_page-clicks.zip\n",
      "D:/Documents/PycharmProjects/LEADING-RAMP/ir_data/Ramp2020\\2020-09_RAMP_all_page-clicks.zip\n",
      "D:/Documents/PycharmProjects/LEADING-RAMP/ir_data/Ramp2020\\2020-10_RAMP_all_page-clicks.zip\n",
      "D:/Documents/PycharmProjects/LEADING-RAMP/ir_data/Ramp2020\\2020-11_RAMP_all_page-clicks.zip\n",
      "D:/Documents/PycharmProjects/LEADING-RAMP/ir_data/Ramp2020\\2020-12_RAMP_all_page-clicks.zip\n"
     ]
    }
   ],
   "source": [
    "kansas_pc_2020 = process_repo(\"kansas_state_university\")"
   ]
  },
  {
   "cell_type": "code",
   "execution_count": 47,
   "metadata": {
    "execution": {
     "iopub.execute_input": "2021-08-19T17:26:31.419888Z",
     "iopub.status.busy": "2021-08-19T17:26:31.419888Z",
     "iopub.status.idle": "2021-08-19T17:26:50.088749Z",
     "shell.execute_reply": "2021-08-19T17:26:50.088749Z",
     "shell.execute_reply.started": "2021-08-19T17:26:31.419888Z"
    }
   },
   "outputs": [],
   "source": [
    "kansas_pc_2020.to_csv(\"D://Documents//PycharmProjects//LEADING-RAMP//ir_data//Ramp2020//Export/kansas_pc_2020.csv\", header = True)"
   ]
  },
  {
   "cell_type": "code",
   "execution_count": 48,
   "metadata": {
    "execution": {
     "iopub.execute_input": "2021-08-19T17:26:50.088749Z",
     "iopub.status.busy": "2021-08-19T17:26:50.088749Z",
     "iopub.status.idle": "2021-08-19T17:31:10.030002Z",
     "shell.execute_reply": "2021-08-19T17:31:10.030002Z",
     "shell.execute_reply.started": "2021-08-19T17:26:50.088749Z"
    }
   },
   "outputs": [
    {
     "name": "stdout",
     "output_type": "stream",
     "text": [
      "D:/Documents/PycharmProjects/LEADING-RAMP/ir_data/Ramp2020\\2020-01_RAMP_all_page-clicks.zip\n",
      "D:/Documents/PycharmProjects/LEADING-RAMP/ir_data/Ramp2020\\2020-02_RAMP_all_page-clicks.zip\n",
      "D:/Documents/PycharmProjects/LEADING-RAMP/ir_data/Ramp2020\\2020-03_RAMP_all_page-clicks.zip\n",
      "D:/Documents/PycharmProjects/LEADING-RAMP/ir_data/Ramp2020\\2020-04_RAMP_all_page-clicks.zip\n",
      "D:/Documents/PycharmProjects/LEADING-RAMP/ir_data/Ramp2020\\2020-05_RAMP_all_page-clicks.zip\n",
      "D:/Documents/PycharmProjects/LEADING-RAMP/ir_data/Ramp2020\\2020-06_RAMP_all_page-clicks.zip\n",
      "D:/Documents/PycharmProjects/LEADING-RAMP/ir_data/Ramp2020\\2020-07_RAMP_all_page-clicks.zip\n",
      "D:/Documents/PycharmProjects/LEADING-RAMP/ir_data/Ramp2020\\2020-08_RAMP_all_page-clicks.zip\n",
      "D:/Documents/PycharmProjects/LEADING-RAMP/ir_data/Ramp2020\\2020-09_RAMP_all_page-clicks.zip\n",
      "D:/Documents/PycharmProjects/LEADING-RAMP/ir_data/Ramp2020\\2020-10_RAMP_all_page-clicks.zip\n",
      "D:/Documents/PycharmProjects/LEADING-RAMP/ir_data/Ramp2020\\2020-11_RAMP_all_page-clicks.zip\n",
      "D:/Documents/PycharmProjects/LEADING-RAMP/ir_data/Ramp2020\\2020-12_RAMP_all_page-clicks.zip\n"
     ]
    }
   ],
   "source": [
    "umontana_pc_2020 = process_repo(\"university_montana\")"
   ]
  },
  {
   "cell_type": "code",
   "execution_count": 49,
   "metadata": {
    "execution": {
     "iopub.execute_input": "2021-08-19T17:31:10.030002Z",
     "iopub.status.busy": "2021-08-19T17:31:10.030002Z",
     "iopub.status.idle": "2021-08-19T17:31:28.187362Z",
     "shell.execute_reply": "2021-08-19T17:31:28.187362Z",
     "shell.execute_reply.started": "2021-08-19T17:31:10.030002Z"
    }
   },
   "outputs": [],
   "source": [
    "umontana_pc_2020.to_csv(\"D://Documents//PycharmProjects//LEADING-RAMP//ir_data//Ramp2020//Export/umontana_pc_2020.csv\", header = True)"
   ]
  },
  {
   "cell_type": "markdown",
   "metadata": {},
   "source": [
    "It took about 2 hours to export these IR yearly file. "
   ]
  },
  {
   "cell_type": "code",
   "execution_count": null,
   "metadata": {},
   "outputs": [],
   "source": []
  }
 ],
 "metadata": {
  "kernelspec": {
   "display_name": "Python 3",
   "language": "python",
   "name": "python3"
  },
  "language_info": {
   "codemirror_mode": {
    "name": "ipython",
    "version": 3
   },
   "file_extension": ".py",
   "mimetype": "text/x-python",
   "name": "python",
   "nbconvert_exporter": "python",
   "pygments_lexer": "ipython3",
   "version": "3.8.6"
  }
 },
 "nbformat": 4,
 "nbformat_minor": 4
}
