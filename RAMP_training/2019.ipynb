{
 "cells": [
  {
   "cell_type": "code",
   "execution_count": 1,
   "metadata": {
    "execution": {
     "iopub.execute_input": "2021-08-19T17:40:49.054063Z",
     "iopub.status.busy": "2021-08-19T17:40:49.054063Z",
     "iopub.status.idle": "2021-08-19T17:40:49.085312Z",
     "shell.execute_reply": "2021-08-19T17:40:49.085312Z",
     "shell.execute_reply.started": "2021-08-19T17:40:49.054063Z"
    },
    "id": "PfmO5awhQU6Z"
   },
   "outputs": [
    {
     "data": {
      "text/plain": [
       "'D:\\\\Documents\\\\PycharmProjects\\\\LEADING-RAMP'"
      ]
     },
     "execution_count": 1,
     "metadata": {},
     "output_type": "execute_result"
    }
   ],
   "source": [
    "import os\n",
    "os.getcwd()"
   ]
  },
  {
   "cell_type": "code",
   "execution_count": 2,
   "metadata": {
    "execution": {
     "iopub.execute_input": "2021-08-19T17:40:51.259536Z",
     "iopub.status.busy": "2021-08-19T17:40:51.259536Z",
     "iopub.status.idle": "2021-08-19T17:40:52.578290Z",
     "shell.execute_reply": "2021-08-19T17:40:52.578290Z",
     "shell.execute_reply.started": "2021-08-19T17:40:51.259536Z"
    }
   },
   "outputs": [],
   "source": [
    "import pandas as pd"
   ]
  },
  {
   "cell_type": "code",
   "execution_count": 3,
   "metadata": {
    "execution": {
     "iopub.execute_input": "2021-08-19T03:28:23.098109Z",
     "iopub.status.busy": "2021-08-19T03:28:23.098109Z",
     "iopub.status.idle": "2021-08-19T03:28:35.861725Z",
     "shell.execute_reply": "2021-08-19T03:28:35.861725Z",
     "shell.execute_reply.started": "2021-08-19T03:28:23.098109Z"
    }
   },
   "outputs": [],
   "source": [
    "data = pd.read_csv(\"D:\\\\Documents\\\\PycharmProjects\\\\LEADING-RAMP\\\\ir_data\\\\Ramp2019\\\\2019-01_page-clicks.csv\")"
   ]
  },
  {
   "cell_type": "code",
   "execution_count": 4,
   "metadata": {
    "execution": {
     "iopub.execute_input": "2021-08-19T17:41:41.759756Z",
     "iopub.status.busy": "2021-08-19T17:41:41.759756Z",
     "iopub.status.idle": "2021-08-19T17:41:58.892926Z",
     "shell.execute_reply": "2021-08-19T17:41:58.892926Z",
     "shell.execute_reply.started": "2021-08-19T17:41:41.759756Z"
    }
   },
   "outputs": [],
   "source": [
    "data2 = pd.read_csv(\"D:\\\\Documents\\\\PycharmProjects\\\\LEADING-RAMP\\\\ir_data\\\\Ramp2020\\\\2020-01_RAMP_all_page-clicks.csv\")"
   ]
  },
  {
   "cell_type": "code",
   "execution_count": 4,
   "metadata": {
    "execution": {
     "iopub.execute_input": "2021-08-19T03:28:35.861725Z",
     "iopub.status.busy": "2021-08-19T03:28:35.861725Z",
     "iopub.status.idle": "2021-08-19T03:28:35.881792Z",
     "shell.execute_reply": "2021-08-19T03:28:35.881792Z",
     "shell.execute_reply.started": "2021-08-19T03:28:35.861725Z"
    }
   },
   "outputs": [
    {
     "data": {
      "text/html": [
       "<div>\n",
       "<style scoped>\n",
       "    .dataframe tbody tr th:only-of-type {\n",
       "        vertical-align: middle;\n",
       "    }\n",
       "\n",
       "    .dataframe tbody tr th {\n",
       "        vertical-align: top;\n",
       "    }\n",
       "\n",
       "    .dataframe thead th {\n",
       "        text-align: right;\n",
       "    }\n",
       "</style>\n",
       "<table border=\"1\" class=\"dataframe\">\n",
       "  <thead>\n",
       "    <tr style=\"text-align: right;\">\n",
       "      <th></th>\n",
       "      <th>position</th>\n",
       "      <th>citableContent</th>\n",
       "      <th>clickThrough</th>\n",
       "      <th>url</th>\n",
       "      <th>impressions</th>\n",
       "      <th>date</th>\n",
       "      <th>clicks</th>\n",
       "      <th>index</th>\n",
       "      <th>repository_id</th>\n",
       "    </tr>\n",
       "  </thead>\n",
       "  <tbody>\n",
       "    <tr>\n",
       "      <th>0</th>\n",
       "      <td>9.5</td>\n",
       "      <td>Yes</td>\n",
       "      <td>0.0</td>\n",
       "      <td>https://scholarworks.iupui.edu/bitstream/handl...</td>\n",
       "      <td>2.0</td>\n",
       "      <td>2019-01-17</td>\n",
       "      <td>0.0</td>\n",
       "      <td>iupui_ir_page_clicks</td>\n",
       "      <td>indiana_university_purdue_university_indianapolis</td>\n",
       "    </tr>\n",
       "    <tr>\n",
       "      <th>1</th>\n",
       "      <td>101.5</td>\n",
       "      <td>Yes</td>\n",
       "      <td>0.0</td>\n",
       "      <td>http://dr.library.brocku.ca/bitstream/10464/17...</td>\n",
       "      <td>2.0</td>\n",
       "      <td>2019-01-30</td>\n",
       "      <td>0.0</td>\n",
       "      <td>brock_u_page_clicks</td>\n",
       "      <td>brock_university</td>\n",
       "    </tr>\n",
       "    <tr>\n",
       "      <th>2</th>\n",
       "      <td>26.0</td>\n",
       "      <td>Yes</td>\n",
       "      <td>0.0</td>\n",
       "      <td>https://repository.arizona.edu/bitstream/handl...</td>\n",
       "      <td>1.0</td>\n",
       "      <td>2019-01-31</td>\n",
       "      <td>0.0</td>\n",
       "      <td>u_arizona_page_clicks</td>\n",
       "      <td>university_arizona</td>\n",
       "    </tr>\n",
       "    <tr>\n",
       "      <th>3</th>\n",
       "      <td>40.5</td>\n",
       "      <td>Yes</td>\n",
       "      <td>0.0</td>\n",
       "      <td>https://scholarworks.iupui.edu/bitstream/handl...</td>\n",
       "      <td>2.0</td>\n",
       "      <td>2019-01-17</td>\n",
       "      <td>0.0</td>\n",
       "      <td>iupui_ir_page_clicks</td>\n",
       "      <td>indiana_university_purdue_university_indianapolis</td>\n",
       "    </tr>\n",
       "    <tr>\n",
       "      <th>4</th>\n",
       "      <td>25.5</td>\n",
       "      <td>Yes</td>\n",
       "      <td>0.0</td>\n",
       "      <td>http://dr.library.brocku.ca/bitstream/10464/26...</td>\n",
       "      <td>2.0</td>\n",
       "      <td>2019-01-30</td>\n",
       "      <td>0.0</td>\n",
       "      <td>brock_u_page_clicks</td>\n",
       "      <td>brock_university</td>\n",
       "    </tr>\n",
       "  </tbody>\n",
       "</table>\n",
       "</div>"
      ],
      "text/plain": [
       "   position citableContent  clickThrough  \\\n",
       "0       9.5            Yes           0.0   \n",
       "1     101.5            Yes           0.0   \n",
       "2      26.0            Yes           0.0   \n",
       "3      40.5            Yes           0.0   \n",
       "4      25.5            Yes           0.0   \n",
       "\n",
       "                                                 url  impressions        date  \\\n",
       "0  https://scholarworks.iupui.edu/bitstream/handl...          2.0  2019-01-17   \n",
       "1  http://dr.library.brocku.ca/bitstream/10464/17...          2.0  2019-01-30   \n",
       "2  https://repository.arizona.edu/bitstream/handl...          1.0  2019-01-31   \n",
       "3  https://scholarworks.iupui.edu/bitstream/handl...          2.0  2019-01-17   \n",
       "4  http://dr.library.brocku.ca/bitstream/10464/26...          2.0  2019-01-30   \n",
       "\n",
       "   clicks                  index  \\\n",
       "0     0.0   iupui_ir_page_clicks   \n",
       "1     0.0    brock_u_page_clicks   \n",
       "2     0.0  u_arizona_page_clicks   \n",
       "3     0.0   iupui_ir_page_clicks   \n",
       "4     0.0    brock_u_page_clicks   \n",
       "\n",
       "                                       repository_id  \n",
       "0  indiana_university_purdue_university_indianapolis  \n",
       "1                                   brock_university  \n",
       "2                                 university_arizona  \n",
       "3  indiana_university_purdue_university_indianapolis  \n",
       "4                                   brock_university  "
      ]
     },
     "execution_count": 4,
     "metadata": {},
     "output_type": "execute_result"
    }
   ],
   "source": [
    "data.head()"
   ]
  },
  {
   "cell_type": "code",
   "execution_count": 5,
   "metadata": {
    "execution": {
     "iopub.execute_input": "2021-08-19T17:44:32.147364Z",
     "iopub.status.busy": "2021-08-19T17:44:32.147364Z",
     "iopub.status.idle": "2021-08-19T17:44:32.664218Z",
     "shell.execute_reply": "2021-08-19T17:44:32.664218Z",
     "shell.execute_reply.started": "2021-08-19T17:44:32.147364Z"
    }
   },
   "outputs": [
    {
     "data": {
      "text/html": [
       "<div>\n",
       "<style scoped>\n",
       "    .dataframe tbody tr th:only-of-type {\n",
       "        vertical-align: middle;\n",
       "    }\n",
       "\n",
       "    .dataframe tbody tr th {\n",
       "        vertical-align: top;\n",
       "    }\n",
       "\n",
       "    .dataframe thead th {\n",
       "        text-align: right;\n",
       "    }\n",
       "</style>\n",
       "<table border=\"1\" class=\"dataframe\">\n",
       "  <thead>\n",
       "    <tr style=\"text-align: right;\">\n",
       "      <th></th>\n",
       "      <th>position</th>\n",
       "      <th>citableContent</th>\n",
       "      <th>clickThrough</th>\n",
       "      <th>url</th>\n",
       "      <th>impressions</th>\n",
       "      <th>date</th>\n",
       "      <th>clicks</th>\n",
       "      <th>index</th>\n",
       "      <th>repository_id</th>\n",
       "    </tr>\n",
       "  </thead>\n",
       "  <tbody>\n",
       "    <tr>\n",
       "      <th>0</th>\n",
       "      <td>6.0</td>\n",
       "      <td>No</td>\n",
       "      <td>0.0</td>\n",
       "      <td>http://dsprojects.lib.cuhk.edu.hk/en/ds-lab/</td>\n",
       "      <td>1.0</td>\n",
       "      <td>2020-01-08</td>\n",
       "      <td>0.0</td>\n",
       "      <td>cuhk_ds_page_clicks</td>\n",
       "      <td>chinese_university_hong_kong_digital_projects</td>\n",
       "    </tr>\n",
       "    <tr>\n",
       "      <th>1</th>\n",
       "      <td>6.0</td>\n",
       "      <td>No</td>\n",
       "      <td>0.0</td>\n",
       "      <td>http://dsprojects.lib.cuhk.edu.hk/en/projects/...</td>\n",
       "      <td>1.0</td>\n",
       "      <td>2020-01-08</td>\n",
       "      <td>0.0</td>\n",
       "      <td>cuhk_ds_page_clicks</td>\n",
       "      <td>chinese_university_hong_kong_digital_projects</td>\n",
       "    </tr>\n",
       "    <tr>\n",
       "      <th>2</th>\n",
       "      <td>26.0</td>\n",
       "      <td>No</td>\n",
       "      <td>0.0</td>\n",
       "      <td>http://dsprojects.lib.cuhk.edu.hk/zh-hans/proj...</td>\n",
       "      <td>1.0</td>\n",
       "      <td>2020-01-08</td>\n",
       "      <td>0.0</td>\n",
       "      <td>cuhk_ds_page_clicks</td>\n",
       "      <td>chinese_university_hong_kong_digital_projects</td>\n",
       "    </tr>\n",
       "    <tr>\n",
       "      <th>3</th>\n",
       "      <td>12.0</td>\n",
       "      <td>No</td>\n",
       "      <td>0.0</td>\n",
       "      <td>http://dsprojects.lib.cuhk.edu.hk/zh-hant/proj...</td>\n",
       "      <td>1.0</td>\n",
       "      <td>2020-01-08</td>\n",
       "      <td>0.0</td>\n",
       "      <td>cuhk_ds_page_clicks</td>\n",
       "      <td>chinese_university_hong_kong_digital_projects</td>\n",
       "    </tr>\n",
       "    <tr>\n",
       "      <th>4</th>\n",
       "      <td>8.0</td>\n",
       "      <td>No</td>\n",
       "      <td>0.0</td>\n",
       "      <td>http://dsprojects.lib.cuhk.edu.hk/</td>\n",
       "      <td>1.0</td>\n",
       "      <td>2020-01-05</td>\n",
       "      <td>0.0</td>\n",
       "      <td>cuhk_ds_page_clicks</td>\n",
       "      <td>chinese_university_hong_kong_digital_projects</td>\n",
       "    </tr>\n",
       "  </tbody>\n",
       "</table>\n",
       "</div>"
      ],
      "text/plain": [
       "   position citableContent  clickThrough  \\\n",
       "0       6.0             No           0.0   \n",
       "1       6.0             No           0.0   \n",
       "2      26.0             No           0.0   \n",
       "3      12.0             No           0.0   \n",
       "4       8.0             No           0.0   \n",
       "\n",
       "                                                 url  impressions        date  \\\n",
       "0       http://dsprojects.lib.cuhk.edu.hk/en/ds-lab/          1.0  2020-01-08   \n",
       "1  http://dsprojects.lib.cuhk.edu.hk/en/projects/...          1.0  2020-01-08   \n",
       "2  http://dsprojects.lib.cuhk.edu.hk/zh-hans/proj...          1.0  2020-01-08   \n",
       "3  http://dsprojects.lib.cuhk.edu.hk/zh-hant/proj...          1.0  2020-01-08   \n",
       "4                 http://dsprojects.lib.cuhk.edu.hk/          1.0  2020-01-05   \n",
       "\n",
       "   clicks                index                                  repository_id  \n",
       "0     0.0  cuhk_ds_page_clicks  chinese_university_hong_kong_digital_projects  \n",
       "1     0.0  cuhk_ds_page_clicks  chinese_university_hong_kong_digital_projects  \n",
       "2     0.0  cuhk_ds_page_clicks  chinese_university_hong_kong_digital_projects  \n",
       "3     0.0  cuhk_ds_page_clicks  chinese_university_hong_kong_digital_projects  \n",
       "4     0.0  cuhk_ds_page_clicks  chinese_university_hong_kong_digital_projects  "
      ]
     },
     "execution_count": 5,
     "metadata": {},
     "output_type": "execute_result"
    }
   ],
   "source": [
    "data2.head()"
   ]
  },
  {
   "cell_type": "markdown",
   "metadata": {},
   "source": [
    "Extract a list of index and repository_id from one of the file "
   ]
  },
  {
   "cell_type": "code",
   "execution_count": 5,
   "metadata": {
    "execution": {
     "iopub.execute_input": "2021-08-19T03:29:20.610764Z",
     "iopub.status.busy": "2021-08-19T03:29:20.610764Z",
     "iopub.status.idle": "2021-08-19T03:29:22.043046Z",
     "shell.execute_reply": "2021-08-19T03:29:22.043046Z",
     "shell.execute_reply.started": "2021-08-19T03:29:20.610764Z"
    }
   },
   "outputs": [],
   "source": [
    "name_list = list(set(zip(data['index'], data.repository_id))) #set() remove duplicates in list "
   ]
  },
  {
   "cell_type": "code",
   "execution_count": 7,
   "metadata": {
    "execution": {
     "iopub.execute_input": "2021-08-19T17:45:09.615056Z",
     "iopub.status.busy": "2021-08-19T17:45:09.615056Z",
     "iopub.status.idle": "2021-08-19T17:45:11.251797Z",
     "shell.execute_reply": "2021-08-19T17:45:11.251797Z",
     "shell.execute_reply.started": "2021-08-19T17:45:09.615056Z"
    }
   },
   "outputs": [],
   "source": [
    "name_list2020 = list(set(zip(data2['index'], data2['repository_id']))) #set() remove duplicates in list "
   ]
  },
  {
   "cell_type": "code",
   "execution_count": 6,
   "metadata": {
    "execution": {
     "iopub.execute_input": "2021-08-19T03:29:27.252184Z",
     "iopub.status.busy": "2021-08-19T03:29:27.252184Z",
     "iopub.status.idle": "2021-08-19T03:29:27.270259Z",
     "shell.execute_reply": "2021-08-19T03:29:27.270259Z",
     "shell.execute_reply.started": "2021-08-19T03:29:27.252184Z"
    }
   },
   "outputs": [
    {
     "data": {
      "text/plain": [
       "[('winnipeg_page_clicks', 'university_winnipeg'),\n",
       " ('iupui_ir_page_clicks', 'indiana_university_purdue_university_indianapolis'),\n",
       " ('shareok_page_clicks', 'oklahoma_shareok'),\n",
       " ('calgary_page_clicks', 'university_calgary'),\n",
       " ('krex_page_clicks', 'kansas_state_university'),\n",
       " ('u_montana_page_clicks', 'university_montana'),\n",
       " ('designsafe_ci_page_clicks', 'tacc_designsafe'),\n",
       " ('uop_pearl_page_clicks', 'university_plymouth'),\n",
       " ('caltech_thesis_page_clicks', 'california_tech_thesis'),\n",
       " ('new_mexico_dc_page_clicks', 'university_new_mexico'),\n",
       " ('ut_austin_page_clicks', 'university_texas'),\n",
       " ('swarthmore_inst-schol_page_clicks', 'swarthmore_tricollege_consortium'),\n",
       " ('u_arizona_page_clicks', 'university_arizona'),\n",
       " ('massey_page_clicks', 'massey_university'),\n",
       " ('boston_u_page_clicks', 'boston_university'),\n",
       " ('rutgers_page_clicks', 'rutgers_university'),\n",
       " ('strathprints_page_clicks', 'university_strathclyde'),\n",
       " ('epsilon_students_page_clicks',\n",
       "  'swedish_university_ag_sci_student_projects'),\n",
       " ('md_drum_page_clicks', 'maryland_drum'),\n",
       " ('univ_kentucky_page_clicks', 'university_kentucky'),\n",
       " ('epsilon_page_clicks', 'swedish_university_ag_sci_archive'),\n",
       " ('northeastern_page_clicks', 'northeastern_university'),\n",
       " ('viurr_page_clicks', 'vancouver_island_royal_roads_universities'),\n",
       " ('unlv_digital_page_clicks', 'university_nevada_las_vegas'),\n",
       " ('swarthmore_page_clicks', 'swarthmore_college'),\n",
       " ('w_cape_etd_page_clicks', 'university_western_cape_etd'),\n",
       " ('ifpri_rep_page_clicks', 'international_food_policy_research_inst'),\n",
       " ('ds_pitt_page_clicks', 'university_pittsburgh'),\n",
       " ('w_cape_repo_page_clicks', 'university_western_cape_repository'),\n",
       " ('colorado_page_clicks', 'colorado_wyoming_mtn_scholar'),\n",
       " ('nku_page_clicks', 'northern_kentucky_university'),\n",
       " ('wollongong_page_clicks', 'university_wollongong'),\n",
       " ('u_waterloo_page_clicks', 'university_waterloo'),\n",
       " ('mcmaster_page_clicks', 'mcmaster_university'),\n",
       " ('shsu_ir_page_clicks', 'sam_houston_state_university'),\n",
       " ('unlincoln_dc_page_clicks', 'university_nebraska_lincoln'),\n",
       " ('caltech_authors_page_clicks', 'california_tech_authors'),\n",
       " ('uni_laval_page_clicks', 'université_laval'),\n",
       " ('cuhk_repo_page_clicks', 'chinese_university_hong_kong_digital_repository'),\n",
       " ('cuhk_ds_page_clicks', 'chinese_university_hong_kong_digital_projects'),\n",
       " ('brock_u_page_clicks', 'brock_university'),\n",
       " ('montana_page_clicks', 'montana_state_university'),\n",
       " ('um_page_clicks', 'university_michigan'),\n",
       " ('va_tech_page_clicks', 'virginia_tech'),\n",
       " ('md_soar_page_clicks', 'maryland_soar')]"
      ]
     },
     "execution_count": 6,
     "metadata": {},
     "output_type": "execute_result"
    }
   ],
   "source": [
    "name_list"
   ]
  },
  {
   "cell_type": "code",
   "execution_count": 8,
   "metadata": {
    "execution": {
     "iopub.execute_input": "2021-08-19T17:47:38.307206Z",
     "iopub.status.busy": "2021-08-19T17:47:38.307206Z",
     "iopub.status.idle": "2021-08-19T17:47:38.329343Z",
     "shell.execute_reply": "2021-08-19T17:47:38.329343Z",
     "shell.execute_reply.started": "2021-08-19T17:47:38.307206Z"
    }
   },
   "outputs": [
    {
     "data": {
      "text/plain": [
       "[('uop_pearl_page_clicks', 'university_plymouth'),\n",
       " ('cdl_escholarship_page_clicks', 'california_digital_library'),\n",
       " ('cuhk_ds_page_clicks', 'chinese_university_hong_kong_digital_projects'),\n",
       " ('un_reno_page_clicks', 'university_nevada_reno'),\n",
       " ('seafdec_ir_page_clicks', 'southeast_asian_fisheries_dev_ctr'),\n",
       " ('krex_page_clicks', 'kansas_state_university'),\n",
       " ('cuhk_repo_page_clicks', 'chinese_university_hong_kong_digital_repository'),\n",
       " ('caltech_thesis_page_clicks', 'california_tech_thesis'),\n",
       " ('univ_kentucky_page_clicks', 'university_kentucky'),\n",
       " ('iit_repository_page_clicks', 'illinois_institute_technology'),\n",
       " ('md_drum_page_clicks', 'maryland_drum'),\n",
       " ('unlincoln_dc_page_clicks', 'university_nebraska_lincoln'),\n",
       " ('iupui_ir_page_clicks', 'indiana_university_purdue_university_indianapolis'),\n",
       " ('swarthmore_page_clicks', 'swarthmore_college'),\n",
       " ('winnipeg_page_clicks', 'university_winnipeg'),\n",
       " ('colorado_page_clicks', 'colorado_wyoming_mtn_scholar'),\n",
       " ('montana_page_clicks', 'montana_state_university'),\n",
       " ('um_page_clicks', 'university_michigan'),\n",
       " ('asu_ir_page_clicks', 'arizona_state_digital'),\n",
       " ('ut_austin_page_clicks', 'university_texas'),\n",
       " ('new_mexico_dc_page_clicks', 'university_new_mexico'),\n",
       " ('northeastern_page_clicks', 'northeastern_university'),\n",
       " ('viurr_page_clicks', 'vancouver_island_royal_roads_universities'),\n",
       " ('va_tech_page_clicks', 'virginia_tech'),\n",
       " ('uni_laval_page_clicks', 'université_laval'),\n",
       " ('u_arizona_page_clicks', 'university_arizona'),\n",
       " ('epsilon_students_page_clicks',\n",
       "  'swedish_university_ag_sci_student_projects'),\n",
       " ('rutgers_page_clicks', 'rutgers_university'),\n",
       " ('smithsonian_page_clicks', 'smithsonian_research'),\n",
       " ('mcmaster_page_clicks', 'mcmaster_university'),\n",
       " ('epsilon_page_clicks', 'swedish_university_ag_sci_archive'),\n",
       " ('shsu_ir_page_clicks', 'sam_houston_state_university'),\n",
       " ('u_montana_page_clicks', 'university_montana'),\n",
       " ('caltech_authors_page_clicks', 'california_tech_authors'),\n",
       " ('unlv_digital_page_clicks', 'university_nevada_las_vegas'),\n",
       " ('ifpri_rep_page_clicks', 'international_food_policy_research_inst'),\n",
       " ('tdl_houston_page_clicks', 'university_houston'),\n",
       " ('acu_researchbank_page_clicks', 'australian_catholic_university'),\n",
       " ('w_cape_repo_page_clicks', 'university_western_cape_repository'),\n",
       " ('ds_pitt_page_clicks', 'university_pittsburgh'),\n",
       " ('brock_u_page_clicks', 'brock_university'),\n",
       " ('md_soar_page_clicks', 'maryland_soar'),\n",
       " ('swarthmore_inst-schol_page_clicks', 'swarthmore_tricollege_consortium'),\n",
       " ('vcu_sch_compass_page_clicks', 'virginia_commonwealth_university'),\n",
       " ('wollongong_page_clicks', 'university_wollongong'),\n",
       " ('iastate_digital_page_clicks', 'iowa_state_university'),\n",
       " ('cornell_ecommons_page_clicks', 'cornell_university'),\n",
       " ('designsafe_ci_page_clicks', 'tacc_designsafe'),\n",
       " ('shareok_page_clicks', 'oklahoma_shareok'),\n",
       " ('boston_u_page_clicks', 'boston_university'),\n",
       " ('texas_am_page_clicks', 'texas_am_university'),\n",
       " ('umn_digital_conservancy_page_clicks', 'university_minnesota'),\n",
       " ('strathprints_page_clicks', 'university_strathclyde'),\n",
       " ('rsvpu_elar_page_clicks', 'russian_state_vocational_pedagogical_university'),\n",
       " ('nku_page_clicks', 'northern_kentucky_university'),\n",
       " ('massey_page_clicks', 'massey_university'),\n",
       " ('w_cape_etd_page_clicks', 'university_western_cape_etd'),\n",
       " ('u_waterloo_page_clicks', 'university_waterloo')]"
      ]
     },
     "execution_count": 8,
     "metadata": {},
     "output_type": "execute_result"
    }
   ],
   "source": [
    "name_list2020"
   ]
  },
  {
   "cell_type": "code",
   "execution_count": 8,
   "metadata": {
    "execution": {
     "iopub.execute_input": "2021-08-19T03:31:42.672883Z",
     "iopub.status.busy": "2021-08-19T03:31:42.672883Z",
     "iopub.status.idle": "2021-08-19T03:31:42.695012Z",
     "shell.execute_reply": "2021-08-19T03:31:42.695012Z",
     "shell.execute_reply.started": "2021-08-19T03:31:42.672883Z"
    }
   },
   "outputs": [],
   "source": [
    "institution = pd.DataFrame(name_list)"
   ]
  },
  {
   "cell_type": "code",
   "execution_count": 9,
   "metadata": {
    "execution": {
     "iopub.execute_input": "2021-08-19T17:47:46.395216Z",
     "iopub.status.busy": "2021-08-19T17:47:46.395216Z",
     "iopub.status.idle": "2021-08-19T17:47:46.410834Z",
     "shell.execute_reply": "2021-08-19T17:47:46.410834Z",
     "shell.execute_reply.started": "2021-08-19T17:47:46.395216Z"
    }
   },
   "outputs": [],
   "source": [
    "institution2020 = pd.DataFrame(name_list2020)"
   ]
  },
  {
   "cell_type": "code",
   "execution_count": 13,
   "metadata": {
    "execution": {
     "iopub.execute_input": "2021-08-19T03:34:04.911292Z",
     "iopub.status.busy": "2021-08-19T03:34:04.911292Z",
     "iopub.status.idle": "2021-08-19T03:34:04.942533Z",
     "shell.execute_reply": "2021-08-19T03:34:04.942533Z",
     "shell.execute_reply.started": "2021-08-19T03:34:04.911292Z"
    }
   },
   "outputs": [
    {
     "data": {
      "text/html": [
       "<div>\n",
       "<style scoped>\n",
       "    .dataframe tbody tr th:only-of-type {\n",
       "        vertical-align: middle;\n",
       "    }\n",
       "\n",
       "    .dataframe tbody tr th {\n",
       "        vertical-align: top;\n",
       "    }\n",
       "\n",
       "    .dataframe thead th {\n",
       "        text-align: right;\n",
       "    }\n",
       "</style>\n",
       "<table border=\"1\" class=\"dataframe\">\n",
       "  <thead>\n",
       "    <tr style=\"text-align: right;\">\n",
       "      <th></th>\n",
       "      <th>0</th>\n",
       "      <th>1</th>\n",
       "    </tr>\n",
       "  </thead>\n",
       "  <tbody>\n",
       "    <tr>\n",
       "      <th>0</th>\n",
       "      <td>winnipeg_page_clicks</td>\n",
       "      <td>university_winnipeg</td>\n",
       "    </tr>\n",
       "    <tr>\n",
       "      <th>1</th>\n",
       "      <td>iupui_ir_page_clicks</td>\n",
       "      <td>indiana_university_purdue_university_indianapolis</td>\n",
       "    </tr>\n",
       "    <tr>\n",
       "      <th>2</th>\n",
       "      <td>shareok_page_clicks</td>\n",
       "      <td>oklahoma_shareok</td>\n",
       "    </tr>\n",
       "    <tr>\n",
       "      <th>3</th>\n",
       "      <td>calgary_page_clicks</td>\n",
       "      <td>university_calgary</td>\n",
       "    </tr>\n",
       "    <tr>\n",
       "      <th>4</th>\n",
       "      <td>krex_page_clicks</td>\n",
       "      <td>kansas_state_university</td>\n",
       "    </tr>\n",
       "  </tbody>\n",
       "</table>\n",
       "</div>"
      ],
      "text/plain": [
       "                      0                                                  1\n",
       "0  winnipeg_page_clicks                                university_winnipeg\n",
       "1  iupui_ir_page_clicks  indiana_university_purdue_university_indianapolis\n",
       "2   shareok_page_clicks                                   oklahoma_shareok\n",
       "3   calgary_page_clicks                                 university_calgary\n",
       "4      krex_page_clicks                            kansas_state_university"
      ]
     },
     "execution_count": 13,
     "metadata": {},
     "output_type": "execute_result"
    }
   ],
   "source": [
    "institution.head()"
   ]
  },
  {
   "cell_type": "code",
   "execution_count": 10,
   "metadata": {
    "execution": {
     "iopub.execute_input": "2021-08-19T17:47:52.493853Z",
     "iopub.status.busy": "2021-08-19T17:47:52.493853Z",
     "iopub.status.idle": "2021-08-19T17:47:52.509470Z",
     "shell.execute_reply": "2021-08-19T17:47:52.509470Z",
     "shell.execute_reply.started": "2021-08-19T17:47:52.493853Z"
    }
   },
   "outputs": [
    {
     "data": {
      "text/html": [
       "<div>\n",
       "<style scoped>\n",
       "    .dataframe tbody tr th:only-of-type {\n",
       "        vertical-align: middle;\n",
       "    }\n",
       "\n",
       "    .dataframe tbody tr th {\n",
       "        vertical-align: top;\n",
       "    }\n",
       "\n",
       "    .dataframe thead th {\n",
       "        text-align: right;\n",
       "    }\n",
       "</style>\n",
       "<table border=\"1\" class=\"dataframe\">\n",
       "  <thead>\n",
       "    <tr style=\"text-align: right;\">\n",
       "      <th></th>\n",
       "      <th>0</th>\n",
       "      <th>1</th>\n",
       "    </tr>\n",
       "  </thead>\n",
       "  <tbody>\n",
       "    <tr>\n",
       "      <th>0</th>\n",
       "      <td>uop_pearl_page_clicks</td>\n",
       "      <td>university_plymouth</td>\n",
       "    </tr>\n",
       "    <tr>\n",
       "      <th>1</th>\n",
       "      <td>cdl_escholarship_page_clicks</td>\n",
       "      <td>california_digital_library</td>\n",
       "    </tr>\n",
       "    <tr>\n",
       "      <th>2</th>\n",
       "      <td>cuhk_ds_page_clicks</td>\n",
       "      <td>chinese_university_hong_kong_digital_projects</td>\n",
       "    </tr>\n",
       "    <tr>\n",
       "      <th>3</th>\n",
       "      <td>un_reno_page_clicks</td>\n",
       "      <td>university_nevada_reno</td>\n",
       "    </tr>\n",
       "    <tr>\n",
       "      <th>4</th>\n",
       "      <td>seafdec_ir_page_clicks</td>\n",
       "      <td>southeast_asian_fisheries_dev_ctr</td>\n",
       "    </tr>\n",
       "  </tbody>\n",
       "</table>\n",
       "</div>"
      ],
      "text/plain": [
       "                              0                                              1\n",
       "0         uop_pearl_page_clicks                            university_plymouth\n",
       "1  cdl_escholarship_page_clicks                     california_digital_library\n",
       "2           cuhk_ds_page_clicks  chinese_university_hong_kong_digital_projects\n",
       "3           un_reno_page_clicks                         university_nevada_reno\n",
       "4        seafdec_ir_page_clicks              southeast_asian_fisheries_dev_ctr"
      ]
     },
     "execution_count": 10,
     "metadata": {},
     "output_type": "execute_result"
    }
   ],
   "source": [
    "institution2020.head()"
   ]
  },
  {
   "cell_type": "code",
   "execution_count": 15,
   "metadata": {
    "execution": {
     "iopub.execute_input": "2021-08-19T03:35:04.870913Z",
     "iopub.status.busy": "2021-08-19T03:35:04.870913Z",
     "iopub.status.idle": "2021-08-19T03:35:04.886532Z",
     "shell.execute_reply": "2021-08-19T03:35:04.886532Z",
     "shell.execute_reply.started": "2021-08-19T03:35:04.870913Z"
    }
   },
   "outputs": [],
   "source": [
    "institution.to_csv(\"D://Documents//PycharmProjects//LEADING-RAMP//ir_data//Ramp2019//Export//institution.csv\")"
   ]
  },
  {
   "cell_type": "code",
   "execution_count": 11,
   "metadata": {
    "execution": {
     "iopub.execute_input": "2021-08-19T17:48:05.594660Z",
     "iopub.status.busy": "2021-08-19T17:48:05.594660Z",
     "iopub.status.idle": "2021-08-19T17:48:06.828849Z",
     "shell.execute_reply": "2021-08-19T17:48:06.828849Z",
     "shell.execute_reply.started": "2021-08-19T17:48:05.594660Z"
    }
   },
   "outputs": [],
   "source": [
    "institution2020.to_csv(\"D://Documents//PycharmProjects//LEADING-RAMP//ir_data//Ramp2020//Export//institution2020.csv\")"
   ]
  },
  {
   "cell_type": "markdown",
   "metadata": {
    "id": "TNMgU8ILQzxe"
   },
   "source": [
    "Test run a local spark session "
   ]
  },
  {
   "cell_type": "code",
   "execution_count": 16,
   "metadata": {
    "execution": {
     "iopub.execute_input": "2021-08-19T03:35:37.211838Z",
     "iopub.status.busy": "2021-08-19T03:35:37.211838Z",
     "iopub.status.idle": "2021-08-19T03:35:41.707115Z",
     "shell.execute_reply": "2021-08-19T03:35:41.707115Z",
     "shell.execute_reply.started": "2021-08-19T03:35:37.211838Z"
    }
   },
   "outputs": [
    {
     "name": "stdout",
     "output_type": "stream",
     "text": [
      "Name: pyspark\n",
      "Version: 3.1.2\n",
      "Summary: Apache Spark Python API\n",
      "Home-page: https://github.com/apache/spark/tree/master/python\n",
      "Author: Spark Developers\n",
      "Author-email: dev@spark.apache.org\n",
      "License: http://www.apache.org/licenses/LICENSE-2.0\n",
      "Location: d:\\program files\\python\\python38\\lib\\site-packages\n",
      "Requires: py4j\n",
      "Required-by: \n"
     ]
    },
    {
     "name": "stderr",
     "output_type": "stream",
     "text": [
      "WARNING: Ignoring invalid distribution -ip (d:\\program files\\python\\python38\\lib\\site-packages)\n"
     ]
    }
   ],
   "source": [
    "!pip3 show pyspark"
   ]
  },
  {
   "cell_type": "code",
   "execution_count": 17,
   "metadata": {
    "colab": {
     "base_uri": "https://localhost:8080/",
     "height": 34
    },
    "execution": {
     "iopub.execute_input": "2021-08-19T03:35:41.707115Z",
     "iopub.status.busy": "2021-08-19T03:35:41.707115Z",
     "iopub.status.idle": "2021-08-19T03:35:41.744868Z",
     "shell.execute_reply": "2021-08-19T03:35:41.744868Z",
     "shell.execute_reply.started": "2021-08-19T03:35:41.707115Z"
    },
    "id": "5NFPwVtERpDG",
    "outputId": "35d552fa-d14b-4c4d-9a5b-4d9374badcc4"
   },
   "outputs": [
    {
     "data": {
      "text/plain": [
       "'C:\\\\Program Files\\\\spark\\\\spark-3.1.2-bin-hadoop3.2'"
      ]
     },
     "execution_count": 17,
     "metadata": {},
     "output_type": "execute_result"
    }
   ],
   "source": [
    "import findspark\n",
    "findspark.find()"
   ]
  },
  {
   "cell_type": "code",
   "execution_count": 18,
   "metadata": {
    "execution": {
     "iopub.execute_input": "2021-08-19T03:35:41.744868Z",
     "iopub.status.busy": "2021-08-19T03:35:41.744868Z",
     "iopub.status.idle": "2021-08-19T03:35:41.776111Z",
     "shell.execute_reply": "2021-08-19T03:35:41.776111Z",
     "shell.execute_reply.started": "2021-08-19T03:35:41.744868Z"
    },
    "id": "uzqYqtSzQ0JN"
   },
   "outputs": [],
   "source": [
    "findspark.init()"
   ]
  },
  {
   "cell_type": "code",
   "execution_count": 19,
   "metadata": {
    "execution": {
     "iopub.execute_input": "2021-08-19T03:35:41.776111Z",
     "iopub.status.busy": "2021-08-19T03:35:41.776111Z",
     "iopub.status.idle": "2021-08-19T03:35:45.328623Z",
     "shell.execute_reply": "2021-08-19T03:35:45.328623Z",
     "shell.execute_reply.started": "2021-08-19T03:35:41.776111Z"
    },
    "id": "CtT1TD8ORcey"
   },
   "outputs": [],
   "source": [
    "from pyspark.sql import SparkSession\n",
    "spark = SparkSession.builder.master(\"local[*]\").getOrCreate()"
   ]
  },
  {
   "cell_type": "markdown",
   "metadata": {
    "id": "0TZ5D0BMy7r6"
   },
   "source": [
    "Print out the Spark Session info"
   ]
  },
  {
   "cell_type": "code",
   "execution_count": 20,
   "metadata": {
    "colab": {
     "base_uri": "https://localhost:8080/",
     "height": 214
    },
    "execution": {
     "iopub.execute_input": "2021-08-19T03:35:45.328623Z",
     "iopub.status.busy": "2021-08-19T03:35:45.328623Z",
     "iopub.status.idle": "2021-08-19T03:35:45.344244Z",
     "shell.execute_reply": "2021-08-19T03:35:45.344244Z",
     "shell.execute_reply.started": "2021-08-19T03:35:45.328623Z"
    },
    "id": "hcV78WPwyzzf",
    "outputId": "978d0598-8d14-4f18-8af5-e6b731cb66c6"
   },
   "outputs": [
    {
     "data": {
      "text/html": [
       "\n",
       "            <div>\n",
       "                <p><b>SparkSession - in-memory</b></p>\n",
       "                \n",
       "        <div>\n",
       "            <p><b>SparkContext</b></p>\n",
       "\n",
       "            <p><a href=\"http://DESKTOP-9JI9VUF.home:4040\">Spark UI</a></p>\n",
       "\n",
       "            <dl>\n",
       "              <dt>Version</dt>\n",
       "                <dd><code>v3.1.2</code></dd>\n",
       "              <dt>Master</dt>\n",
       "                <dd><code>local[*]</code></dd>\n",
       "              <dt>AppName</dt>\n",
       "                <dd><code>pyspark-shell</code></dd>\n",
       "            </dl>\n",
       "        </div>\n",
       "        \n",
       "            </div>\n",
       "        "
      ],
      "text/plain": [
       "<pyspark.sql.session.SparkSession at 0x1da1a3ad070>"
      ]
     },
     "execution_count": 20,
     "metadata": {},
     "output_type": "execute_result"
    }
   ],
   "source": [
    "spark"
   ]
  },
  {
   "cell_type": "markdown",
   "metadata": {
    "id": "fAwnB1bAzOG3"
   },
   "source": [
    "Loading Data into PySpark"
   ]
  },
  {
   "cell_type": "code",
   "execution_count": 21,
   "metadata": {
    "execution": {
     "iopub.execute_input": "2021-08-19T03:35:45.344244Z",
     "iopub.status.busy": "2021-08-19T03:35:45.344244Z",
     "iopub.status.idle": "2021-08-19T03:36:24.547341Z",
     "shell.execute_reply": "2021-08-19T03:36:24.547341Z",
     "shell.execute_reply.started": "2021-08-19T03:35:45.344244Z"
    }
   },
   "outputs": [],
   "source": [
    "import zipfile as zf\n",
    "files = zf.ZipFile(\"D:\\\\Documents\\\\PycharmProjects\\\\LEADING-RAMP\\\\ir_data\\\\ramp_2020.zip\", 'r')\n",
    "files.extractall('D:\\\\Documents\\\\PycharmProjects\\\\LEADING-RAMP\\\\ir_data\\\\Ramp2020')\n",
    "files.close()"
   ]
  },
  {
   "cell_type": "code",
   "execution_count": 22,
   "metadata": {
    "execution": {
     "iopub.execute_input": "2021-08-19T03:36:24.551342Z",
     "iopub.status.busy": "2021-08-19T03:36:24.551342Z",
     "iopub.status.idle": "2021-08-19T03:36:28.625144Z",
     "shell.execute_reply": "2021-08-19T03:36:28.625144Z",
     "shell.execute_reply.started": "2021-08-19T03:36:24.551342Z"
    },
    "id": "MXwbP6jxy5xO"
   },
   "outputs": [],
   "source": [
    "df = spark.read.csv(\"D:\\\\Documents\\\\PycharmProjects\\\\LEADING-RAMP\\\\ir_data\\\\Ramp2019\\\\2019-01_page-clicks.csv\", header=True, inferSchema=True )"
   ]
  },
  {
   "cell_type": "code",
   "execution_count": 23,
   "metadata": {
    "colab": {
     "base_uri": "https://localhost:8080/"
    },
    "execution": {
     "iopub.execute_input": "2021-08-19T03:36:28.626141Z",
     "iopub.status.busy": "2021-08-19T03:36:28.626141Z",
     "iopub.status.idle": "2021-08-19T03:36:28.641101Z",
     "shell.execute_reply": "2021-08-19T03:36:28.641101Z",
     "shell.execute_reply.started": "2021-08-19T03:36:28.626141Z"
    },
    "id": "CALP4-Up0uqj",
    "outputId": "0833130e-676b-47c2-8489-3bb9e3bfb30b"
   },
   "outputs": [
    {
     "name": "stdout",
     "output_type": "stream",
     "text": [
      "root\n",
      " |-- position: double (nullable = true)\n",
      " |-- citableContent: string (nullable = true)\n",
      " |-- clickThrough: double (nullable = true)\n",
      " |-- url: string (nullable = true)\n",
      " |-- impressions: double (nullable = true)\n",
      " |-- date: string (nullable = true)\n",
      " |-- clicks: double (nullable = true)\n",
      " |-- index: string (nullable = true)\n",
      " |-- repository_id: string (nullable = true)\n",
      "\n"
     ]
    }
   ],
   "source": [
    "df.printSchema()"
   ]
  },
  {
   "cell_type": "code",
   "execution_count": 24,
   "metadata": {
    "colab": {
     "base_uri": "https://localhost:8080/"
    },
    "execution": {
     "iopub.execute_input": "2021-08-19T03:36:28.643097Z",
     "iopub.status.busy": "2021-08-19T03:36:28.642099Z",
     "iopub.status.idle": "2021-08-19T03:36:28.800674Z",
     "shell.execute_reply": "2021-08-19T03:36:28.800674Z",
     "shell.execute_reply.started": "2021-08-19T03:36:28.643097Z"
    },
    "id": "5uhW4nS70u1Y",
    "outputId": "d6d136f2-c378-4279-9a68-d5ad9789f1bd"
   },
   "outputs": [
    {
     "name": "stdout",
     "output_type": "stream",
     "text": [
      "+--------+--------------+------------+--------------------+-----------+----------+------+--------------------+--------------------+\n",
      "|position|citableContent|clickThrough|                 url|impressions|      date|clicks|               index|       repository_id|\n",
      "+--------+--------------+------------+--------------------+-----------+----------+------+--------------------+--------------------+\n",
      "|     9.5|           Yes|         0.0|https://scholarwo...|        2.0|2019-01-17|   0.0|iupui_ir_page_clicks|indiana_universit...|\n",
      "|   101.5|           Yes|         0.0|http://dr.library...|        2.0|2019-01-30|   0.0| brock_u_page_clicks|    brock_university|\n",
      "|    26.0|           Yes|         0.0|https://repositor...|        1.0|2019-01-31|   0.0|u_arizona_page_cl...|  university_arizona|\n",
      "|    40.5|           Yes|         0.0|https://scholarwo...|        2.0|2019-01-17|   0.0|iupui_ir_page_clicks|indiana_universit...|\n",
      "|    25.5|           Yes|         0.0|http://dr.library...|        2.0|2019-01-30|   0.0| brock_u_page_clicks|    brock_university|\n",
      "+--------+--------------+------------+--------------------+-----------+----------+------+--------------------+--------------------+\n",
      "only showing top 5 rows\n",
      "\n"
     ]
    }
   ],
   "source": [
    "df.show(5)"
   ]
  },
  {
   "cell_type": "code",
   "execution_count": 25,
   "metadata": {
    "colab": {
     "base_uri": "https://localhost:8080/"
    },
    "execution": {
     "iopub.execute_input": "2021-08-19T03:36:28.802669Z",
     "iopub.status.busy": "2021-08-19T03:36:28.801672Z",
     "iopub.status.idle": "2021-08-19T03:36:29.513767Z",
     "shell.execute_reply": "2021-08-19T03:36:29.512770Z",
     "shell.execute_reply.started": "2021-08-19T03:36:28.802669Z"
    },
    "id": "XGzTi3Vf05JN",
    "outputId": "28be73e0-80a1-4b32-ae0f-da99cf1fd4aa"
   },
   "outputs": [
    {
     "data": {
      "text/plain": [
       "9175650"
      ]
     },
     "execution_count": 25,
     "metadata": {},
     "output_type": "execute_result"
    }
   ],
   "source": [
    "df.count() #Number of rows in Spark Dataframe"
   ]
  },
  {
   "cell_type": "code",
   "execution_count": 26,
   "metadata": {
    "execution": {
     "iopub.execute_input": "2021-08-19T03:36:29.514765Z",
     "iopub.status.busy": "2021-08-19T03:36:29.514765Z",
     "iopub.status.idle": "2021-08-19T03:36:29.545682Z",
     "shell.execute_reply": "2021-08-19T03:36:29.544684Z",
     "shell.execute_reply.started": "2021-08-19T03:36:29.514765Z"
    },
    "id": "RVRbf0e605UD"
   },
   "outputs": [],
   "source": [
    "sub_jan19 = df.select(\"index\", \"clicks\", \"date\", \"repository_id\") #Subsetting the needed columns: index, clicks, date, and repository_id "
   ]
  },
  {
   "cell_type": "code",
   "execution_count": 27,
   "metadata": {
    "colab": {
     "base_uri": "https://localhost:8080/"
    },
    "execution": {
     "iopub.execute_input": "2021-08-19T03:36:29.546679Z",
     "iopub.status.busy": "2021-08-19T03:36:29.546679Z",
     "iopub.status.idle": "2021-08-19T03:36:29.622476Z",
     "shell.execute_reply": "2021-08-19T03:36:29.622476Z",
     "shell.execute_reply.started": "2021-08-19T03:36:29.546679Z"
    },
    "id": "P5xxHgnr2BwO",
    "outputId": "90653d8a-16de-4209-cd83-ea5f8b1dba3b"
   },
   "outputs": [
    {
     "name": "stdout",
     "output_type": "stream",
     "text": [
      "+--------------------+------+----------+--------------------+\n",
      "|               index|clicks|      date|       repository_id|\n",
      "+--------------------+------+----------+--------------------+\n",
      "|iupui_ir_page_clicks|   0.0|2019-01-17|indiana_universit...|\n",
      "| brock_u_page_clicks|   0.0|2019-01-30|    brock_university|\n",
      "|u_arizona_page_cl...|   0.0|2019-01-31|  university_arizona|\n",
      "|iupui_ir_page_clicks|   0.0|2019-01-17|indiana_universit...|\n",
      "| brock_u_page_clicks|   0.0|2019-01-30|    brock_university|\n",
      "+--------------------+------+----------+--------------------+\n",
      "only showing top 5 rows\n",
      "\n"
     ]
    }
   ],
   "source": [
    "sub_jan19.show(5) #View the first 5 rows of subset data "
   ]
  },
  {
   "cell_type": "code",
   "execution_count": 28,
   "metadata": {
    "colab": {
     "base_uri": "https://localhost:8080/"
    },
    "execution": {
     "iopub.execute_input": "2021-08-19T03:36:29.623474Z",
     "iopub.status.busy": "2021-08-19T03:36:29.623474Z",
     "iopub.status.idle": "2021-08-19T03:36:31.775886Z",
     "shell.execute_reply": "2021-08-19T03:36:31.775886Z",
     "shell.execute_reply.started": "2021-08-19T03:36:29.623474Z"
    },
    "id": "2dcA6H7Q2VkX",
    "outputId": "ed51f6be-e5ff-4255-b036-303f8f4c14ea"
   },
   "outputs": [
    {
     "data": {
      "text/plain": [
       "45"
      ]
     },
     "execution_count": 28,
     "metadata": {},
     "output_type": "execute_result"
    }
   ],
   "source": [
    "sub_jan19.select(\"repository_id\").distinct().count() #Check the number of IR in the January 2019 dataset "
   ]
  },
  {
   "cell_type": "code",
   "execution_count": 29,
   "metadata": {
    "colab": {
     "base_uri": "https://localhost:8080/"
    },
    "execution": {
     "iopub.execute_input": "2021-08-19T03:36:31.783887Z",
     "iopub.status.busy": "2021-08-19T03:36:31.779887Z",
     "iopub.status.idle": "2021-08-19T03:36:33.581508Z",
     "shell.execute_reply": "2021-08-19T03:36:33.581508Z",
     "shell.execute_reply.started": "2021-08-19T03:36:31.783887Z"
    },
    "id": "4N3fyeGR3yGp",
    "outputId": "276c818c-8346-415f-867f-ae1bd5a1d685"
   },
   "outputs": [
    {
     "name": "stdout",
     "output_type": "stream",
     "text": [
      "+--------------------+-----------+\n",
      "|       repository_id|sum(clicks)|\n",
      "+--------------------+-----------+\n",
      "| university_michigan|   175170.0|\n",
      "|vancouver_island_...|     6502.0|\n",
      "|chinese_universit...|     2826.0|\n",
      "|international_foo...|    11591.0|\n",
      "|     tacc_designsafe|     1473.0|\n",
      "|  university_calgary|      146.0|\n",
      "|swedish_universit...|    32374.0|\n",
      "|    oklahoma_shareok|    35670.0|\n",
      "| university_kentucky|    77478.0|\n",
      "|northeastern_univ...|    29342.0|\n",
      "|indiana_universit...|    29632.0|\n",
      "|university_pittsb...|    53922.0|\n",
      "|swarthmore_tricol...|     6427.0|\n",
      "|university_nebras...|   400916.0|\n",
      "|    university_texas|    82890.0|\n",
      "|university_new_me...|    57343.0|\n",
      "| university_plymouth|    10919.0|\n",
      "|university_wester...|    30449.0|\n",
      "|montana_state_uni...|    27406.0|\n",
      "|university_wester...|     6196.0|\n",
      "+--------------------+-----------+\n",
      "only showing top 20 rows\n",
      "\n"
     ]
    }
   ],
   "source": [
    "from pyspark.sql import functions as F\n",
    "df.groupBy(\"repository_id\").agg(F.sum(\"clicks\")).show()"
   ]
  }
 ],
 "metadata": {
  "colab": {
   "collapsed_sections": [],
   "name": "RAMP2019data.ipynb",
   "provenance": []
  },
  "kernelspec": {
   "display_name": "Python 3",
   "language": "python",
   "name": "python3"
  },
  "language_info": {
   "codemirror_mode": {
    "name": "ipython",
    "version": 3
   },
   "file_extension": ".py",
   "mimetype": "text/x-python",
   "name": "python",
   "nbconvert_exporter": "python",
   "pygments_lexer": "ipython3",
   "version": "3.8.6"
  }
 },
 "nbformat": 4,
 "nbformat_minor": 4
}
