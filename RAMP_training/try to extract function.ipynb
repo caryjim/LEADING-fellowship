{
 "cells": [
  {
   "cell_type": "code",
   "execution_count": null,
   "metadata": {},
   "outputs": [],
   "source": [
    "import pandas as pd\n",
    "from zipfile import ZipFile\n",
    "import globimport pandas as pd\n",
    "import glob"
   ]
  },
  {
   "cell_type": "markdown",
   "metadata": {},
   "source": [
    "https://stackoverflow.com/questions/46379019/pick-only-columns-name-from-csv-files-without-reading-entire-data-python-3-6"
   ]
  },
  {
   "cell_type": "code",
   "execution_count": 17,
   "metadata": {
    "execution": {
     "iopub.execute_input": "2021-08-19T03:23:00.490067Z",
     "iopub.status.busy": "2021-08-19T03:23:00.490067Z",
     "iopub.status.idle": "2021-08-19T03:23:00.505688Z",
     "shell.execute_reply": "2021-08-19T03:23:00.505688Z",
     "shell.execute_reply.started": "2021-08-19T03:23:00.490067Z"
    }
   },
   "outputs": [],
   "source": [
    "def get_v2_pc_data(ir_repo_id):\n",
    "    \"\"\"This function aggregates all RAMP page click data harvested for a single\n",
    "       IR since August 19, 2018 (\"v2\" data). Column names for those data are\n",
    "       hard coded. A list of data files is also generated.\n",
    "\n",
    "    Parameters\n",
    "    ----------\n",
    "\n",
    "    ir_repo_id:\n",
    "        String. A locally unique repository identifier, designating the\n",
    "        repository whose data will be aggregated.\n",
    "\n",
    "    Returns\n",
    "    -------\n",
    "\n",
    "    ir_v2_pc_data:\n",
    "        A Pandas dataframe. The aggregated RAMP page clicks data for the\n",
    "        specified IR across all months included in the pageclick_data_file_list.\n",
    "    \"\"\"\n",
    "    pageclick_cols = ['citableContent', 'clickThrough', 'clicks', 'date',\n",
    "                      'impressions', 'index', 'position', 'url',\n",
    "                      'repository_id']\n",
    "    pageclick_data_file_list = glob.glob(\"D:/Documents/PycharmProjects/LEADING-RAMP/ir_data/Ramp2019/*all_page-clicks.zip\")\n",
    "    ir_v2_pc_data = get_ir_data(ir_repo_id, pageclick_cols,\n",
    "                                pageclick_data_file_list)\n",
    "    return ir_v2_pc_data"
   ]
  },
  {
   "cell_type": "code",
   "execution_count": null,
   "metadata": {},
   "outputs": [],
   "source": []
  },
  {
   "cell_type": "code",
   "execution_count": 19,
   "metadata": {
    "execution": {
     "iopub.execute_input": "2021-08-19T03:23:00.527830Z",
     "iopub.status.busy": "2021-08-19T03:23:00.527830Z",
     "iopub.status.idle": "2021-08-19T03:23:00.543450Z",
     "shell.execute_reply": "2021-08-19T03:23:00.543450Z",
     "shell.execute_reply.started": "2021-08-19T03:23:00.527830Z"
    }
   },
   "outputs": [],
   "source": [
    "def process_repo(ir_repo_id):\n",
    "    \"\"\"This is basically a workflow function that calls all the other functions.\n",
    "\n",
    "    Parameters\n",
    "    ----------\n",
    "\n",
    "    ir_repo_id:\n",
    "       String. A locally unique identifier for the repository whose data will\n",
    "       be aggregated.\n",
    "\n",
    "    Returns\n",
    "    -------\n",
    "\n",
    "    ir_complete_pc_data:\n",
    "       A Pandas dataframe. The aggregated page click data across all the\n",
    "       years/months specified for the specified repository.\n",
    "\n",
    "    ir_complete_ai_data:\n",
    "       A Pandas dataframe. The aggreated country/device data across all the\n",
    "       years/months specified for the specified repository.\n",
    "\n",
    "    \"\"\"\n",
    "    ir_v1_data = get_v1_data(ir_repo_id)\n",
    "    ir_v2_pc_data = get_v2_pc_data(ir_repo_id)\n",
    "    #ir_v2_ai_data = get_v2_ai_data(ir_repo_id)\n",
    "    ir_complete_pc_data = concat_ramp_versions(ir_v1_data, ir_v2_pc_data)\n",
    "    #ir_complete_ai_data = concat_ramp_versions(ir_v1_data, ir_v2_ai_data)\n",
    "    return ir_complete_pc_data #, ir_complete_ai_data"
   ]
  },
  {
   "cell_type": "code",
   "execution_count": null,
   "metadata": {},
   "outputs": [],
   "source": []
  },
  {
   "cell_type": "code",
   "execution_count": null,
   "metadata": {},
   "outputs": [],
   "source": []
  },
  {
   "cell_type": "code",
   "execution_count": null,
   "metadata": {},
   "outputs": [],
   "source": []
  }
 ],
 "metadata": {
  "kernelspec": {
   "display_name": "Python 3",
   "language": "python",
   "name": "python3"
  },
  "language_info": {
   "codemirror_mode": {
    "name": "ipython",
    "version": 3
   },
   "file_extension": ".py",
   "mimetype": "text/x-python",
   "name": "python",
   "nbconvert_exporter": "python",
   "pygments_lexer": "ipython3",
   "version": "3.8.6"
  }
 },
 "nbformat": 4,
 "nbformat_minor": 4
}
