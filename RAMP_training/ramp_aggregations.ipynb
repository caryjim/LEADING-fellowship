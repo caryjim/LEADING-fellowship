{
 "cells": [
  {
   "cell_type": "code",
   "execution_count": 2,
   "metadata": {
    "execution": {
     "iopub.execute_input": "2021-09-14T16:44:23.258701Z",
     "iopub.status.busy": "2021-09-14T16:44:23.258701Z",
     "iopub.status.idle": "2021-09-14T16:44:26.865333Z",
     "shell.execute_reply": "2021-09-14T16:44:26.865333Z",
     "shell.execute_reply.started": "2021-09-14T16:44:23.258701Z"
    }
   },
   "outputs": [],
   "source": [
    "# %run ramp_aggregations.py"
   ]
  },
  {
   "cell_type": "code",
   "execution_count": null,
   "metadata": {},
   "outputs": [],
   "source": [
    "from aggregation_helpers import *\n",
    "\n",
    "\n",
    "def get_global_daily_clicks():\n",
    "    all_data_file_list = glob.glob(\"./ramp_zipped/*/*all.zip\")\n",
    "    pageclick_data_file_list = glob.glob(\"./ramp_zipped/*/*all_page-clicks.zip\")\n",
    "    demographic_data_file_list = glob.glob(\"./ramp_zipped/*/*all_country-device-info.zip\")\n",
    "    day_pc_clicks_df, day_ai_clicks_df = process_global_daily_clicks(all_data_file_list,\n",
    "                                                                     pageclick_data_file_list,\n",
    "                                                                     demographic_data_file_list)\n",
    "    day_pc_clicks_df.to_csv(\"RAMP_complete_daily_pc_clicks.csv\", index=False)\n",
    "    day_ai_clicks_df.to_csv(\"RAMP_complete_daily_ai_clicks.csv\", index=False)\n",
    "    return\n",
    "\n",
    "\n",
    "def get_per_ir_daily_clicks():\n",
    "    ir_info = pd.read_csv(\"RAMP_repository_info.csv\")\n",
    "    for ir in sorted(ir_info[\"repository_id\"]):\n",
    "        print(ir)\n",
    "        ir_pc_data, ir_ai_data = process_repo_day_clicks(ir)\n",
    "        ir_pc_data.to_csv(\"daily_clicks/\" + ir + \"_RAMP_pc_daily_clicks.csv\", index=False)\n",
    "        ir_ai_data.to_csv(\"daily_clicks/\" + ir + \"_RAMP_ai_daily_clicks.csv\", index=False)\n",
    "    return\n",
    "\n",
    "\n",
    "# Uncomment below to get global RAMP daily clicksums and save to file\n",
    "# get_global_daily_clicks()\n",
    "\n",
    "\n",
    "# Uncomment below to get per-IR daily clicksums and save to file\n",
    "# get_per_ir_daily_clicks()"
   ]
  }
 ],
 "metadata": {
  "kernelspec": {
   "display_name": "Python 3",
   "language": "python",
   "name": "python3"
  },
  "language_info": {
   "codemirror_mode": {
    "name": "ipython",
    "version": 3
   },
   "file_extension": ".py",
   "mimetype": "text/x-python",
   "name": "python",
   "nbconvert_exporter": "python",
   "pygments_lexer": "ipython3",
   "version": "3.8.6"
  }
 },
 "nbformat": 4,
 "nbformat_minor": 4
}
